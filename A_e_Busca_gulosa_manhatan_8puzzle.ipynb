{
  "nbformat": 4,
  "nbformat_minor": 0,
  "metadata": {
    "colab": {
      "provenance": [],
      "authorship_tag": "ABX9TyPQl0Jupl7sEdY4lVsRI1x6",
      "include_colab_link": true
    },
    "kernelspec": {
      "name": "python3",
      "display_name": "Python 3"
    },
    "language_info": {
      "name": "python"
    }
  },
  "cells": [
    {
      "cell_type": "markdown",
      "metadata": {
        "id": "view-in-github",
        "colab_type": "text"
      },
      "source": [
        "<a href=\"https://colab.research.google.com/github/fernxndess/eu-facul/blob/main/A_e_Busca_gulosa_manhatan_8puzzle.ipynb\" target=\"_parent\"><img src=\"https://colab.research.google.com/assets/colab-badge.svg\" alt=\"Open In Colab\"/></a>"
      ]
    },
    {
      "cell_type": "markdown",
      "source": [
        "**Seguindo as resoluções para o problema 8 puzzle, agora implementaremos os algoritmos A* e Busca Gulosa, ambos utilizando a heurística distância Manhatan**"
      ],
      "metadata": {
        "id": "L25s3wLRt7pU"
      }
    },
    {
      "cell_type": "markdown",
      "source": [
        "# **Primeiro, o código utilizando o método de busca A*:**"
      ],
      "metadata": {
        "id": "2yo1jhOxuW__"
      }
    },
    {
      "cell_type": "code",
      "source": [
        "import time\n",
        "from collections import deque\n",
        "import heapq\n",
        "\n",
        "MOVES = {\n",
        "    -3: 'Up',\n",
        "     3: 'Down',\n",
        "    -1: 'Left',\n",
        "     1: 'Right'\n",
        "}\n",
        "\n",
        "def get_posicoes_vizinhas(index):\n",
        "    moves = []\n",
        "    row, col = divmod(index, 3)\n",
        "    if row > 0: moves.append(-3)\n",
        "    if row < 2: moves.append(3)\n",
        "    if col > 0: moves.append(-1)\n",
        "    if col < 2: moves.append(1)\n",
        "    return moves\n",
        "\n",
        "def mover(puzzle, move):\n",
        "    zero_idx = puzzle.index(0)\n",
        "    swap_idx = zero_idx + move\n",
        "    puzzle = list(puzzle)\n",
        "    puzzle[zero_idx], puzzle[swap_idx] = puzzle[swap_idx], puzzle[zero_idx]\n",
        "    return tuple(puzzle)\n",
        "\n",
        "def heuristica_manhattan(puzzle):\n",
        "    distancia = 0\n",
        "    for i, val in enumerate(puzzle):\n",
        "        if val == 0:\n",
        "            continue\n",
        "        row, col = divmod(i, 3)\n",
        "        objetivo_row, objetivo_col = divmod(val - 1, 3)\n",
        "        distancia += abs(row - objetivo_row) + abs(col - objetivo_col)\n",
        "    return distancia\n",
        "\n",
        "def astar(puzzle_inicial):\n",
        "    objetivo = (1, 2, 3, 4, 5, 6, 7, 8, 0)\n",
        "    start_time = time.process_time()\n",
        "\n",
        "    heap = []\n",
        "    heapq.heappush(heap, (0 + heuristica_manhattan(puzzle_inicial), 0, puzzle_inicial, []))\n",
        "    visitados = set()\n",
        "\n",
        "    nodes_expanded = 0\n",
        "    max_fringe_size = 0\n",
        "    max_depth = 0\n",
        "\n",
        "    while heap:\n",
        "        max_fringe_size = max(max_fringe_size, len(heap))\n",
        "        f, g, estado, caminho = heapq.heappop(heap)\n",
        "\n",
        "        if estado == objetivo:\n",
        "            end_time = time.process_time()\n",
        "            return {\n",
        "                \"path_to_goal\": caminho,\n",
        "                \"cost_of_path\": len(caminho),\n",
        "                \"nodes_expanded\": nodes_expanded,\n",
        "                \"fringe_size\": len(heap),\n",
        "                \"max_fringe_size\": max_fringe_size,\n",
        "                \"search_depth\": g,\n",
        "                \"max_search_depth\": max_depth,\n",
        "                \"running_time\": round(end_time - start_time, 8),\n",
        "                \"metodo\": \"A* com heuristica de Manhattan\"\n",
        "            }\n",
        "\n",
        "        if estado in visitados:\n",
        "            continue\n",
        "        visitados.add(estado)\n",
        "\n",
        "        zero_idx = estado.index(0)\n",
        "        for move in get_posicoes_vizinhas(zero_idx):\n",
        "            novo_estado = mover(estado, move)\n",
        "            nova_acao = MOVES[move]\n",
        "            novo_caminho = caminho + [nova_acao]\n",
        "            g_novo = g + 1\n",
        "            h = heuristica_manhattan(novo_estado)\n",
        "            f_novo = g_novo + h\n",
        "            heapq.heappush(heap, (f_novo, g_novo, novo_estado, novo_caminho))\n",
        "            max_depth = max(max_depth, g_novo)\n",
        "\n",
        "        nodes_expanded += 1\n",
        "\n",
        "    return None\n",
        "\n",
        "def eh_soluvel(puzzle):\n",
        "    inversoes = 0\n",
        "    valores = [n for n in puzzle if n != 0]\n",
        "    for i in range(len(valores)):\n",
        "        for j in range(i + 1, len(valores)):\n",
        "            if valores[i] > valores[j]:\n",
        "                inversoes += 1\n",
        "    return inversoes % 2 == 0\n",
        "\n",
        "\n",
        "puzzle = (1, 2, 3, 4, 5, 6, 0, 7, 8)\n",
        "\n",
        "if eh_soluvel(puzzle):\n",
        "    resultado = astar(puzzle)\n",
        "    if resultado:\n",
        "        for chave, valor in resultado.items():\n",
        "            print(f\"{chave}: {valor}\")\n",
        "    else:\n",
        "        print(\"Solução não encontrada.\")\n",
        "else:\n",
        "    print(\"Este puzzle não é solucionável.\")\n"
      ],
      "metadata": {
        "colab": {
          "base_uri": "https://localhost:8080/",
          "height": 0
        },
        "id": "6as97ujFtBZp",
        "outputId": "c6552ac4-1b80-4829-8220-420d7537dbeb"
      },
      "execution_count": 2,
      "outputs": [
        {
          "output_type": "stream",
          "name": "stdout",
          "text": [
            "path_to_goal: ['Right', 'Right']\n",
            "cost_of_path: 2\n",
            "nodes_expanded: 2\n",
            "fringe_size: 3\n",
            "max_fringe_size: 4\n",
            "search_depth: 2\n",
            "max_search_depth: 2\n",
            "running_time: 7.469e-05\n",
            "metodo: A* com heuristica de Manhattan\n"
          ]
        }
      ]
    },
    {
      "cell_type": "markdown",
      "source": [
        "**No primeiro teste, utilizando como entrada a sequência de puzzle (1, 2, 3, 4, 5, 6, 0, 7, 8), obtivemos essa saída acima.**"
      ],
      "metadata": {
        "id": "nKR-lC7cvJbn"
      }
    },
    {
      "cell_type": "markdown",
      "source": [
        "**Agora, testaremos com a sequência (1, 3, 4, 2, 5, 6, 0, 7, 8).**"
      ],
      "metadata": {
        "id": "6fNe-murvUEB"
      }
    },
    {
      "cell_type": "code",
      "source": [
        "import time\n",
        "from collections import deque\n",
        "import heapq\n",
        "\n",
        "MOVES = {\n",
        "    -3: 'Up',\n",
        "     3: 'Down',\n",
        "    -1: 'Left',\n",
        "     1: 'Right'\n",
        "}\n",
        "\n",
        "def get_posicoes_vizinhas(index):\n",
        "    moves = []\n",
        "    row, col = divmod(index, 3)\n",
        "    if row > 0: moves.append(-3)\n",
        "    if row < 2: moves.append(3)\n",
        "    if col > 0: moves.append(-1)\n",
        "    if col < 2: moves.append(1)\n",
        "    return moves\n",
        "\n",
        "def mover(puzzle, move):\n",
        "    zero_idx = puzzle.index(0)\n",
        "    swap_idx = zero_idx + move\n",
        "    puzzle = list(puzzle)\n",
        "    puzzle[zero_idx], puzzle[swap_idx] = puzzle[swap_idx], puzzle[zero_idx]\n",
        "    return tuple(puzzle)\n",
        "\n",
        "def heuristica_manhattan(puzzle):\n",
        "    distancia = 0\n",
        "    for i, val in enumerate(puzzle):\n",
        "        if val == 0:\n",
        "            continue\n",
        "        row, col = divmod(i, 3)\n",
        "        objetivo_row, objetivo_col = divmod(val - 1, 3)\n",
        "        distancia += abs(row - objetivo_row) + abs(col - objetivo_col)\n",
        "    return distancia\n",
        "\n",
        "def astar(puzzle_inicial):\n",
        "    objetivo = (1, 2, 3, 4, 5, 6, 7, 8, 0)\n",
        "    start_time = time.process_time()\n",
        "\n",
        "    heap = []\n",
        "    heapq.heappush(heap, (0 + heuristica_manhattan(puzzle_inicial), 0, puzzle_inicial, []))\n",
        "    visitados = set()\n",
        "\n",
        "    nodes_expanded = 0\n",
        "    max_fringe_size = 0\n",
        "    max_depth = 0\n",
        "\n",
        "    while heap:\n",
        "        max_fringe_size = max(max_fringe_size, len(heap))\n",
        "        f, g, estado, caminho = heapq.heappop(heap)\n",
        "\n",
        "        if estado == objetivo:\n",
        "            end_time = time.process_time()\n",
        "            return {\n",
        "                \"path_to_goal\": caminho,\n",
        "                \"cost_of_path\": len(caminho),\n",
        "                \"nodes_expanded\": nodes_expanded,\n",
        "                \"fringe_size\": len(heap),\n",
        "                \"max_fringe_size\": max_fringe_size,\n",
        "                \"search_depth\": g,\n",
        "                \"max_search_depth\": max_depth,\n",
        "                \"running_time\": round(end_time - start_time, 8),\n",
        "                \"metodo\": \"A* com heuristica de Manhattan\"\n",
        "            }\n",
        "\n",
        "        if estado in visitados:\n",
        "            continue\n",
        "        visitados.add(estado)\n",
        "\n",
        "        zero_idx = estado.index(0)\n",
        "        for move in get_posicoes_vizinhas(zero_idx):\n",
        "            novo_estado = mover(estado, move)\n",
        "            nova_acao = MOVES[move]\n",
        "            novo_caminho = caminho + [nova_acao]\n",
        "            g_novo = g + 1\n",
        "            h = heuristica_manhattan(novo_estado)\n",
        "            f_novo = g_novo + h\n",
        "            heapq.heappush(heap, (f_novo, g_novo, novo_estado, novo_caminho))\n",
        "            max_depth = max(max_depth, g_novo)\n",
        "\n",
        "        nodes_expanded += 1\n",
        "\n",
        "    return None\n",
        "\n",
        "def eh_soluvel(puzzle):\n",
        "    inversoes = 0\n",
        "    valores = [n for n in puzzle if n != 0]\n",
        "    for i in range(len(valores)):\n",
        "        for j in range(i + 1, len(valores)):\n",
        "            if valores[i] > valores[j]:\n",
        "                inversoes += 1\n",
        "    return inversoes % 2 == 0\n",
        "\n",
        "\n",
        "puzzle = (1, 3, 4, 2, 5, 6, 0, 7, 8)\n",
        "\n",
        "if eh_soluvel(puzzle):\n",
        "    resultado = astar(puzzle)\n",
        "    if resultado:\n",
        "        for chave, valor in resultado.items():\n",
        "            print(f\"{chave}: {valor}\")\n",
        "    else:\n",
        "        print(\"Solução não encontrada.\")\n",
        "else:\n",
        "    print(\"Este puzzle não é solucionável.\")"
      ],
      "metadata": {
        "colab": {
          "base_uri": "https://localhost:8080/",
          "height": 0
        },
        "id": "DVcDzvrpvyLZ",
        "outputId": "64bfcd4e-70ec-4099-c431-f0ec6e186833"
      },
      "execution_count": 3,
      "outputs": [
        {
          "output_type": "stream",
          "name": "stdout",
          "text": [
            "path_to_goal: ['Right', 'Up', 'Left', 'Down', 'Right', 'Right', 'Up', 'Up', 'Left', 'Down', 'Right', 'Down', 'Left', 'Left', 'Up', 'Right', 'Down', 'Right']\n",
            "cost_of_path: 18\n",
            "nodes_expanded: 375\n",
            "fringe_size: 333\n",
            "max_fringe_size: 334\n",
            "search_depth: 18\n",
            "max_search_depth: 18\n",
            "running_time: 0.00438541\n",
            "metodo: A* com heuristica de Manhattan\n"
          ]
        }
      ]
    },
    {
      "cell_type": "markdown",
      "source": [
        "**E essa foi a saída com a nova sequência.**"
      ],
      "metadata": {
        "id": "sK7UsdJmv4in"
      }
    },
    {
      "cell_type": "markdown",
      "source": [
        "# **Agora, como foi no último trabalho, explicarei célula por célula.**"
      ],
      "metadata": {
        "id": "P0I0pdoHv__e"
      }
    },
    {
      "cell_type": "code",
      "source": [
        "MOVES = {\n",
        "    -3: 'Up',\n",
        "     3: 'Down',\n",
        "    -1: 'Left',\n",
        "     1: 'Right'\n",
        "}"
      ],
      "metadata": {
        "id": "WMcOHxuewSiU"
      },
      "execution_count": null,
      "outputs": []
    },
    {
      "cell_type": "markdown",
      "source": [
        "**Um dicionário que associa deslocamentos da peça vazia (0) com os nomes das direções que ela representa: MOVES = { -3: 'Up', 3: 'Down', -1: 'Left', 1: 'Right' }**"
      ],
      "metadata": {
        "id": "F54oyhwjwV0K"
      }
    },
    {
      "cell_type": "code",
      "source": [
        "def get_posicoes_vizinhas(index):"
      ],
      "metadata": {
        "id": "JLB4C-zMwbUM"
      },
      "execution_count": null,
      "outputs": []
    },
    {
      "cell_type": "markdown",
      "source": [
        "**Dado o índice da posição do 0, retorna quais movimentos são possíveis (sem sair da borda).**\n",
        "\n",
        "**Usa *divmod*(index, 3) para calcular a linha e coluna.**\n",
        "\n",
        "**Retorna os deslocamentos válidos.**"
      ],
      "metadata": {
        "id": "VG7xrU0YwglJ"
      }
    },
    {
      "cell_type": "code",
      "source": [
        "def mover(puzzle, move):"
      ],
      "metadata": {
        "id": "G1MPG1yywz8H"
      },
      "execution_count": null,
      "outputs": []
    },
    {
      "cell_type": "markdown",
      "source": [
        " **Executa um movimento no puzzle:**\n",
        "\n",
        "**Encontra a posição do 0.**\n",
        "\n",
        "**Troca de lugar com o valor na nova posição (move).**\n",
        "\n",
        "**Retorna um novo estado como *tuple***"
      ],
      "metadata": {
        "id": "nevLG_UVw3Pz"
      }
    },
    {
      "cell_type": "code",
      "source": [
        "def heuristica_manhattan(puzzle):"
      ],
      "metadata": {
        "id": "pxDn3OHMxQXg"
      },
      "execution_count": null,
      "outputs": []
    },
    {
      "cell_type": "markdown",
      "source": [
        "**Calcula a distância de Manhattan, que é a soma das distâncias verticais e horizontais entre cada peça e sua posição correta.**\n",
        "\n",
        "**Ignora o 0.**\n",
        "\n",
        "**Usa divmod para calcular coordenadas reais e alvo.**\n",
        "\n",
        "**Soma |linha_atual - linha_objetivo| + |coluna_atual - coluna_objetivo|**"
      ],
      "metadata": {
        "id": "BXW3Ks3ZxSAT"
      }
    },
    {
      "cell_type": "code",
      "source": [
        "def astar(puzzle_inicial):"
      ],
      "metadata": {
        "id": "xXDzbEYxxggF"
      },
      "execution_count": null,
      "outputs": []
    },
    {
      "cell_type": "markdown",
      "source": [
        "**Essa é a função principal A*:**\n",
        "\n",
        "**Usa uma fila de prioridade (heapq) com a fórmula f(n) = g(n) + h(n).**\n",
        "**g(n) = custo atual (profundidade).**\n",
        "**h(n) = heurística de Manhattan.**\n",
        "\n",
        "**Expande os nós na ordem da menor estimativa de custo**\n",
        "\n",
        "**Retorna um dicionário com:**\n",
        "\n",
        "**Caminho até a solução.**\n",
        "**Custo total.**\n",
        "**Nós expandidos.**\n",
        "**Tamanho da fila/fringe.**\n",
        "**Tempo e profundidade da busca.**"
      ],
      "metadata": {
        "id": "rt-sG1Lgxity"
      }
    },
    {
      "cell_type": "code",
      "source": [
        "def eh_soluvel(puzzle):"
      ],
      "metadata": {
        "id": "2Q_1Ez0lyGoQ"
      },
      "execution_count": null,
      "outputs": []
    },
    {
      "cell_type": "markdown",
      "source": [
        "**Verifica se um puzzle pode ser resolvido.**\n",
        "\n",
        "**Conta o número de inversões (pares fora de ordem).**\n",
        "**Um puzzle 3x3 é solucionável se o número de inversões for par.**"
      ],
      "metadata": {
        "id": "sY_lflQpyJ61"
      }
    },
    {
      "cell_type": "code",
      "source": [
        "puzzle = (1, 3, 4, 2, 5, 6, 0, 7, 8)"
      ],
      "metadata": {
        "id": "W-V7o6uiyUCY"
      },
      "execution_count": null,
      "outputs": []
    },
    {
      "cell_type": "markdown",
      "source": [
        "**Define o estado inicial.**\n",
        "\n",
        "**Verifica se é solucionável.**\n",
        "\n",
        "**Se for, roda astar(puzzle) e imprime estatísticas da execução.**"
      ],
      "metadata": {
        "id": "h2wVvcStyY0S"
      }
    },
    {
      "cell_type": "markdown",
      "source": [
        "**Após fazermos todo o teste e explicação da implementação do algoritmo A*, agora iremos fazer a implementação do algoritmo do método da Busca Gulosa.**"
      ],
      "metadata": {
        "id": "tXqS1nZzyntB"
      }
    },
    {
      "cell_type": "markdown",
      "source": [
        "# **Segue o código da implementação da Busca Gulosa:**"
      ],
      "metadata": {
        "id": "QTDezPJL0NjL"
      }
    },
    {
      "cell_type": "code",
      "source": [
        "import time\n",
        "from collections import deque\n",
        "import heapq\n",
        "\n",
        "MOVES = {\n",
        "    -3: 'Up',\n",
        "     3: 'Down',\n",
        "    -1: 'Left',\n",
        "     1: 'Right'\n",
        "}\n",
        "\n",
        "def get_posicoes_vizinhas(index):\n",
        "    moves = []\n",
        "    row, col = divmod(index, 3)\n",
        "    if row > 0: moves.append(-3)\n",
        "    if row < 2: moves.append(3)\n",
        "    if col > 0: moves.append(-1)\n",
        "    if col < 2: moves.append(1)\n",
        "    return moves\n",
        "\n",
        "def mover(puzzle, move):\n",
        "    zero_idx = puzzle.index(0)\n",
        "    swap_idx = zero_idx + move\n",
        "    puzzle = list(puzzle)\n",
        "    puzzle[zero_idx], puzzle[swap_idx] = puzzle[swap_idx], puzzle[zero_idx]\n",
        "    return tuple(puzzle)\n",
        "\n",
        "def heuristica_manhattan(puzzle):\n",
        "    distancia = 0\n",
        "    for i, val in enumerate(puzzle):\n",
        "        if val == 0:\n",
        "            continue\n",
        "        row, col = divmod(i, 3)\n",
        "        objetivo_row, objetivo_col = divmod(val - 1, 3)\n",
        "        distancia += abs(row - objetivo_row) + abs(col - objetivo_col)\n",
        "    return distancia\n",
        "\n",
        "def busca_gulosa(puzzle_inicial):\n",
        "    objetivo = (1, 2, 3, 4, 5, 6, 7, 8, 0)\n",
        "    start_time = time.process_time()\n",
        "\n",
        "    heap = []\n",
        "    heapq.heappush(heap, (heuristica_manhattan(puzzle_inicial), puzzle_inicial, []))\n",
        "    visitados = set()\n",
        "\n",
        "    nodes_expanded = 0\n",
        "    max_fringe_size = 0\n",
        "    max_depth = 0\n",
        "\n",
        "    while heap:\n",
        "        max_fringe_size = max(max_fringe_size, len(heap))\n",
        "        h, estado, caminho = heapq.heappop(heap)\n",
        "\n",
        "        if estado == objetivo:\n",
        "            end_time = time.process_time()\n",
        "            return {\n",
        "                \"path_to_goal\": caminho,\n",
        "                \"cost_of_path\": len(caminho),\n",
        "                \"nodes_expanded\": nodes_expanded,\n",
        "                \"fringe_size\": len(heap),\n",
        "                \"max_fringe_size\": max_fringe_size,\n",
        "                \"search_depth\": len(caminho),\n",
        "                \"max_search_depth\": max_depth,\n",
        "                \"running_time\": round(end_time - start_time, 8),\n",
        "                \"metodo\": \"Busca Gulosa com heuristica de Manhattan\"\n",
        "            }\n",
        "\n",
        "        if estado in visitados:\n",
        "            continue\n",
        "        visitados.add(estado)\n",
        "\n",
        "        zero_idx = estado.index(0)\n",
        "        for move in get_posicoes_vizinhas(zero_idx):\n",
        "            novo_estado = mover(estado, move)\n",
        "            nova_acao = MOVES[move]\n",
        "            novo_caminho = caminho + [nova_acao]\n",
        "            h_novo = heuristica_manhattan(novo_estado)\n",
        "            heapq.heappush(heap, (h_novo, novo_estado, novo_caminho))\n",
        "            max_depth = max(max_depth, len(novo_caminho))\n",
        "\n",
        "        nodes_expanded += 1\n",
        "\n",
        "    return None\n",
        "\n",
        "def eh_soluvel(puzzle):\n",
        "    inversoes = 0\n",
        "    valores = [n for n in puzzle if n != 0]\n",
        "    for i in range(len(valores)):\n",
        "        for j in range(i + 1, len(valores)):\n",
        "            if valores[i] > valores[j]:\n",
        "                inversoes += 1\n",
        "    return inversoes % 2 == 0\n",
        "\n",
        "puzzle = (1, 2, 3, 4, 5, 6, 0, 7, 8)\n",
        "\n",
        "if eh_soluvel(puzzle):\n",
        "    resultado = busca_gulosa(puzzle)\n",
        "    if resultado:\n",
        "        for chave, valor in resultado.items():\n",
        "            print(f\"{chave}: {valor}\")\n",
        "    else:\n",
        "        print(\"Solução não encontrada.\")\n",
        "else:\n",
        "    print(\"Este puzzle não é solucionável.\")\n"
      ],
      "metadata": {
        "colab": {
          "base_uri": "https://localhost:8080/",
          "height": 0
        },
        "id": "RCav4hXtzBqx",
        "outputId": "423b1a30-531c-4b18-c55f-098c0a6b693d"
      },
      "execution_count": 4,
      "outputs": [
        {
          "output_type": "stream",
          "name": "stdout",
          "text": [
            "path_to_goal: ['Right', 'Right']\n",
            "cost_of_path: 2\n",
            "nodes_expanded: 2\n",
            "fringe_size: 3\n",
            "max_fringe_size: 4\n",
            "search_depth: 2\n",
            "max_search_depth: 2\n",
            "running_time: 6.089e-05\n",
            "metodo: Busca Gulosa com heuristica de Manhattan\n"
          ]
        }
      ]
    },
    {
      "cell_type": "markdown",
      "source": [
        "**Utilizando a primeira sequência (1, 2, 3, 4, 5, 6, 0, 7, 8) para o puzzle, obtivemos a mesma saída do implementação do método A*.**"
      ],
      "metadata": {
        "id": "sEFNS47wz61h"
      }
    },
    {
      "cell_type": "markdown",
      "source": [
        "**Agora, mais uma vez, iremos testar com a sequência (1, 3, 4, 2, 5, 6, 0, 7, 8).**"
      ],
      "metadata": {
        "id": "CDSmw_HL0X5k"
      }
    },
    {
      "cell_type": "code",
      "source": [
        "import time\n",
        "from collections import deque\n",
        "import heapq\n",
        "\n",
        "MOVES = {\n",
        "    -3: 'Up',\n",
        "     3: 'Down',\n",
        "    -1: 'Left',\n",
        "     1: 'Right'\n",
        "}\n",
        "\n",
        "def get_posicoes_vizinhas(index):\n",
        "    moves = []\n",
        "    row, col = divmod(index, 3)\n",
        "    if row > 0: moves.append(-3)\n",
        "    if row < 2: moves.append(3)\n",
        "    if col > 0: moves.append(-1)\n",
        "    if col < 2: moves.append(1)\n",
        "    return moves\n",
        "\n",
        "def mover(puzzle, move):\n",
        "    zero_idx = puzzle.index(0)\n",
        "    swap_idx = zero_idx + move\n",
        "    puzzle = list(puzzle)\n",
        "    puzzle[zero_idx], puzzle[swap_idx] = puzzle[swap_idx], puzzle[zero_idx]\n",
        "    return tuple(puzzle)\n",
        "\n",
        "def heuristica_manhattan(puzzle):\n",
        "    distancia = 0\n",
        "    for i, val in enumerate(puzzle):\n",
        "        if val == 0:\n",
        "            continue\n",
        "        row, col = divmod(i, 3)\n",
        "        objetivo_row, objetivo_col = divmod(val - 1, 3)\n",
        "        distancia += abs(row - objetivo_row) + abs(col - objetivo_col)\n",
        "    return distancia\n",
        "\n",
        "def busca_gulosa(puzzle_inicial):\n",
        "    objetivo = (1, 2, 3, 4, 5, 6, 7, 8, 0)\n",
        "    start_time = time.process_time()\n",
        "\n",
        "    heap = []\n",
        "    heapq.heappush(heap, (heuristica_manhattan(puzzle_inicial), puzzle_inicial, []))\n",
        "    visitados = set()\n",
        "\n",
        "    nodes_expanded = 0\n",
        "    max_fringe_size = 0\n",
        "    max_depth = 0\n",
        "\n",
        "    while heap:\n",
        "        max_fringe_size = max(max_fringe_size, len(heap))\n",
        "        h, estado, caminho = heapq.heappop(heap)\n",
        "\n",
        "        if estado == objetivo:\n",
        "            end_time = time.process_time()\n",
        "            return {\n",
        "                \"path_to_goal\": caminho,\n",
        "                \"cost_of_path\": len(caminho),\n",
        "                \"nodes_expanded\": nodes_expanded,\n",
        "                \"fringe_size\": len(heap),\n",
        "                \"max_fringe_size\": max_fringe_size,\n",
        "                \"search_depth\": len(caminho),\n",
        "                \"max_search_depth\": max_depth,\n",
        "                \"running_time\": round(end_time - start_time, 8),\n",
        "                \"metodo\": \"Busca Gulosa com heuristica de Manhattan\"\n",
        "            }\n",
        "\n",
        "        if estado in visitados:\n",
        "            continue\n",
        "        visitados.add(estado)\n",
        "\n",
        "        zero_idx = estado.index(0)\n",
        "        for move in get_posicoes_vizinhas(zero_idx):\n",
        "            novo_estado = mover(estado, move)\n",
        "            nova_acao = MOVES[move]\n",
        "            novo_caminho = caminho + [nova_acao]\n",
        "            h_novo = heuristica_manhattan(novo_estado)\n",
        "            heapq.heappush(heap, (h_novo, novo_estado, novo_caminho))\n",
        "            max_depth = max(max_depth, len(novo_caminho))\n",
        "\n",
        "        nodes_expanded += 1\n",
        "\n",
        "    return None\n",
        "\n",
        "def eh_soluvel(puzzle):\n",
        "    inversoes = 0\n",
        "    valores = [n for n in puzzle if n != 0]\n",
        "    for i in range(len(valores)):\n",
        "        for j in range(i + 1, len(valores)):\n",
        "            if valores[i] > valores[j]:\n",
        "                inversoes += 1\n",
        "    return inversoes % 2 == 0\n",
        "\n",
        "puzzle = (1, 3, 4, 2, 5, 6, 0, 7, 8)\n",
        "\n",
        "if eh_soluvel(puzzle):\n",
        "    resultado = busca_gulosa(puzzle)\n",
        "    if resultado:\n",
        "        for chave, valor in resultado.items():\n",
        "            print(f\"{chave}: {valor}\")\n",
        "    else:\n",
        "        print(\"Solução não encontrada.\")\n",
        "else:\n",
        "    print(\"Este puzzle não é solucionável.\")"
      ],
      "metadata": {
        "colab": {
          "base_uri": "https://localhost:8080/",
          "height": 0
        },
        "id": "1L6NNwi_0l8_",
        "outputId": "eac1c038-8490-48e9-cb4d-ea5f5a38374c"
      },
      "execution_count": 5,
      "outputs": [
        {
          "output_type": "stream",
          "name": "stdout",
          "text": [
            "path_to_goal: ['Right', 'Right', 'Up', 'Up', 'Left', 'Down', 'Right', 'Down', 'Left', 'Up', 'Left', 'Down', 'Right', 'Right', 'Up', 'Left', 'Up', 'Right', 'Down', 'Down', 'Left', 'Left', 'Up', 'Right', 'Down', 'Right', 'Up', 'Up', 'Left', 'Down', 'Right', 'Up', 'Left', 'Down', 'Left', 'Up', 'Right', 'Right', 'Down', 'Left', 'Up', 'Left', 'Down', 'Right', 'Right', 'Down']\n",
            "cost_of_path: 46\n",
            "nodes_expanded: 382\n",
            "fringe_size: 271\n",
            "max_fringe_size: 272\n",
            "search_depth: 46\n",
            "max_search_depth: 65\n",
            "running_time: 0.00560129\n",
            "metodo: Busca Gulosa com heuristica de Manhattan\n"
          ]
        }
      ]
    },
    {
      "cell_type": "markdown",
      "source": [
        "**Desta vez, com a nova sequência, note que os resultados da saída utilizando Busca Gulosa foi completamente diferente do A*.**"
      ],
      "metadata": {
        "id": "4tGQzIyN0zQB"
      }
    },
    {
      "cell_type": "markdown",
      "source": [
        "# **Por último, irei explicar a célula def busca_gulosa(puzzle_inicial):**"
      ],
      "metadata": {
        "id": "NAjoseWh1Dxv"
      }
    },
    {
      "cell_type": "markdown",
      "source": [
        "**OBS: Já que os códigos do A* e da Busca Gulosa são exatamente os mesmos, se diferenciando somente pelas suas respectivas funções, irei explicar apenas a célula def busca_gulosa(puzzle_inicial):**"
      ],
      "metadata": {
        "id": "foOO0RIL1Ss4"
      }
    },
    {
      "cell_type": "code",
      "source": [
        "def busca_gulosa(puzzle_inicial):"
      ],
      "metadata": {
        "id": "aV1GZaeL1l_D"
      },
      "execution_count": null,
      "outputs": []
    },
    {
      "cell_type": "markdown",
      "source": [
        "# **Inicialização:**\n",
        "\n",
        "**Define o estado objetivo como (1, 2, 3, 4, 5, 6, 7, 8, 0).**\n",
        "**Começa a contagem do tempo de execução.**\n",
        "**Usa uma fila de prioridade (heap) baseada apenas na heurística de Manhattan.**\n",
        "\n",
        "# **Estrutura da fila:**\n",
        "\n",
        "**Cada item da fila contém: (h, estado, caminho_realizado), onde h é o valor da heurística para aquele estado.**\n",
        "\n",
        "# **Loop principal da busca:**\n",
        "\n",
        "**Pega o estado com menor heurística.**\n",
        "**Se for o estado objetivo, retorna estatísticas como caminho, tempo, profundidade, etc.**\n",
        "**Caso contrário, expande os vizinhos do estado atual (movimentos possíveis do espaço vazio).**\n",
        "\n",
        "# **Expansão:**\n",
        "\n",
        "**Para cada movimento válido:**\n",
        "\n",
        "**Gera um novo estado.**\n",
        "**Calcula sua heurística.**\n",
        "**Insere no heap baseado apenas nessa heurística.**\n",
        "\n",
        "**Atualiza estatísticas como nodes_expanded e max_depth.**\n",
        "\n",
        "# **Controle de visitados:**\n",
        "\n",
        "**Armazena os estados já visitados para evitar ciclos.**\n",
        "\n",
        "# **Finalização:**\n",
        "\n",
        "**Se não encontrar solução, retorna *None*.**"
      ],
      "metadata": {
        "id": "33te8iBv1xJY"
      }
    },
    {
      "cell_type": "markdown",
      "source": [
        "# **Pra finalizar, uma conclusão final:**"
      ],
      "metadata": {
        "id": "CmWiNnEX5McG"
      }
    },
    {
      "cell_type": "markdown",
      "source": [
        "**A* Vantagens:**\n",
        "\n",
        "**Sempre encontra a solução ótima (mais curta), desde que a heurística seja admissível (como a Manhattan).**\n",
        "\n",
        "**Equilibra entre custo real e estimativa, explorando caminhos promissores sem ignorar o histórico.**\n",
        "\n",
        "**A* Desvantagens:**\n",
        "\n",
        "**Pode consumir mais memória e tempo, pois explora mais caminhos para garantir a melhor solução.**\n",
        "\n",
        "**Fila de prioridade pode crescer bastante em puzzles complexos.**\n",
        "\n",
        "**A* é indicado quando: a qualidade da solução é prioritária (ex: menor número de passos).**"
      ],
      "metadata": {
        "id": "MPglVI8R5SKg"
      }
    },
    {
      "cell_type": "markdown",
      "source": [
        "**Busca Gulosa Vantagens:**\n",
        "\n",
        "**Mais rápida em muitos casos, pois foca diretamente no estado com menor heurística.**\n",
        "\n",
        "**Simples e eficiente para estados próximos da solução.**\n",
        "\n",
        "**Busca Gulosa Desvantagens: Não garante a melhor solução.**\n",
        "\n",
        "**Pode entrar em armadilhas locais (escolhas que parecem boas, mas levam a becos sem saída).**\n",
        "\n",
        "**Pode falhar ou demorar mais em puzzles complexos.**\n",
        "\n",
        "**Busca Gulosa é indicado quando: a velocidade é mais importante que a perfeição do caminho.**"
      ],
      "metadata": {
        "id": "zPy0OXlC50CD"
      }
    }
  ]
}