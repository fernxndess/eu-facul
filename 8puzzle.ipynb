{
  "nbformat": 4,
  "nbformat_minor": 0,
  "metadata": {
    "colab": {
      "provenance": [],
      "authorship_tag": "ABX9TyMezQB4xtkmk8Y0MvEUzPO2",
      "include_colab_link": true
    },
    "kernelspec": {
      "name": "python3",
      "display_name": "Python 3"
    },
    "language_info": {
      "name": "python"
    }
  },
  "cells": [
    {
      "cell_type": "markdown",
      "metadata": {
        "id": "view-in-github",
        "colab_type": "text"
      },
      "source": [
        "<a href=\"https://colab.research.google.com/github/fernxndess/eu-facul/blob/main/8puzzle.ipynb\" target=\"_parent\"><img src=\"https://colab.research.google.com/assets/colab-badge.svg\" alt=\"Open In Colab\"/></a>"
      ]
    },
    {
      "cell_type": "markdown",
      "source": [
        "**Iniciei o trabalho implementando o método BFS. Como base usei os pseudocódigos dos slides dados em aula e para ajudar-me utilizei a ferramenta ChatGPT.**\n",
        "\n",
        "\n",
        "\n",
        "\n"
      ],
      "metadata": {
        "id": "fG7uQmLlvI1j"
      }
    },
    {
      "cell_type": "code",
      "source": [
        "import time\n",
        "from collections import deque\n",
        "\n",
        "MOVES = {\n",
        "    -3: 'Up',\n",
        "     3: 'Down',\n",
        "    -1: 'Left',\n",
        "     1: 'Right'\n",
        "}\n",
        "\n",
        "def get_posicoes_vizinhas(index):\n",
        "    moves = []\n",
        "    row, col = divmod(index, 3)\n",
        "    if row > 0: moves.append(-3)\n",
        "    if row < 2: moves.append(3)\n",
        "    if col > 0: moves.append(-1)\n",
        "    if col < 2: moves.append(1)\n",
        "    return moves\n",
        "\n",
        "def mover(puzzle, move):\n",
        "    zero_idx = puzzle.index(0)\n",
        "    swap_idx = zero_idx + move\n",
        "    puzzle = list(puzzle)\n",
        "    puzzle[zero_idx], puzzle[swap_idx] = puzzle[swap_idx], puzzle[zero_idx]\n",
        "    return tuple(puzzle)\n",
        "\n",
        "def bfs(puzzle_inicial):\n",
        "    objetivo = (1, 2, 3, 4, 5, 6, 7, 8, 0)\n",
        "    start_time = time.process_time()\n",
        "\n",
        "    fila = deque()\n",
        "    fila.append((puzzle_inicial, [], 0))\n",
        "    visitados = set()\n",
        "\n",
        "    nodes_expanded = 0\n",
        "    max_fringe_size = 0\n",
        "    max_depth = 0\n",
        "\n",
        "    while fila:\n",
        "        max_fringe_size = max(max_fringe_size, len(fila))\n",
        "        estado, caminho, profundidade = fila.popleft()\n",
        "\n",
        "        if estado == objetivo:\n",
        "            end_time = time.process_time()\n",
        "            return {\n",
        "                \"path_to_goal\": caminho,\n",
        "                \"cost_of_path\": len(caminho),\n",
        "                \"nodes_expanded\": nodes_expanded,\n",
        "                \"fringe_size\": len(fila),\n",
        "                \"max_fringe_size\": max_fringe_size,\n",
        "                \"search_depth\": profundidade,\n",
        "                \"max_search_depth\": max_depth,\n",
        "                \"running_time\": round(end_time - start_time, 8),\n",
        "                # \"max_ram_usage\": round(psutil.Process().memory_info().rss / 1024.0 / 1024.0, 8)\n",
        "            }\n",
        "\n",
        "        if estado in visitados:\n",
        "            continue\n",
        "        visitados.add(estado)\n",
        "\n",
        "        zero_idx = estado.index(0)\n",
        "        for move in get_posicoes_vizinhas(zero_idx):\n",
        "            novo_estado = mover(estado, move)\n",
        "            nova_acao = MOVES[move]\n",
        "            fila.append((novo_estado, caminho + [nova_acao], profundidade + 1))\n",
        "            max_depth = max(max_depth, profundidade + 1)\n",
        "\n",
        "        nodes_expanded += 1\n",
        "\n",
        "    return None\n",
        "\n",
        "def eh_soluvel(puzzle):\n",
        "    inversoes = 0\n",
        "    valores = [n for n in puzzle if n != 0]\n",
        "    for i in range(len(valores)):\n",
        "        for j in range(i + 1, len(valores)):\n",
        "            if valores[i] > valores[j]:\n",
        "                inversoes += 1\n",
        "    return inversoes % 2 == 0\n",
        "\n",
        "puzzle = (1, 2, 3, 4, 5, 6, 0, 7, 8)\n",
        "\n",
        "if eh_soluvel(puzzle):\n",
        "    resultado = bfs(puzzle)\n",
        "    if resultado:\n",
        "        for chave, valor in resultado.items():\n",
        "            print(f\"{chave}: {valor}\")\n",
        "    else:\n",
        "        print(\"Solução não encontrada.\")\n",
        "else:\n",
        "    print(\"Este puzzle não é solucionável.\")\n"
      ],
      "metadata": {
        "colab": {
          "base_uri": "https://localhost:8080/",
          "height": 0
        },
        "id": "Yu64v_MEvKQE",
        "outputId": "a3b28a3f-5ee9-4bd2-acf2-eada882937c7"
      },
      "execution_count": 3,
      "outputs": [
        {
          "output_type": "stream",
          "name": "stdout",
          "text": [
            "path_to_goal: ['Right', 'Right']\n",
            "cost_of_path: 2\n",
            "nodes_expanded: 6\n",
            "fringe_size: 10\n",
            "max_fringe_size: 12\n",
            "search_depth: 2\n",
            "max_search_depth: 3\n",
            "running_time: 0.00012617\n"
          ]
        }
      ]
    },
    {
      "cell_type": "markdown",
      "source": [
        "**Esse foi o meu primeiro código e nessa primeira rodada de teste, utilizei a sequência (1, 2, 3, 4, 5, 6, 0, 7, 8) para o puzzle. Como essa foi minha primeira tentativa, tive algumas complicações. Note que a linha cujo daria a saída acerca da memória RAM no def bfs(puzzle_inicial) está com a # de comentário. Isso se deu pois, como estou utilizando uma versão lite do jupyter notebook, não consigo ter acesso a pacotes externos via !pip, logo não posso acessar recursos do sistema operacional como memória (psutil, resource, etc).**"
      ],
      "metadata": {
        "id": "XsHgdobCvNoP"
      }
    },
    {
      "cell_type": "markdown",
      "source": [
        "**Depois dessa primeira tentativa, consegui esse cógido atualizado:**"
      ],
      "metadata": {
        "id": "ANgVztiCvVlR"
      }
    },
    {
      "cell_type": "code",
      "source": [
        "import time\n",
        "from collections import deque\n",
        "\n",
        "MOVES = {\n",
        "    -3: 'Up',\n",
        "     3: 'Down',\n",
        "    -1: 'Left',\n",
        "     1: 'Right'\n",
        "}\n",
        "\n",
        "def get_posicoes_vizinhas(index):\n",
        "    moves = []\n",
        "    row, col = divmod(index, 3)\n",
        "    if row > 0: moves.append(-3)\n",
        "    if row < 2: moves.append(3)\n",
        "    if col > 0: moves.append(-1)\n",
        "    if col < 2: moves.append(1)\n",
        "    return moves\n",
        "\n",
        "def mover(puzzle, move):\n",
        "    zero_idx = puzzle.index(0)\n",
        "    swap_idx = zero_idx + move\n",
        "    puzzle = list(puzzle)\n",
        "    puzzle[zero_idx], puzzle[swap_idx] = puzzle[swap_idx], puzzle[zero_idx]\n",
        "    return tuple(puzzle)\n",
        "\n",
        "def bfs(puzzle_inicial):\n",
        "    objetivo = (1, 2, 3, 4, 5, 6, 7, 8, 0)\n",
        "    start_time = time.process_time()\n",
        "\n",
        "    fila = deque()\n",
        "    fila.append((puzzle_inicial, [], 0))\n",
        "    visitados = set()\n",
        "\n",
        "    nodes_expanded = 0\n",
        "    max_fringe_size = 0\n",
        "    max_depth = 0\n",
        "\n",
        "    while fila:\n",
        "        max_fringe_size = max(max_fringe_size, len(fila))\n",
        "        estado, caminho, profundidade = fila.popleft()\n",
        "\n",
        "        if estado == objetivo:\n",
        "            end_time = time.process_time()\n",
        "            return {\n",
        "                \"path_to_goal\": caminho,\n",
        "                \"cost_of_path\": len(caminho),\n",
        "                \"nodes_expanded\": nodes_expanded,\n",
        "                \"fringe_size\": len(fila),\n",
        "                \"max_fringe_size\": max_fringe_size,\n",
        "                \"search_depth\": profundidade,\n",
        "                \"max_search_depth\": max_depth,\n",
        "                \"running_time\": round(end_time - start_time, 8)\n",
        "            }\n",
        "\n",
        "        if estado in visitados:\n",
        "            continue\n",
        "        visitados.add(estado)\n",
        "\n",
        "        zero_idx = estado.index(0)\n",
        "        for move in get_posicoes_vizinhas(zero_idx):\n",
        "            novo_estado = mover(estado, move)\n",
        "            nova_acao = MOVES[move]\n",
        "            fila.append((novo_estado, caminho + [nova_acao], profundidade + 1))\n",
        "            max_depth = max(max_depth, profundidade + 1)\n",
        "\n",
        "        nodes_expanded += 1\n",
        "\n",
        "    return None\n",
        "\n",
        "def eh_soluvel(puzzle):\n",
        "    inversoes = 0\n",
        "    valores = [n for n in puzzle if n != 0]\n",
        "    for i in range(len(valores)):\n",
        "        for j in range(i + 1, len(valores)):\n",
        "            if valores[i] > valores[j]:\n",
        "                inversoes += 1\n",
        "    return inversoes % 2 == 0\n",
        "\n",
        "puzzle = (1, 2, 3, 4, 5, 6, 0, 7, 8)\n",
        "\n",
        "if eh_soluvel(puzzle):\n",
        "    resultado = bfs(puzzle)\n",
        "    if resultado:\n",
        "        for chave, valor in resultado.items():\n",
        "            print(f\"{chave}: {valor}\")\n",
        "    else:\n",
        "        print(\"Solução não encontrada.\")\n",
        "else:\n",
        "    print(\"Este puzzle não é solucionável.\")\n"
      ],
      "metadata": {
        "colab": {
          "base_uri": "https://localhost:8080/",
          "height": 0
        },
        "id": "evk1BAbSvYva",
        "outputId": "d92f0f1a-7f0f-4501-f0fe-c0a4afb8ee14"
      },
      "execution_count": 4,
      "outputs": [
        {
          "output_type": "stream",
          "name": "stdout",
          "text": [
            "path_to_goal: ['Right', 'Right']\n",
            "cost_of_path: 2\n",
            "nodes_expanded: 6\n",
            "fringe_size: 10\n",
            "max_fringe_size: 12\n",
            "search_depth: 2\n",
            "max_search_depth: 3\n",
            "running_time: 7.208e-05\n"
          ]
        }
      ]
    },
    {
      "cell_type": "markdown",
      "source": [
        "**Testei novamente usando a sequência (1, 2, 3, 4, 5, 6, 0, 7, 8) para o puzzle e agora deu certo.**"
      ],
      "metadata": {
        "id": "aqnujf5qvceu"
      }
    },
    {
      "cell_type": "markdown",
      "source": [
        "**Agora explicarei célula por célula do código.**"
      ],
      "metadata": {
        "id": "X__5Cjx6vdov"
      }
    },
    {
      "cell_type": "markdown",
      "source": [
        "**1 - Importações:**"
      ],
      "metadata": {
        "id": "bz4iQDAtvfNt"
      }
    },
    {
      "cell_type": "code",
      "source": [
        "import time\n",
        "from collections import deque"
      ],
      "metadata": {
        "id": "scWTjAsJvuwQ"
      },
      "execution_count": 5,
      "outputs": []
    },
    {
      "cell_type": "markdown",
      "source": [
        "**time: usado para medir quanto tempo o algoritmo leva para encontrar a solução.**\n",
        "\n",
        "**deque: estrutura de fila eficiente da biblioteca collections, ideal para algoritmos de busca como BFS.**"
      ],
      "metadata": {
        "id": "-Ecuia15vy1q"
      }
    },
    {
      "cell_type": "markdown",
      "source": [
        "**2 -  Dicionário de movimentos possíveis:**"
      ],
      "metadata": {
        "id": "b7xvOVHrv3Y9"
      }
    },
    {
      "cell_type": "code",
      "source": [
        "MOVES = {\n",
        "    -3: 'Up',\n",
        "     3: 'Down',\n",
        "    -1: 'Left',\n",
        "     1: 'Right'\n",
        "}"
      ],
      "metadata": {
        "id": "M_AzBLFFv5xr"
      },
      "execution_count": 6,
      "outputs": []
    },
    {
      "cell_type": "markdown",
      "source": [
        "**Define os movimentos possíveis no tabuleiro 3x3. -3 e +3 movem o espaço vazio (0) para cima ou para baixo (respectivamente), e -1 e +1 movem para esquerda ou direita.**"
      ],
      "metadata": {
        "id": "3nGGD5JZv74q"
      }
    },
    {
      "cell_type": "markdown",
      "source": [
        "**3 - Função get_posicoes_vizinhas(index):**"
      ],
      "metadata": {
        "id": "iZkt5Tshv_P3"
      }
    },
    {
      "cell_type": "code",
      "source": [
        "def get_posicoes_vizinhas(index):\n",
        "    moves = []\n",
        "    row, col = divmod(index, 3)\n",
        "    if row > 0: moves.append(-3)\n",
        "    if row < 2: moves.append(3)\n",
        "    if col > 0: moves.append(-1)\n",
        "    if col < 2: moves.append(1)\n",
        "    return moves"
      ],
      "metadata": {
        "id": "-zN9tSCswBzN"
      },
      "execution_count": 7,
      "outputs": []
    },
    {
      "cell_type": "markdown",
      "source": [
        "**Dado o índice do número 0 (espaço vazio), retorna os movimentos válidos (evita sair do tabuleiro). Por exemplo, se 0 está na primeira linha, não pode ir para cima.**"
      ],
      "metadata": {
        "id": "AFSJBUEVwD42"
      }
    },
    {
      "cell_type": "markdown",
      "source": [
        "**4 - Função mover(puzzle, move):**"
      ],
      "metadata": {
        "id": "uRKldnLswFSB"
      }
    },
    {
      "cell_type": "code",
      "source": [
        "def mover(puzzle, move):\n",
        "    zero_idx = puzzle.index(0)\n",
        "    swap_idx = zero_idx + move\n",
        "    puzzle = list(puzzle)\n",
        "    puzzle[zero_idx], puzzle[swap_idx] = puzzle[swap_idx], puzzle[zero_idx]\n",
        "    return tuple(puzzle)"
      ],
      "metadata": {
        "id": "T_PnMJ1twGxy"
      },
      "execution_count": 8,
      "outputs": []
    },
    {
      "cell_type": "markdown",
      "source": [
        "**Realiza uma cópia do estado atual do puzzle. Troca a posição do 0 com a posição indicada pelo movimento. Retorna o novo estado após o movimento.**"
      ],
      "metadata": {
        "id": "CgbXH_r0z7yy"
      }
    },
    {
      "cell_type": "markdown",
      "source": [
        "**5 - Função principal bfs(puzzle_inicial):**"
      ],
      "metadata": {
        "id": "YvU5WiL7wKH5"
      }
    },
    {
      "cell_type": "code",
      "source": [
        "def bfs(puzzle_inicial):\n",
        "    objetivo = (1, 2, 3, 4, 5, 6, 7, 8, 0)\n",
        "    start_time = time.process_time()\n",
        "\n",
        "    fila = deque()\n",
        "    fila.append((puzzle_inicial, [], 0))\n",
        "    visitados = set()\n",
        "\n",
        "    nodes_expanded = 0\n",
        "    max_fringe_size = 0\n",
        "    max_depth = 0\n",
        "\n",
        "    while fila:\n",
        "        max_fringe_size = max(max_fringe_size, len(fila))\n",
        "        estado, caminho, profundidade = fila.popleft()\n",
        "\n",
        "        if estado == objetivo:\n",
        "            end_time = time.process_time()\n",
        "            return {\n",
        "                \"path_to_goal\": caminho,\n",
        "                \"cost_of_path\": len(caminho),\n",
        "                \"nodes_expanded\": nodes_expanded,\n",
        "                \"fringe_size\": len(fila),\n",
        "                \"max_fringe_size\": max_fringe_size,\n",
        "                \"search_depth\": profundidade,\n",
        "                \"max_search_depth\": max_depth,\n",
        "                \"running_time\": round(end_time - start_time, 8)\n",
        "            }\n",
        "\n",
        "        if estado in visitados:\n",
        "            continue\n",
        "        visitados.add(estado)\n",
        "\n",
        "        zero_idx = estado.index(0)\n",
        "        for move in get_posicoes_vizinhas(zero_idx):\n",
        "            novo_estado = mover(estado, move)\n",
        "            nova_acao = MOVES[move]\n",
        "            fila.append((novo_estado, caminho + [nova_acao], profundidade + 1))\n",
        "            max_depth = max(max_depth, profundidade + 1)\n",
        "\n",
        "        nodes_expanded += 1\n",
        "\n",
        "    return None"
      ],
      "metadata": {
        "id": "os9oQTcHwLVo"
      },
      "execution_count": 9,
      "outputs": []
    },
    {
      "cell_type": "markdown",
      "source": [
        "**Implementa a busca em largura (Breadth-First Search) para resolver o puzzle.**\n",
        "\n",
        "**Etapas importantes:**\n",
        "\n",
        "  **Inicializa fila (deque), visitados, e variáveis de estatísticas.**\n",
        "\n",
        "   **Enquanto houver estados na fila:**\n",
        "     **Remove o próximo estado (fila.popleft()).**\n",
        "     **Verifica se o objetivo foi alcançado.**\n",
        "     **Se não, gera os estados vizinhos com movimentos válidos e os adiciona na fila.**\n",
        "\n",
        "   **Retorna estatísticas como:**\n",
        "     **path_to_goal: sequência de movimentos até a solução**\n",
        "     **cost_of_path: número de passos**\n",
        "     **nodes_expanded: quantos nós foram explorados**\n",
        "     **running_time: tempo de execução**"
      ],
      "metadata": {
        "id": "SjkKtyyAwNV9"
      }
    },
    {
      "cell_type": "markdown",
      "source": [
        "**6 - Função eh_soluvel(puzzle):**"
      ],
      "metadata": {
        "id": "z2_4-itMwPCx"
      }
    },
    {
      "cell_type": "code",
      "source": [
        "def eh_soluvel(puzzle):\n",
        "    inversoes = 0\n",
        "    valores = [n for n in puzzle if n != 0]\n",
        "    for i in range(len(valores)):\n",
        "        for j in range(i + 1, len(valores)):\n",
        "            if valores[i] > valores[j]:\n",
        "                inversoes += 1\n",
        "    return inversoes % 2 == 0\n",
        "\n",
        "puzzle = (1, 2, 3, 4, 5, 6, 0, 7, 8)\n",
        "\n",
        "if eh_soluvel(puzzle):\n",
        "    resultado = bfs(puzzle)\n",
        "    if resultado:\n",
        "        for chave, valor in resultado.items():\n",
        "            print(f\"{chave}: {valor}\")\n",
        "    else:\n",
        "        print(\"Solução não encontrada.\")\n",
        "else:\n",
        "    print(\"Este puzzle não é solucionável.\")"
      ],
      "metadata": {
        "colab": {
          "base_uri": "https://localhost:8080/",
          "height": 0
        },
        "collapsed": true,
        "id": "8J78ADU1wRYF",
        "outputId": "fddf03b9-eb91-4f82-fd6a-59466326b883"
      },
      "execution_count": 10,
      "outputs": [
        {
          "output_type": "stream",
          "name": "stdout",
          "text": [
            "path_to_goal: ['Right', 'Right']\n",
            "cost_of_path: 2\n",
            "nodes_expanded: 6\n",
            "fringe_size: 10\n",
            "max_fringe_size: 12\n",
            "search_depth: 2\n",
            "max_search_depth: 3\n",
            "running_time: 8.803e-05\n"
          ]
        }
      ]
    },
    {
      "cell_type": "markdown",
      "source": [
        "**Verifica se o puzzle é solucionável (com base na contagem de inversões).Puzzle 8-puzzle só é resolvível se o número de inversões for par.**"
      ],
      "metadata": {
        "id": "EnxECGYfwS7v"
      }
    },
    {
      "cell_type": "markdown",
      "source": [
        "**7 - Execução no final do script:**"
      ],
      "metadata": {
        "id": "FAhhy35PwUZD"
      }
    },
    {
      "cell_type": "code",
      "source": [
        "puzzle = (1, 2, 3, 4, 5, 6, 0, 7, 8)"
      ],
      "metadata": {
        "id": "adPmTJl6wVcv"
      },
      "execution_count": 11,
      "outputs": []
    },
    {
      "cell_type": "markdown",
      "source": [
        "**Define o estado inicial do puzzle. Verifica se ele é solucionável com eh_soluvel. Se for, executa a busca BFS e imprime as estatísticas.**"
      ],
      "metadata": {
        "id": "TicxNGH1wWpy"
      }
    },
    {
      "cell_type": "markdown",
      "source": [
        "**Agora, voltando para o código testarei outra sequência para o puzzle.**"
      ],
      "metadata": {
        "id": "mw1paYsxwXrt"
      }
    },
    {
      "cell_type": "code",
      "source": [
        "import time\n",
        "from collections import deque\n",
        "\n",
        "MOVES = {\n",
        "    -3: 'Up',\n",
        "     3: 'Down',\n",
        "    -1: 'Left',\n",
        "     1: 'Right'\n",
        "}\n",
        "\n",
        "def get_posicoes_vizinhas(index):\n",
        "    moves = []\n",
        "    row, col = divmod(index, 3)\n",
        "    if row > 0: moves.append(-3)\n",
        "    if row < 2: moves.append(3)\n",
        "    if col > 0: moves.append(-1)\n",
        "    if col < 2: moves.append(1)\n",
        "    return moves\n",
        "\n",
        "def mover(puzzle, move):\n",
        "    zero_idx = puzzle.index(0)\n",
        "    swap_idx = zero_idx + move\n",
        "    puzzle = list(puzzle)\n",
        "    puzzle[zero_idx], puzzle[swap_idx] = puzzle[swap_idx], puzzle[zero_idx]\n",
        "    return tuple(puzzle)\n",
        "\n",
        "def bfs(puzzle_inicial):\n",
        "    objetivo = (1, 2, 3, 4, 5, 6, 7, 8, 0)\n",
        "    start_time = time.process_time()\n",
        "\n",
        "    fila = deque()\n",
        "    fila.append((puzzle_inicial, [], 0))\n",
        "    visitados = set()\n",
        "\n",
        "    nodes_expanded = 0\n",
        "    max_fringe_size = 0\n",
        "    max_depth = 0\n",
        "\n",
        "    while fila:\n",
        "        max_fringe_size = max(max_fringe_size, len(fila))\n",
        "        estado, caminho, profundidade = fila.popleft()\n",
        "\n",
        "        if estado == objetivo:\n",
        "            end_time = time.process_time()\n",
        "            return {\n",
        "                \"path_to_goal\": caminho,\n",
        "                \"cost_of_path\": len(caminho),\n",
        "                \"nodes_expanded\": nodes_expanded,\n",
        "                \"fringe_size\": len(fila),\n",
        "                \"max_fringe_size\": max_fringe_size,\n",
        "                \"search_depth\": profundidade,\n",
        "                \"max_search_depth\": max_depth,\n",
        "                \"running_time\": round(end_time - start_time, 8)\n",
        "            }\n",
        "\n",
        "        if estado in visitados:\n",
        "            continue\n",
        "        visitados.add(estado)\n",
        "\n",
        "        zero_idx = estado.index(0)\n",
        "        for move in get_posicoes_vizinhas(zero_idx):\n",
        "            novo_estado = mover(estado, move)\n",
        "            nova_acao = MOVES[move]\n",
        "            fila.append((novo_estado, caminho + [nova_acao], profundidade + 1))\n",
        "            max_depth = max(max_depth, profundidade + 1)\n",
        "\n",
        "        nodes_expanded += 1\n",
        "\n",
        "    return None\n",
        "\n",
        "def eh_soluvel(puzzle):\n",
        "    inversoes = 0\n",
        "    valores = [n for n in puzzle if n != 0]\n",
        "    for i in range(len(valores)):\n",
        "        for j in range(i + 1, len(valores)):\n",
        "            if valores[i] > valores[j]:\n",
        "                inversoes += 1\n",
        "    return inversoes % 2 == 0\n",
        "\n",
        "puzzle = (1, 3, 4, 2, 5, 6, 0, 7, 8)\n",
        "\n",
        "if eh_soluvel(puzzle):\n",
        "    resultado = bfs(puzzle)\n",
        "    if resultado:\n",
        "        for chave, valor in resultado.items():\n",
        "            print(f\"{chave}: {valor}\")\n",
        "    else:\n",
        "        print(\"Solução não encontrada.\")\n",
        "else:\n",
        "    print(\"Este puzzle não é solucionável.\")"
      ],
      "metadata": {
        "colab": {
          "base_uri": "https://localhost:8080/",
          "height": 0
        },
        "id": "4CaAJHiAwjmF",
        "outputId": "07696778-83f9-40e0-ca15-951ffed2718c"
      },
      "execution_count": 12,
      "outputs": [
        {
          "output_type": "stream",
          "name": "stdout",
          "text": [
            "path_to_goal: ['Right', 'Up', 'Left', 'Up', 'Right', 'Right', 'Down', 'Left', 'Up', 'Left', 'Down', 'Right', 'Right', 'Up', 'Left', 'Down', 'Down', 'Right']\n",
            "cost_of_path: 18\n",
            "nodes_expanded: 24218\n",
            "fringe_size: 21765\n",
            "max_fringe_size: 21768\n",
            "search_depth: 18\n",
            "max_search_depth: 19\n",
            "running_time: 0.21944453\n"
          ]
        }
      ]
    },
    {
      "cell_type": "markdown",
      "source": [
        "**Agora utilizando a sequência (1, 3, 4, 2, 5, 6, 0, 7, 8) esse foi o resultado, note que os dados de saída são diferentes do último teste.**"
      ],
      "metadata": {
        "id": "_nChvgUPwkoT"
      }
    },
    {
      "cell_type": "markdown",
      "source": [
        " **Depois de implementar o BFS, agora implementei o DFS, segue o código:**\n"
      ],
      "metadata": {
        "id": "oE2tamNkwl6m"
      }
    },
    {
      "cell_type": "code",
      "source": [
        "import time\n",
        "from collections import deque\n",
        "\n",
        "MOVES = {\n",
        "    -3: 'Up',\n",
        "     3: 'Down',\n",
        "    -1: 'Left',\n",
        "     1: 'Right'\n",
        "}\n",
        "\n",
        "def get_posicoes_vizinhas(index):\n",
        "    moves = []\n",
        "    row, col = divmod(index, 3)\n",
        "    if row > 0: moves.append(-3)\n",
        "    if row < 2: moves.append(3)\n",
        "    if col > 0: moves.append(-1)\n",
        "    if col < 2: moves.append(1)\n",
        "    return moves\n",
        "\n",
        "def mover(puzzle, move):\n",
        "    zero_idx = puzzle.index(0)\n",
        "    swap_idx = zero_idx + move\n",
        "    puzzle = list(puzzle)\n",
        "    puzzle[zero_idx], puzzle[swap_idx] = puzzle[swap_idx], puzzle[zero_idx]\n",
        "    return tuple(puzzle)\n",
        "\n",
        "def dfs(puzzle_inicial):\n",
        "    objetivo = (1, 2, 3, 4, 5, 6, 7, 8, 0)\n",
        "    start_time = time.process_time()\n",
        "\n",
        "    pilha = []\n",
        "    pilha.append((puzzle_inicial, [], 0))\n",
        "    visitados = set()\n",
        "\n",
        "    nodes_expanded = 0\n",
        "    max_fringe_size = 0\n",
        "    max_depth = 0\n",
        "\n",
        "    while pilha:\n",
        "        max_fringe_size = max(max_fringe_size, len(pilha))\n",
        "        estado, caminho, profundidade = pilha.pop()\n",
        "\n",
        "        if estado == objetivo:\n",
        "            end_time = time.process_time()\n",
        "            return {\n",
        "                \"path_to_goal\": caminho,\n",
        "                \"cost_of_path\": len(caminho),\n",
        "                \"nodes_expanded\": nodes_expanded,\n",
        "                \"fringe_size\": len(pilha),\n",
        "                \"max_fringe_size\": max_fringe_size,\n",
        "                \"search_depth\": profundidade,\n",
        "                \"max_search_depth\": max_depth,\n",
        "                \"running_time\": round(end_time - start_time, 8)\n",
        "            }\n",
        "\n",
        "        if estado in visitados:\n",
        "            continue\n",
        "        visitados.add(estado)\n",
        "\n",
        "        zero_idx = estado.index(0)\n",
        "        for move in reversed(get_posicoes_vizinhas(zero_idx)):\n",
        "            novo_estado = mover(estado, move)\n",
        "            nova_acao = MOVES[move]\n",
        "            pilha.append((novo_estado, caminho + [nova_acao], profundidade + 1))\n",
        "            max_depth = max(max_depth, profundidade + 1)\n",
        "\n",
        "        nodes_expanded += 1\n",
        "\n",
        "    return None\n",
        "\n",
        "def eh_soluvel(puzzle):\n",
        "    inversoes = 0\n",
        "    valores = [n for n in puzzle if n != 0]\n",
        "    for i in range(len(valores)):\n",
        "        for j in range(i + 1, len(valores)):\n",
        "            if valores[i] > valores[j]:\n",
        "                inversoes += 1\n",
        "    return inversoes % 2 == 0\n",
        "\n",
        "\n",
        "puzzle = (1, 2, 3, 4, 5, 6, 0, 7, 8)\n",
        "\n",
        "if eh_soluvel(puzzle):\n",
        "    resultado = dfs(puzzle)\n",
        "    if resultado:\n",
        "        for chave, valor in resultado.items():\n",
        "            print(f\"{chave}: {valor}\")\n",
        "    else:\n",
        "        print(\"Solução não encontrada.\")\n",
        "else:\n",
        "    print(\"Este puzzle não é solucionável.\")\n"
      ],
      "metadata": {
        "colab": {
          "base_uri": "https://localhost:8080/",
          "height": 0
        },
        "id": "RgQRDDpCwnXu",
        "outputId": "a5a79500-7c7b-4f32-c409-8a018acbd180"
      },
      "execution_count": 13,
      "outputs": [
        {
          "output_type": "stream",
          "name": "stdout",
          "text": [
            "path_to_goal: ['Up', 'Up', 'Right', 'Down', 'Down', 'Left', 'Up', 'Up', 'Right', 'Down', 'Down', 'Left', 'Up', 'Up', 'Right', 'Down', 'Down', 'Left', 'Up', 'Up', 'Right', 'Down', 'Down', 'Left', 'Up', 'Up', 'Right', 'Down', 'Down', 'Right']\n",
            "cost_of_path: 30\n",
            "nodes_expanded: 30\n",
            "fringe_size: 39\n",
            "max_fringe_size: 42\n",
            "search_depth: 30\n",
            "max_search_depth: 30\n",
            "running_time: 0.00017033\n"
          ]
        }
      ]
    },
    {
      "cell_type": "markdown",
      "source": [
        "**Novamente como primeiro teste, usei a sequência (1, 2, 3, 4, 5, 6, 0, 7, 8) e obtive esse resultado acima. Note que essa saída foi diferente da saída do código implementado BFS, agora tivemos muito mais movimentos para chegar no resultado final que é a sequência (1, 2, 3, 4, 5, 6, 7, 8, 0).**"
      ],
      "metadata": {
        "id": "sSRVvCk9wwUo"
      }
    },
    {
      "cell_type": "markdown",
      "source": [
        "**Agora, explicando célula por célula, desconsiderarei as células de Importações, Dicionário de Movimentos, Checar vizinhos, Mover e Verificação de Solubilidade, já que são as mesmas do código implementando BFS e explicarei somente a célula acerca do DFS.**"
      ],
      "metadata": {
        "id": "XUzBTy3Iwxg-"
      }
    },
    {
      "cell_type": "markdown",
      "source": [
        " **Função dfs(puzzle_inicial):**"
      ],
      "metadata": {
        "id": "I_Z40c23w0AE"
      }
    },
    {
      "cell_type": "markdown",
      "source": [
        "**Objetivo e cronômetro:**"
      ],
      "metadata": {
        "id": "fFWGox6pw1w4"
      }
    },
    {
      "cell_type": "code",
      "source": [
        "objetivo = (1, 2, 3, 4, 5, 6, 7, 8, 0)\n",
        "start_time = time.process_time()"
      ],
      "metadata": {
        "id": "zfvx41Oaw3o0"
      },
      "execution_count": null,
      "outputs": []
    },
    {
      "cell_type": "markdown",
      "source": [
        "**Define o estado final que representa a solução do puzzle.**\n",
        "**Inicia a contagem do tempo para medir quanto tempo o algoritmo leva para encontrar a solução.**"
      ],
      "metadata": {
        "id": "BBG5Xo_tw5gn"
      }
    },
    {
      "cell_type": "markdown",
      "source": [
        "**Estrutura da pilha e variáveis de estatísticas:**"
      ],
      "metadata": {
        "id": "HyZD8MLHw793"
      }
    },
    {
      "cell_type": "code",
      "source": [
        "pilha = []\n",
        "pilha.append((puzzle_inicial, [], 0))\n",
        "visitados = set()"
      ],
      "metadata": {
        "id": "BGOBL8JGxB3Q"
      },
      "execution_count": null,
      "outputs": []
    },
    {
      "cell_type": "markdown",
      "source": [
        "**Inicializa uma pilha com o estado inicial, o caminho feito até ali (vazio), e a profundidade (0).**\n",
        "**\"visitados\" é um set para evitar estados repetidos.**"
      ],
      "metadata": {
        "id": "EUfxAyeExFrA"
      }
    },
    {
      "cell_type": "markdown",
      "source": [
        "**Inicialização de estatísticas:**"
      ],
      "metadata": {
        "id": "zIS39vPCxHmW"
      }
    },
    {
      "cell_type": "code",
      "source": [
        "nodes_expanded = 0\n",
        "max_fringe_size = 0\n",
        "max_depth = 0"
      ],
      "metadata": {
        "id": "CVUfUThAxJmZ"
      },
      "execution_count": null,
      "outputs": []
    },
    {
      "cell_type": "markdown",
      "source": [
        "**Estas variáveis guardam estatísticas úteis:**\n",
        "\n",
        "**nodes_expanded: quantos nós foram explorados.**\n",
        "**max_fringe_size: maior número de elementos na pilha durante a execução.**\n",
        "**max_depth: maior profundidade atingida.**"
      ],
      "metadata": {
        "id": "qSZidNa6xLBm"
      }
    },
    {
      "cell_type": "markdown",
      "source": [
        "**Loop principal da DFS:**"
      ],
      "metadata": {
        "id": "A_S2Cx5yxMjd"
      }
    },
    {
      "cell_type": "code",
      "source": [
        "while pilha:"
      ],
      "metadata": {
        "id": "RqB9hgMKxN2-"
      },
      "execution_count": null,
      "outputs": []
    },
    {
      "cell_type": "markdown",
      "source": [
        "Enquanto a pilha tiver elementos, o algoritmo continua."
      ],
      "metadata": {
        "id": "Cg9Gog6gxPN3"
      }
    },
    {
      "cell_type": "markdown",
      "source": [
        "**Pega o último estado da pilha (DFS é LIFO):**"
      ],
      "metadata": {
        "id": "NnTW4r97xQK_"
      }
    },
    {
      "cell_type": "code",
      "source": [
        "max_fringe_size = max(max_fringe_size, len(pilha))\n",
        "estado, caminho, profundidade = pilha.pop()"
      ],
      "metadata": {
        "id": "THQsC8-txRel"
      },
      "execution_count": null,
      "outputs": []
    },
    {
      "cell_type": "markdown",
      "source": [
        "**Atualiza o tamanho máximo da pilha.**\n",
        "**Pega o último estado adicionado (típico da busca em profundidade).**"
      ],
      "metadata": {
        "id": "UgHmyrvZxTnt"
      }
    },
    {
      "cell_type": "markdown",
      "source": [
        "**Verifica se encontrou a solução:**"
      ],
      "metadata": {
        "id": "NGe2mKr1xUlZ"
      }
    },
    {
      "cell_type": "code",
      "source": [
        "if estado == objetivo:\n",
        "    end_time = time.process_time()\n",
        "    return {\n",
        "        \"path_to_goal\": caminho,\n",
        "        \"cost_of_path\": len(caminho),\n",
        "        \"nodes_expanded\": nodes_expanded,\n",
        "        \"fringe_size\": len(pilha),\n",
        "        \"max_fringe_size\": max_fringe_size,\n",
        "        \"search_depth\": profundidade,\n",
        "        \"max_search_depth\": max_depth,\n",
        "        \"running_time\": round(end_time - start_time, 8)\n",
        "    }"
      ],
      "metadata": {
        "id": "OMeYOZK4xV9u"
      },
      "execution_count": null,
      "outputs": []
    },
    {
      "cell_type": "markdown",
      "source": [
        "**Se o estado atual é o objetivo, para a execução e retorna todas as estatísticas calculadas até aqui.**"
      ],
      "metadata": {
        "id": "tOHnfJW-xW1R"
      }
    },
    {
      "cell_type": "markdown",
      "source": [
        "**Ignora estados já visitados:**"
      ],
      "metadata": {
        "id": "-1ZON2bMxYcV"
      }
    },
    {
      "cell_type": "code",
      "source": [
        "if estado in visitados:\n",
        "        continue\n",
        "    visitados.add(estado)"
      ],
      "metadata": {
        "id": "S5cxHvBrxals"
      },
      "execution_count": null,
      "outputs": []
    },
    {
      "cell_type": "markdown",
      "source": [
        "**Evita ciclos e repetições ao verificar se o estado já foi visitado.**"
      ],
      "metadata": {
        "id": "Pyxc3rtdxclk"
      }
    },
    {
      "cell_type": "markdown",
      "source": [
        "**Gera novos estados a partir de movimentos possíveis:**"
      ],
      "metadata": {
        "id": "eJv6Ls73xeTA"
      }
    },
    {
      "cell_type": "code",
      "source": [
        "zero_idx = estado.index(0)\n",
        "    for move in reversed(get_posicoes_vizinhas(zero_idx)):\n",
        "        novo_estado = mover(estado, move)\n",
        "        nova_acao = MOVES[move]\n",
        "        pilha.append((novo_estado, caminho + [nova_acao], profundidade + 1))\n",
        "        max_depth = max(max_depth, profundidade + 1)"
      ],
      "metadata": {
        "id": "FOoH5JR0xfnP"
      },
      "execution_count": null,
      "outputs": []
    },
    {
      "cell_type": "markdown",
      "source": [
        "**Pega a posição do zero. Para cada movimento válido, gera o novo estado e o adiciona na pilha.** **Usa reversed para manter a ordem de expansão consistente com a BFS (opcional). Atualiza a profundidade máxima se necessário.**"
      ],
      "metadata": {
        "id": "D9iAknwbxgRu"
      }
    },
    {
      "cell_type": "markdown",
      "source": [
        "**Atualiza número de nós expandidos:**"
      ],
      "metadata": {
        "id": "yMD1-FXZxhk4"
      }
    },
    {
      "cell_type": "code",
      "source": [
        "nodes_expanded += 1"
      ],
      "metadata": {
        "id": "bLvAsCNWxkCu"
      },
      "execution_count": null,
      "outputs": []
    },
    {
      "cell_type": "markdown",
      "source": [
        "**Conta mais um nó explorado.**"
      ],
      "metadata": {
        "id": "79V0DLUSxlOG"
      }
    },
    {
      "cell_type": "markdown",
      "source": [
        "**Se esgotar a pilha sem achar solução:**"
      ],
      "metadata": {
        "id": "5OY4FMDoxm68"
      }
    },
    {
      "cell_type": "code",
      "source": [
        "return None"
      ],
      "metadata": {
        "id": "qHhr0Qxpxn-G"
      },
      "execution_count": null,
      "outputs": []
    },
    {
      "cell_type": "markdown",
      "source": [
        "**Retorna \"None\" se nenhum caminho levar à solução (teoricamente não deve acontecer se o puzzle for solucionável).**"
      ],
      "metadata": {
        "id": "m1UZG4ecxout"
      }
    },
    {
      "cell_type": "markdown",
      "source": [
        "**OBS: A explicação da função está nessa estrutura: (Descrição do comando - Código - Explicação), ou seja terá uma linha de comentário, uma linha de código e por último outra linha de comentário para cada explicação.**"
      ],
      "metadata": {
        "id": "TDb7TDpDxqaD"
      }
    },
    {
      "cell_type": "markdown",
      "source": [
        "**Voltando ao código, rodarei mais uma vez porém agora utilizando outras sequências.**"
      ],
      "metadata": {
        "id": "-wwZ7zGcxrTY"
      }
    },
    {
      "cell_type": "code",
      "source": [
        "import time\n",
        "from collections import deque\n",
        "\n",
        "MOVES = {\n",
        "    -3: 'Up',\n",
        "     3: 'Down',\n",
        "    -1: 'Left',\n",
        "     1: 'Right'\n",
        "}\n",
        "\n",
        "def get_posicoes_vizinhas(index):\n",
        "    moves = []\n",
        "    row, col = divmod(index, 3)\n",
        "    if row > 0: moves.append(-3)\n",
        "    if row < 2: moves.append(3)\n",
        "    if col > 0: moves.append(-1)\n",
        "    if col < 2: moves.append(1)\n",
        "    return moves\n",
        "\n",
        "def mover(puzzle, move):\n",
        "    zero_idx = puzzle.index(0)\n",
        "    swap_idx = zero_idx + move\n",
        "    puzzle = list(puzzle)\n",
        "    puzzle[zero_idx], puzzle[swap_idx] = puzzle[swap_idx], puzzle[zero_idx]\n",
        "    return tuple(puzzle)\n",
        "\n",
        "def dfs(puzzle_inicial):\n",
        "    objetivo = (1, 2, 3, 4, 5, 6, 7, 8, 0)\n",
        "    start_time = time.process_time()\n",
        "\n",
        "    pilha = []\n",
        "    pilha.append((puzzle_inicial, [], 0))\n",
        "    visitados = set()\n",
        "\n",
        "    nodes_expanded = 0\n",
        "    max_fringe_size = 0\n",
        "    max_depth = 0\n",
        "\n",
        "    while pilha:\n",
        "        max_fringe_size = max(max_fringe_size, len(pilha))\n",
        "        estado, caminho, profundidade = pilha.pop()\n",
        "\n",
        "        if estado == objetivo:\n",
        "            end_time = time.process_time()\n",
        "            return {\n",
        "                \"path_to_goal\": caminho,\n",
        "                \"cost_of_path\": len(caminho),\n",
        "                \"nodes_expanded\": nodes_expanded,\n",
        "                \"fringe_size\": len(pilha),\n",
        "                \"max_fringe_size\": max_fringe_size,\n",
        "                \"search_depth\": profundidade,\n",
        "                \"max_search_depth\": max_depth,\n",
        "                \"running_time\": round(end_time - start_time, 8)\n",
        "            }\n",
        "\n",
        "        if estado in visitados:\n",
        "            continue\n",
        "        visitados.add(estado)\n",
        "\n",
        "        zero_idx = estado.index(0)\n",
        "        for move in reversed(get_posicoes_vizinhas(zero_idx)):\n",
        "            novo_estado = mover(estado, move)\n",
        "            nova_acao = MOVES[move]\n",
        "            pilha.append((novo_estado, caminho + [nova_acao], profundidade + 1))\n",
        "            max_depth = max(max_depth, profundidade + 1)\n",
        "\n",
        "        nodes_expanded += 1\n",
        "\n",
        "    return None\n",
        "\n",
        "def eh_soluvel(puzzle):\n",
        "    inversoes = 0\n",
        "    valores = [n for n in puzzle if n != 0]\n",
        "    for i in range(len(valores)):\n",
        "        for j in range(i + 1, len(valores)):\n",
        "            if valores[i] > valores[j]:\n",
        "                inversoes += 1\n",
        "    return inversoes % 2 == 0\n",
        "\n",
        "\n",
        "puzzle =  (1, 2, 3, 6, 5, 4, 0, 8, 7)\n",
        "\n",
        "if eh_soluvel(puzzle):\n",
        "    resultado = dfs(puzzle)\n",
        "    if resultado:\n",
        "        for chave, valor in resultado.items():\n",
        "            print(f\"{chave}: {valor}\")\n",
        "    else:\n",
        "        print(\"Solução não encontrada.\")\n",
        "else:\n",
        "    print(\"Este puzzle não é solucionável.\")"
      ],
      "metadata": {
        "id": "ctE8x8nNxtP7"
      },
      "execution_count": null,
      "outputs": []
    },
    {
      "cell_type": "markdown",
      "source": [
        "**OBS: Antes de vir para o colab e passar o trabalho a limpo, fiz tudo no jupyter notebook lite. Lá, quando tentei rodar esse código, recebi um aviso de erro de memória. Segue o Print:**"
      ],
      "metadata": {
        "id": "SxTtkJxbyGET"
      }
    },
    {
      "cell_type": "markdown",
      "source": [
        "![ahhahaa error.png](data:image/png;base64,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)"
      ],
      "metadata": {
        "id": "C7syGZf_yhQL"
      }
    },
    {
      "cell_type": "markdown",
      "source": [
        "**Após tentar algumas sequências, obtive essa resposta de erro (MemoryError) e fui procurar o motivo. Acabei descobrindo que isso geralmente acontece porque a busca em profundidade (DFS) está explorando muitos nós, especialmente se o puzzle for difícil ou estiver perto de uma configuração sem solução rápida, ou sejá o DFS pode estar explorando caminhos longos demais, acumulando muitos estados na memória. Para isso adicionarei um limite de profundidade no código e tentar rodar-lo novamente.**"
      ],
      "metadata": {
        "id": "12YdH7FkyyRo"
      }
    },
    {
      "cell_type": "code",
      "source": [
        "import time\n",
        "from collections import deque\n",
        "\n",
        "MOVES = {\n",
        "    -3: 'Up',\n",
        "     3: 'Down',\n",
        "    -1: 'Left',\n",
        "     1: 'Right'\n",
        "}\n",
        "\n",
        "def get_posicoes_vizinhas(index):\n",
        "    moves = []\n",
        "    row, col = divmod(index, 3)\n",
        "    if row > 0: moves.append(-3)\n",
        "    if row < 2: moves.append(3)\n",
        "    if col > 0: moves.append(-1)\n",
        "    if col < 2: moves.append(1)\n",
        "    return moves\n",
        "\n",
        "def mover(puzzle, move):\n",
        "    zero_idx = puzzle.index(0)\n",
        "    swap_idx = zero_idx + move\n",
        "    puzzle = list(puzzle)\n",
        "    puzzle[zero_idx], puzzle[swap_idx] = puzzle[swap_idx], puzzle[zero_idx]\n",
        "    return tuple(puzzle)\n",
        "\n",
        "def dfs(puzzle_inicial, limite_profundidade=20):\n",
        "    objetivo = (1, 2, 3, 4, 5, 6, 7, 8, 0)\n",
        "    start_time = time.process_time()\n",
        "\n",
        "    pilha = []\n",
        "    pilha.append((puzzle_inicial, [], 0))\n",
        "    visitados = set()\n",
        "\n",
        "    nodes_expanded = 0\n",
        "    max_fringe_size = 0\n",
        "    max_depth = 0\n",
        "\n",
        "    while pilha:\n",
        "        max_fringe_size = max(max_fringe_size, len(pilha))\n",
        "        estado, caminho, profundidade = pilha.pop()\n",
        "\n",
        "        if estado == objetivo:\n",
        "            end_time = time.process_time()\n",
        "            return {\n",
        "                \"path_to_goal\": caminho,\n",
        "                \"cost_of_path\": len(caminho),\n",
        "                \"nodes_expanded\": nodes_expanded,\n",
        "                \"fringe_size\": len(pilha),\n",
        "                \"max_fringe_size\": max_fringe_size,\n",
        "                \"search_depth\": profundidade,\n",
        "                \"max_search_depth\": max_depth,\n",
        "                \"running_time\": round(end_time - start_time, 8)\n",
        "            }\n",
        "\n",
        "        if estado in visitados:\n",
        "            continue\n",
        "        visitados.add(estado)\n",
        "\n",
        "        if profundidade < limite_profundidade:\n",
        "            zero_idx = estado.index(0)\n",
        "            for move in reversed(get_posicoes_vizinhas(zero_idx)):\n",
        "                novo_estado = mover(estado, move)\n",
        "                nova_acao = MOVES[move]\n",
        "                pilha.append((novo_estado, caminho + [nova_acao], profundidade + 1))\n",
        "                max_depth = max(max_depth, profundidade + 1)\n",
        "\n",
        "        nodes_expanded += 1\n",
        "\n",
        "    return None\n",
        "\n",
        "def eh_soluvel(puzzle):\n",
        "    inversoes = 0\n",
        "    valores = [n for n in puzzle if n != 0]\n",
        "    for i in range(len(valores)):\n",
        "        for j in range(i + 1, len(valores)):\n",
        "            if valores[i] > valores[j]:\n",
        "                inversoes += 1\n",
        "    return inversoes % 2 == 0\n",
        "\n",
        "puzzle = (1, 2, 3, 6, 5, 4, 0, 8, 7)\n",
        "\n",
        "if eh_soluvel(puzzle):\n",
        "    resultado = dfs(puzzle, limite_profundidade=10000)\n",
        "    if resultado:\n",
        "        for chave, valor in resultado.items():\n",
        "            print(f\"{chave}: {valor}\")\n",
        "    else:\n",
        "        print(\"Solução não encontrada dentro do limite de profundidade.\")\n",
        "else:\n",
        "    print(\"Este puzzle não é solucionável.\")"
      ],
      "metadata": {
        "colab": {
          "base_uri": "https://localhost:8080/",
          "height": 0
        },
        "id": "5RnY01Hgy8C1",
        "outputId": "29e68b44-4577-4df4-a0b0-ec850b60913a"
      },
      "execution_count": 1,
      "outputs": [
        {
          "output_type": "stream",
          "name": "stdout",
          "text": [
            "path_to_goal: ['Up', 'Up', 'Right', 'Down', 'Down', 'Left', 'Up', 'Up', 'Right', 'Down', 'Down', 'Left', 'Up', 'Up', 'Right', 'Down', 'Down', 'Left', 'Up', 'Up', 'Right', 'Down', 'Down', 'Left', 'Up', 'Up', 'Right', 'Down', 'Down', 'Right', 'Up', 'Up', 'Left', 'Down', 'Down', 'Left', 'Up', 'Up', 'Right', 'Down', 'Down', 'Left', 'Up', 'Up', 'Right', 'Down', 'Down', 'Left', 'Up', 'Up', 'Right', 'Down', 'Down', 'Left', 'Up', 'Up', 'Right', 'Down', 'Down', 'Left', 'Up', 'Right', 'Up', 'Left', 'Down', 'Down', 'Right', 'Up', 'Up', 'Left', 'Down', 'Down', 'Right', 'Up', 'Up', 'Left', 'Down', 'Down', 'Right', 'Up', 'Up', 'Left', 'Down', 'Down', 'Right', 'Up', 'Up', 'Left', 'Down', 'Down', 'Right', 'Right', 'Up', 'Up', 'Left', 'Down', 'Down', 'Left', 'Up', 'Up', 'Right', 'Down', 'Down', 'Left', 'Up', 'Up', 'Right', 'Down', 'Down', 'Left', 'Up', 'Up', 'Right', 'Down', 'Down', 'Left', 'Up', 'Up', 'Right', 'Down', 'Down', 'Left', 'Up', 'Right', 'Up', 'Left', 'Down', 'Down', 'Right', 'Up', 'Up', 'Left', 'Down', 'Down', 'Right', 'Up', 'Up', 'Left', 'Down', 'Down', 'Right', 'Up', 'Up', 'Left', 'Down', 'Down', 'Right', 'Up', 'Up', 'Left', 'Down', 'Down', 'Right', 'Right', 'Up', 'Up', 'Left', 'Down', 'Down', 'Left', 'Up', 'Up', 'Right', 'Down', 'Down', 'Left', 'Up', 'Up', 'Right', 'Down', 'Down', 'Left', 'Up', 'Up', 'Right', 'Down', 'Down', 'Left', 'Up', 'Up', 'Right', 'Down', 'Down', 'Left', 'Up', 'Right', 'Up', 'Left', 'Down', 'Down', 'Right', 'Up', 'Up', 'Left', 'Down', 'Down', 'Right', 'Up', 'Up', 'Left', 'Down', 'Down', 'Right', 'Up', 'Up', 'Left', 'Down', 'Down', 'Right', 'Up', 'Up', 'Left', 'Down', 'Down', 'Right', 'Right', 'Up', 'Up', 'Left', 'Down', 'Down', 'Left', 'Up', 'Up', 'Right', 'Down', 'Down', 'Left', 'Up', 'Up', 'Right', 'Down', 'Down', 'Left', 'Up', 'Up', 'Right', 'Down', 'Down', 'Left', 'Up', 'Up', 'Right', 'Down', 'Down', 'Left', 'Up', 'Right', 'Up', 'Left', 'Down', 'Down', 'Right', 'Up', 'Up', 'Left', 'Down', 'Down', 'Right', 'Up', 'Up', 'Left', 'Down', 'Down', 'Right', 'Up', 'Up', 'Left', 'Down', 'Down', 'Right', 'Up', 'Up', 'Left', 'Down', 'Down', 'Right', 'Right', 'Up', 'Up', 'Left', 'Down', 'Down', 'Left', 'Up', 'Up', 'Right', 'Down', 'Down', 'Left', 'Up', 'Up', 'Right', 'Down', 'Down', 'Left', 'Up', 'Up', 'Right', 'Down', 'Down', 'Left', 'Up', 'Up', 'Right', 'Down', 'Down', 'Left', 'Up', 'Right', 'Up', 'Left', 'Down', 'Down', 'Right', 'Up', 'Up', 'Left', 'Down', 'Down', 'Right', 'Up', 'Up', 'Left', 'Down', 'Down', 'Right', 'Up', 'Up', 'Left', 'Down', 'Down', 'Right', 'Up', 'Up', 'Left', 'Down', 'Down', 'Right', 'Right', 'Up', 'Up', 'Left', 'Down', 'Down', 'Left', 'Up', 'Up', 'Right', 'Down', 'Down', 'Left', 'Up', 'Up', 'Right', 'Down', 'Down', 'Left', 'Up', 'Up', 'Right', 'Down', 'Down', 'Left', 'Up', 'Up', 'Right', 'Down', 'Down', 'Left', 'Up', 'Right', 'Up', 'Left', 'Down', 'Down', 'Right', 'Up', 'Up', 'Left', 'Down', 'Down', 'Right', 'Up', 'Up', 'Left', 'Down', 'Down', 'Right', 'Up', 'Up', 'Left', 'Down', 'Down', 'Right', 'Up', 'Up', 'Left', 'Down', 'Down', 'Right', 'Right', 'Up', 'Up', 'Left', 'Down', 'Down', 'Left', 'Up', 'Up', 'Right', 'Down', 'Down', 'Left', 'Up', 'Up', 'Right', 'Down', 'Down', 'Left', 'Up', 'Up', 'Right', 'Down', 'Down', 'Left', 'Up', 'Up', 'Right', 'Down', 'Down', 'Right', 'Up', 'Up', 'Left', 'Down', 'Down', 'Left', 'Up', 'Up', 'Right', 'Down', 'Down', 'Left', 'Up', 'Up', 'Right', 'Down', 'Down', 'Left', 'Up', 'Up', 'Right', 'Down', 'Down', 'Left', 'Up', 'Up', 'Right', 'Down', 'Down', 'Left', 'Up', 'Right', 'Up', 'Left', 'Down', 'Down', 'Right', 'Up', 'Up', 'Left', 'Down', 'Down', 'Right', 'Up', 'Up', 'Left', 'Down', 'Down', 'Right', 'Up', 'Up', 'Left', 'Down', 'Down', 'Right', 'Up', 'Up', 'Left', 'Down', 'Down', 'Right', 'Right', 'Up', 'Up', 'Left', 'Down', 'Down', 'Left', 'Up', 'Up', 'Right', 'Down', 'Down', 'Left', 'Up', 'Up', 'Right', 'Down', 'Down', 'Left', 'Up', 'Up', 'Right', 'Down', 'Down', 'Left', 'Up', 'Up', 'Right', 'Down', 'Down', 'Left', 'Up', 'Right', 'Up', 'Left', 'Down', 'Down', 'Right', 'Up', 'Up', 'Left', 'Down', 'Down', 'Right', 'Up', 'Up', 'Left', 'Down', 'Down', 'Right', 'Up', 'Up', 'Left', 'Down', 'Down', 'Right', 'Up', 'Up', 'Left', 'Down', 'Down', 'Right', 'Right', 'Up', 'Up', 'Left', 'Down', 'Down', 'Left', 'Up', 'Up', 'Right', 'Down', 'Down', 'Left', 'Up', 'Up', 'Right', 'Down', 'Down', 'Left', 'Up', 'Up', 'Right', 'Down', 'Down', 'Left', 'Up', 'Up', 'Right', 'Down', 'Down', 'Left', 'Up', 'Right', 'Up', 'Left', 'Down', 'Down', 'Right', 'Up', 'Up', 'Left', 'Down', 'Down', 'Right', 'Up', 'Up', 'Left', 'Down', 'Down', 'Right', 'Up', 'Up', 'Left', 'Down', 'Down', 'Right', 'Up', 'Up', 'Left', 'Down', 'Down', 'Right', 'Right', 'Up', 'Up', 'Left', 'Down', 'Down', 'Left', 'Up', 'Up', 'Right', 'Down', 'Down', 'Left', 'Up', 'Up', 'Right', 'Down', 'Down', 'Left', 'Up', 'Up', 'Right', 'Down', 'Down', 'Left', 'Up', 'Up', 'Right', 'Down', 'Down', 'Left', 'Up', 'Right', 'Up', 'Left', 'Down', 'Down', 'Right', 'Up', 'Up', 'Left', 'Down', 'Down', 'Right', 'Up', 'Up', 'Left', 'Down', 'Down', 'Right', 'Up', 'Up', 'Left', 'Down', 'Down', 'Right', 'Up', 'Up', 'Left', 'Down', 'Down', 'Right', 'Right', 'Up', 'Up', 'Left', 'Down', 'Down', 'Left', 'Up', 'Up', 'Right', 'Down', 'Down', 'Left', 'Up', 'Up', 'Right', 'Down', 'Down', 'Left', 'Up', 'Up', 'Right', 'Down', 'Down', 'Left', 'Up', 'Up', 'Right', 'Down', 'Down', 'Left', 'Up', 'Right', 'Up', 'Left', 'Down', 'Down', 'Right', 'Up', 'Up', 'Left', 'Down', 'Down', 'Right', 'Up', 'Up', 'Left', 'Down', 'Down', 'Right', 'Up', 'Up', 'Left', 'Down', 'Down', 'Right', 'Up', 'Up', 'Left', 'Down', 'Down', 'Right', 'Right', 'Up', 'Up', 'Left', 'Down', 'Down', 'Left', 'Up', 'Up', 'Right', 'Down', 'Down', 'Left', 'Up', 'Up', 'Right', 'Down', 'Down', 'Left', 'Up', 'Up', 'Right', 'Down', 'Down', 'Left', 'Up', 'Up', 'Right', 'Down', 'Down', 'Left', 'Up', 'Right', 'Up', 'Left', 'Down', 'Down', 'Right', 'Up', 'Up', 'Left', 'Down', 'Down', 'Right', 'Up', 'Up', 'Left', 'Down', 'Down', 'Right', 'Up', 'Up', 'Left', 'Down', 'Down', 'Right', 'Up', 'Up', 'Left', 'Down', 'Down', 'Right', 'Right', 'Up', 'Up', 'Left', 'Down', 'Down', 'Left', 'Up', 'Up', 'Right', 'Down', 'Down', 'Left', 'Up', 'Up', 'Right', 'Down', 'Down', 'Left', 'Up', 'Up', 'Right', 'Down', 'Down', 'Left', 'Up', 'Up', 'Right', 'Down', 'Down', 'Right', 'Up', 'Up', 'Left', 'Down', 'Down', 'Left', 'Up', 'Up', 'Right', 'Down', 'Down', 'Left', 'Up', 'Up', 'Right', 'Down', 'Down', 'Left', 'Up', 'Up', 'Right', 'Down', 'Down', 'Left', 'Up', 'Up', 'Right', 'Down', 'Down', 'Left', 'Up', 'Right', 'Up', 'Left', 'Down', 'Down', 'Right', 'Up', 'Up', 'Left', 'Down', 'Down', 'Right', 'Up', 'Up', 'Left', 'Down', 'Down', 'Right', 'Up', 'Up', 'Left', 'Down', 'Down', 'Right', 'Up', 'Up', 'Left', 'Down', 'Down', 'Right', 'Right', 'Up', 'Up', 'Left', 'Down', 'Down', 'Left', 'Up', 'Up', 'Right', 'Down', 'Down', 'Left', 'Up', 'Up', 'Right', 'Down', 'Down', 'Left', 'Up', 'Up', 'Right', 'Down', 'Down', 'Left', 'Up', 'Up', 'Right', 'Down', 'Down', 'Left', 'Up', 'Right', 'Up', 'Left', 'Down', 'Down', 'Right', 'Up', 'Up', 'Left', 'Down', 'Down', 'Right', 'Up', 'Up', 'Left', 'Down', 'Down', 'Right', 'Up', 'Up', 'Left', 'Down', 'Down', 'Right', 'Up', 'Up', 'Left', 'Down', 'Down', 'Right', 'Right', 'Up', 'Up', 'Left', 'Down', 'Down', 'Left', 'Up', 'Up', 'Right', 'Down', 'Down', 'Left', 'Up', 'Up', 'Right', 'Down', 'Down', 'Left', 'Up', 'Up', 'Right', 'Down', 'Down', 'Left', 'Up', 'Up', 'Right', 'Down', 'Down', 'Left', 'Up', 'Right', 'Up', 'Left', 'Down', 'Down', 'Right', 'Up', 'Up', 'Left', 'Down', 'Down', 'Right', 'Up', 'Up', 'Left', 'Down', 'Down', 'Right', 'Up', 'Up', 'Left', 'Down', 'Down', 'Right', 'Up', 'Up', 'Left', 'Down', 'Down', 'Right', 'Right', 'Up', 'Up', 'Left', 'Down', 'Down', 'Left', 'Up', 'Up', 'Right', 'Down', 'Down', 'Left', 'Up', 'Up', 'Right', 'Down', 'Down', 'Left', 'Up', 'Up', 'Right', 'Down', 'Down', 'Left', 'Up', 'Up', 'Right', 'Down', 'Down', 'Left', 'Up', 'Right', 'Up', 'Left', 'Down', 'Down', 'Right', 'Up', 'Up', 'Left', 'Down', 'Down', 'Right', 'Up', 'Up', 'Left', 'Down', 'Down', 'Right', 'Up', 'Up', 'Left', 'Down', 'Down', 'Right', 'Up', 'Up', 'Left', 'Down', 'Down', 'Right', 'Right', 'Up', 'Up', 'Left', 'Down', 'Down', 'Left', 'Up', 'Up', 'Right', 'Down', 'Down', 'Left', 'Up', 'Up', 'Right', 'Down', 'Down', 'Left', 'Up', 'Up', 'Right', 'Down', 'Down', 'Left', 'Up', 'Up', 'Right', 'Down', 'Down', 'Left', 'Up', 'Right', 'Up', 'Left', 'Down', 'Down', 'Right', 'Up', 'Up', 'Left', 'Down', 'Down', 'Right', 'Up', 'Up', 'Left', 'Down', 'Down', 'Right', 'Up', 'Up', 'Left', 'Down', 'Down', 'Right', 'Up', 'Up', 'Left', 'Down', 'Down', 'Right', 'Right', 'Up', 'Up', 'Left', 'Down', 'Down', 'Left', 'Up', 'Up', 'Right', 'Down', 'Down', 'Left', 'Up', 'Up', 'Right', 'Down', 'Down', 'Left', 'Up', 'Up', 'Right', 'Down', 'Down', 'Left', 'Up', 'Up', 'Right', 'Down', 'Down', 'Left', 'Up', 'Right', 'Up', 'Left', 'Down', 'Down', 'Right', 'Up', 'Up', 'Left', 'Down', 'Down', 'Right', 'Up', 'Up', 'Left', 'Down', 'Down', 'Right', 'Up', 'Up', 'Left', 'Down', 'Down', 'Right', 'Up', 'Up', 'Left', 'Down', 'Down', 'Right', 'Right', 'Up', 'Left', 'Up', 'Left', 'Down', 'Down', 'Right', 'Up', 'Up', 'Left', 'Down', 'Down', 'Right', 'Up', 'Up', 'Left', 'Down', 'Down', 'Right', 'Up', 'Up', 'Left', 'Down', 'Down', 'Right', 'Up', 'Up', 'Left', 'Down', 'Down', 'Right', 'Right', 'Up', 'Up', 'Left', 'Down', 'Down', 'Left', 'Up', 'Up', 'Right', 'Down', 'Down', 'Left', 'Up', 'Up', 'Right', 'Down', 'Down', 'Left', 'Up', 'Up', 'Right', 'Down', 'Down', 'Left', 'Up', 'Up', 'Right', 'Down', 'Down', 'Left', 'Up', 'Right', 'Up', 'Left', 'Down', 'Down', 'Right', 'Up', 'Up', 'Left', 'Down', 'Down', 'Right', 'Up', 'Up', 'Left', 'Down', 'Down', 'Right', 'Up', 'Up', 'Left', 'Down', 'Down', 'Right', 'Up', 'Up', 'Left', 'Down', 'Down', 'Right', 'Right', 'Up', 'Left', 'Up', 'Left', 'Down', 'Down', 'Right', 'Up', 'Up', 'Left', 'Down', 'Down', 'Right', 'Up', 'Up', 'Left', 'Down', 'Down', 'Right', 'Up', 'Up', 'Left', 'Down', 'Down', 'Right', 'Up', 'Up', 'Left', 'Down', 'Down', 'Right', 'Right', 'Up', 'Up', 'Left', 'Down', 'Down', 'Left', 'Up', 'Up', 'Right', 'Down', 'Down', 'Left', 'Up', 'Up', 'Right', 'Down', 'Down', 'Left', 'Up', 'Up', 'Right', 'Down', 'Down', 'Left', 'Up', 'Up', 'Right', 'Down', 'Down', 'Left', 'Up', 'Right', 'Up', 'Left', 'Down', 'Down', 'Right', 'Up', 'Up', 'Left', 'Down', 'Down', 'Right', 'Up', 'Up', 'Left', 'Down', 'Down', 'Right', 'Up', 'Up', 'Left', 'Down', 'Down', 'Right', 'Up', 'Up', 'Left', 'Down', 'Down', 'Right', 'Right', 'Up', 'Up', 'Left', 'Down', 'Down', 'Left', 'Up', 'Up', 'Right', 'Down', 'Down', 'Left', 'Up', 'Up', 'Right', 'Down', 'Down', 'Left', 'Up', 'Up', 'Right', 'Down', 'Down', 'Left', 'Up', 'Up', 'Right', 'Down', 'Down', 'Left', 'Up', 'Right', 'Up', 'Left', 'Down', 'Down', 'Right', 'Up', 'Up', 'Left', 'Down', 'Down', 'Right', 'Up', 'Up', 'Left', 'Down', 'Down', 'Right', 'Up', 'Up', 'Left', 'Down', 'Down', 'Right', 'Up', 'Up', 'Left', 'Down', 'Down', 'Right', 'Right', 'Up', 'Up', 'Left', 'Down', 'Down', 'Left', 'Up', 'Up', 'Right', 'Down', 'Down', 'Left', 'Up', 'Up', 'Right', 'Down', 'Down', 'Left', 'Up', 'Up', 'Right', 'Down', 'Down', 'Left', 'Up', 'Up', 'Right', 'Down', 'Down', 'Left', 'Up', 'Right', 'Up', 'Left', 'Down', 'Down', 'Right', 'Up', 'Up', 'Left', 'Down', 'Down', 'Right', 'Up', 'Up', 'Left', 'Down', 'Down', 'Right', 'Up', 'Up', 'Left', 'Down', 'Down', 'Right', 'Up', 'Up', 'Left', 'Down', 'Down', 'Right', 'Right', 'Up', 'Up', 'Left', 'Down', 'Down', 'Left', 'Up', 'Up', 'Right', 'Down', 'Down', 'Left', 'Up', 'Up', 'Right', 'Down', 'Down', 'Left', 'Up', 'Up', 'Right', 'Down', 'Down', 'Left', 'Up', 'Up', 'Right', 'Down', 'Down', 'Left', 'Up', 'Right', 'Up', 'Left', 'Down', 'Down', 'Right', 'Up', 'Up', 'Left', 'Down', 'Down', 'Right', 'Up', 'Up', 'Left', 'Down', 'Down', 'Right', 'Up', 'Up', 'Left', 'Down', 'Down', 'Right', 'Up', 'Up', 'Left', 'Down', 'Down', 'Right', 'Right', 'Up', 'Up', 'Left', 'Down', 'Down', 'Left', 'Up', 'Up', 'Right', 'Down', 'Down', 'Left', 'Up', 'Up', 'Right', 'Down', 'Down', 'Left', 'Up', 'Up', 'Right', 'Down', 'Down', 'Left', 'Up', 'Up', 'Right', 'Down', 'Down', 'Left', 'Up', 'Right', 'Up', 'Left', 'Down', 'Down', 'Right', 'Up', 'Up', 'Left', 'Down', 'Down', 'Right', 'Up', 'Up', 'Left', 'Down', 'Down', 'Right', 'Up', 'Up', 'Left', 'Down', 'Down', 'Right', 'Up', 'Up', 'Left', 'Down', 'Down', 'Right', 'Right', 'Up', 'Up', 'Left', 'Down', 'Down', 'Left', 'Up', 'Up', 'Right', 'Down', 'Down', 'Left', 'Up', 'Up', 'Right', 'Down', 'Down', 'Left', 'Up', 'Up', 'Right', 'Down', 'Down', 'Left', 'Up', 'Up', 'Right', 'Down', 'Down', 'Left', 'Up', 'Right', 'Up', 'Left', 'Down', 'Down', 'Right', 'Up', 'Up', 'Left', 'Down', 'Down', 'Right', 'Up', 'Up', 'Left', 'Down', 'Down', 'Right', 'Up', 'Up', 'Left', 'Down', 'Down', 'Right', 'Up', 'Up', 'Left', 'Down', 'Down', 'Right', 'Right', 'Up', 'Up', 'Left', 'Down', 'Down', 'Left', 'Up', 'Up', 'Right', 'Down', 'Down', 'Left', 'Up', 'Up', 'Right', 'Down', 'Down', 'Left', 'Up', 'Up', 'Right', 'Down', 'Down', 'Left', 'Up', 'Up', 'Right', 'Down', 'Down', 'Right', 'Up', 'Up', 'Left', 'Down', 'Down', 'Left', 'Up', 'Up', 'Right', 'Down', 'Down', 'Left', 'Up', 'Up', 'Right', 'Down', 'Down', 'Left', 'Up', 'Up', 'Right', 'Down', 'Down', 'Left', 'Up', 'Up', 'Right', 'Down', 'Down', 'Left', 'Up', 'Right', 'Up', 'Left', 'Down', 'Down', 'Right', 'Up', 'Up', 'Left', 'Down', 'Down', 'Right', 'Up', 'Up', 'Left', 'Down', 'Down', 'Right', 'Up', 'Up', 'Left', 'Down', 'Down', 'Right', 'Up', 'Up', 'Left', 'Down', 'Down', 'Right', 'Right', 'Up', 'Up', 'Left', 'Down', 'Down', 'Left', 'Up', 'Up', 'Right', 'Down', 'Down', 'Left', 'Up', 'Up', 'Right', 'Down', 'Down', 'Left', 'Up', 'Up', 'Right', 'Down', 'Down', 'Left', 'Up', 'Up', 'Right', 'Down', 'Down', 'Left', 'Up', 'Right', 'Up', 'Left', 'Down', 'Down', 'Right', 'Up', 'Up', 'Left', 'Down', 'Down', 'Right', 'Up', 'Up', 'Left', 'Down', 'Down', 'Right', 'Up', 'Up', 'Left', 'Down', 'Down', 'Right', 'Up', 'Up', 'Left', 'Down', 'Down', 'Right', 'Right', 'Up', 'Up', 'Left', 'Down', 'Down', 'Left', 'Up', 'Up', 'Right', 'Down', 'Down', 'Left', 'Up', 'Up', 'Right', 'Down', 'Down', 'Left', 'Up', 'Up', 'Right', 'Down', 'Down', 'Left', 'Up', 'Up', 'Right', 'Down', 'Down', 'Left', 'Up', 'Right', 'Up', 'Left', 'Down', 'Down', 'Right', 'Up', 'Up', 'Left', 'Down', 'Down', 'Right', 'Up', 'Up', 'Left', 'Down', 'Down', 'Right', 'Up', 'Up', 'Left', 'Down', 'Down', 'Right', 'Up', 'Up', 'Left', 'Down', 'Down', 'Right', 'Right', 'Up', 'Up', 'Left', 'Down', 'Down', 'Left', 'Up', 'Up', 'Right', 'Down', 'Down', 'Left', 'Up', 'Up', 'Right', 'Down', 'Down', 'Left', 'Up', 'Up', 'Right', 'Down', 'Down', 'Left', 'Up', 'Up', 'Right', 'Down', 'Down', 'Left', 'Up', 'Right', 'Up', 'Left', 'Down', 'Down', 'Right', 'Up', 'Up', 'Left', 'Down', 'Down', 'Right', 'Up', 'Up', 'Left', 'Down', 'Down', 'Right', 'Up', 'Up', 'Left', 'Down', 'Down', 'Right', 'Up', 'Up', 'Left', 'Down', 'Down', 'Right', 'Right', 'Up', 'Up', 'Left', 'Down', 'Down', 'Left', 'Up', 'Up', 'Right', 'Down', 'Down', 'Left', 'Up', 'Up', 'Right', 'Down', 'Down', 'Left', 'Up', 'Up', 'Right', 'Down', 'Down', 'Left', 'Up', 'Up', 'Right', 'Down', 'Down', 'Left', 'Up', 'Right', 'Up', 'Left', 'Down', 'Down', 'Right', 'Up', 'Up', 'Left', 'Down', 'Down', 'Right', 'Up', 'Up', 'Left', 'Down', 'Down', 'Right', 'Up', 'Up', 'Left', 'Down', 'Down', 'Right', 'Up', 'Up', 'Left', 'Down', 'Down', 'Right', 'Right', 'Up', 'Up', 'Left', 'Down', 'Down', 'Left', 'Up', 'Up', 'Right', 'Down', 'Down', 'Left', 'Up', 'Up', 'Right', 'Down', 'Down', 'Left', 'Up', 'Up', 'Right', 'Down', 'Down', 'Left', 'Up', 'Up', 'Right', 'Down', 'Down', 'Left', 'Up', 'Right', 'Up', 'Left', 'Down', 'Down', 'Right', 'Up', 'Up', 'Left', 'Down', 'Down', 'Right', 'Up', 'Up', 'Left', 'Down', 'Down', 'Right', 'Up', 'Up', 'Left', 'Down', 'Down', 'Right', 'Up', 'Up', 'Left', 'Down', 'Down', 'Right', 'Right', 'Up', 'Up', 'Left', 'Down', 'Down', 'Left', 'Up', 'Up', 'Right', 'Down', 'Down', 'Left', 'Up', 'Up', 'Right', 'Down', 'Down', 'Left', 'Up', 'Up', 'Right', 'Down', 'Down', 'Left', 'Up', 'Up', 'Right', 'Down', 'Down', 'Right', 'Up', 'Up', 'Left', 'Down', 'Down', 'Left', 'Up', 'Up', 'Right', 'Down', 'Down', 'Left', 'Up', 'Up', 'Right', 'Down', 'Down', 'Left', 'Up', 'Up', 'Right', 'Down', 'Down', 'Left', 'Up', 'Up', 'Right', 'Down', 'Down', 'Left', 'Up', 'Right', 'Up', 'Left', 'Down', 'Down', 'Right', 'Up', 'Up', 'Left', 'Down', 'Down', 'Right', 'Up', 'Up', 'Left', 'Down', 'Down', 'Right', 'Up', 'Up', 'Left', 'Down', 'Down', 'Right', 'Up', 'Up', 'Left', 'Down', 'Down', 'Right', 'Right', 'Up', 'Up', 'Left', 'Down', 'Down', 'Left', 'Up', 'Up', 'Right', 'Down', 'Down', 'Left', 'Up', 'Up', 'Right', 'Down', 'Down', 'Left', 'Up', 'Up', 'Right', 'Down', 'Down', 'Left', 'Up', 'Up', 'Right', 'Down', 'Down', 'Left', 'Up', 'Right', 'Up', 'Left', 'Down', 'Down', 'Right', 'Up', 'Up', 'Left', 'Down', 'Down', 'Right', 'Up', 'Up', 'Left', 'Down', 'Down', 'Right', 'Up', 'Up', 'Left', 'Down', 'Down', 'Right', 'Up', 'Up', 'Left', 'Down', 'Down', 'Right', 'Right', 'Up', 'Up', 'Left', 'Down', 'Down', 'Left', 'Up', 'Up', 'Right', 'Down', 'Down', 'Left', 'Up', 'Up', 'Right', 'Down', 'Down', 'Left', 'Up', 'Up', 'Right', 'Down', 'Down', 'Left', 'Up', 'Up', 'Right', 'Down', 'Down', 'Left', 'Up', 'Right', 'Up', 'Left', 'Down', 'Down', 'Right', 'Up', 'Up', 'Left', 'Down', 'Down', 'Right', 'Up', 'Up', 'Left', 'Down', 'Down', 'Right', 'Up', 'Up', 'Left', 'Down', 'Down', 'Right', 'Up', 'Up', 'Left', 'Down', 'Down', 'Right', 'Right', 'Up', 'Up', 'Left', 'Down', 'Down', 'Left', 'Up', 'Up', 'Right', 'Down', 'Down', 'Left', 'Up', 'Up', 'Right', 'Down', 'Down', 'Left', 'Up', 'Up', 'Right', 'Down', 'Down', 'Left', 'Up', 'Up', 'Right', 'Down', 'Down', 'Left', 'Up', 'Right', 'Up', 'Left', 'Down', 'Down', 'Right', 'Up', 'Up', 'Left', 'Down', 'Down', 'Right', 'Up', 'Up', 'Left', 'Down', 'Down', 'Right', 'Up', 'Up', 'Left', 'Down', 'Down', 'Right', 'Up', 'Up', 'Left', 'Down', 'Down', 'Right', 'Right', 'Up', 'Up', 'Left', 'Down', 'Down', 'Left', 'Up', 'Up', 'Right', 'Down', 'Down', 'Left', 'Up', 'Up', 'Right', 'Down', 'Down', 'Left', 'Up', 'Up', 'Right', 'Down', 'Down', 'Left', 'Up', 'Up', 'Right', 'Down', 'Down', 'Left', 'Up', 'Right', 'Up', 'Left', 'Down', 'Down', 'Right', 'Up', 'Up', 'Left', 'Down', 'Down', 'Right', 'Up', 'Up', 'Left', 'Down', 'Down', 'Right', 'Up', 'Up', 'Left', 'Down', 'Down', 'Right', 'Up', 'Up', 'Left', 'Down', 'Down', 'Right', 'Right', 'Up', 'Up', 'Left', 'Down', 'Down', 'Left', 'Up', 'Up', 'Right', 'Down', 'Down', 'Left', 'Up', 'Up', 'Right', 'Down', 'Down', 'Left', 'Up', 'Up', 'Right', 'Down', 'Down', 'Left', 'Up', 'Up', 'Right', 'Down', 'Down', 'Left', 'Up', 'Right', 'Up', 'Left', 'Down', 'Down', 'Right', 'Up', 'Up', 'Left', 'Down', 'Down', 'Right', 'Up', 'Up', 'Left', 'Down', 'Down', 'Right', 'Up', 'Up', 'Left', 'Down', 'Down', 'Right', 'Up', 'Up', 'Left', 'Down', 'Down', 'Right', 'Right', 'Up', 'Left', 'Up', 'Left', 'Down', 'Down', 'Right', 'Up', 'Up', 'Left', 'Down', 'Down', 'Right', 'Up', 'Up', 'Left', 'Down', 'Down', 'Right', 'Up', 'Up', 'Left', 'Down', 'Down', 'Right', 'Up', 'Up', 'Left', 'Down', 'Down', 'Right', 'Right', 'Up', 'Up', 'Left', 'Down', 'Down', 'Left', 'Up', 'Up', 'Right', 'Down', 'Down', 'Left', 'Up', 'Up', 'Right', 'Down', 'Down', 'Left', 'Up', 'Up', 'Right', 'Down', 'Down', 'Left', 'Up', 'Up', 'Right', 'Down', 'Down', 'Left', 'Up', 'Right', 'Up', 'Left', 'Down', 'Down', 'Right', 'Up', 'Up', 'Left', 'Down', 'Down', 'Right', 'Up', 'Up', 'Left', 'Down', 'Down', 'Right', 'Up', 'Up', 'Left', 'Down', 'Down', 'Right', 'Up', 'Up', 'Left', 'Down', 'Right', 'Up', 'Left', 'Down', 'Down', 'Right', 'Up', 'Up', 'Left', 'Down', 'Down', 'Right', 'Up', 'Up', 'Left', 'Down', 'Down', 'Right', 'Up', 'Up', 'Left', 'Down', 'Down', 'Right', 'Up', 'Up', 'Left', 'Down', 'Down', 'Right', 'Right', 'Up', 'Up', 'Left', 'Down', 'Down', 'Left', 'Up', 'Up', 'Right', 'Down', 'Down', 'Left', 'Up', 'Up', 'Right', 'Down', 'Down', 'Left', 'Up', 'Up', 'Right', 'Down', 'Down', 'Left', 'Up', 'Up', 'Right', 'Down', 'Down', 'Left', 'Up', 'Right', 'Up', 'Left', 'Down', 'Down', 'Right', 'Up', 'Up', 'Left', 'Down', 'Down', 'Right', 'Up', 'Up', 'Left', 'Down', 'Down', 'Right', 'Up', 'Up', 'Left', 'Down', 'Down', 'Right', 'Up', 'Up', 'Left', 'Down', 'Down', 'Right', 'Right', 'Up', 'Left', 'Up', 'Left', 'Down', 'Down', 'Right', 'Up', 'Up', 'Left', 'Down', 'Down', 'Right', 'Up', 'Up', 'Left', 'Down', 'Down', 'Right', 'Up', 'Up', 'Left', 'Down', 'Down', 'Right', 'Up', 'Up', 'Left', 'Down', 'Down', 'Right', 'Right', 'Up', 'Up', 'Left', 'Down', 'Down', 'Left', 'Up', 'Up', 'Right', 'Down', 'Down', 'Left', 'Up', 'Up', 'Right', 'Down', 'Down', 'Left', 'Up', 'Up', 'Right', 'Down', 'Down', 'Left', 'Up', 'Up', 'Right', 'Down', 'Down', 'Left', 'Up', 'Right', 'Up', 'Left', 'Down', 'Down', 'Right', 'Up', 'Up', 'Left', 'Down', 'Down', 'Right', 'Up', 'Up', 'Left', 'Down', 'Down', 'Right', 'Up', 'Up', 'Left', 'Down', 'Down', 'Right', 'Up', 'Up', 'Left', 'Down', 'Down', 'Right', 'Right', 'Up', 'Up', 'Left', 'Down', 'Down', 'Left', 'Up', 'Up', 'Right', 'Down', 'Down', 'Left', 'Up', 'Up', 'Right', 'Down', 'Down', 'Left', 'Up', 'Up', 'Right', 'Down', 'Down', 'Left', 'Up', 'Up', 'Right', 'Down', 'Down', 'Left', 'Up', 'Right', 'Up', 'Left', 'Down', 'Down', 'Right', 'Up', 'Up', 'Left', 'Down', 'Down', 'Right', 'Up', 'Up', 'Left', 'Down', 'Down', 'Right', 'Up', 'Up', 'Left', 'Down', 'Down', 'Right', 'Up', 'Up', 'Left', 'Down', 'Down', 'Right', 'Right', 'Up', 'Up', 'Left', 'Down', 'Down', 'Left', 'Up', 'Up', 'Right', 'Down', 'Down', 'Left', 'Up', 'Up', 'Right', 'Down', 'Down', 'Left', 'Up', 'Up', 'Right', 'Down', 'Down', 'Left', 'Up', 'Up', 'Right', 'Down', 'Down', 'Left', 'Up', 'Right', 'Up', 'Left', 'Down', 'Down', 'Right', 'Up', 'Up', 'Left', 'Down', 'Down', 'Right', 'Up', 'Up', 'Left', 'Down', 'Down', 'Right', 'Up', 'Up', 'Left', 'Down', 'Down', 'Right', 'Up', 'Up', 'Left', 'Down', 'Down', 'Right', 'Right', 'Up', 'Up', 'Left', 'Down', 'Down', 'Left', 'Up', 'Up', 'Right', 'Down', 'Down', 'Left', 'Up', 'Up', 'Right', 'Down', 'Down', 'Left', 'Up', 'Up', 'Right', 'Down', 'Down', 'Left', 'Up', 'Up', 'Right', 'Down', 'Down', 'Left', 'Up', 'Right', 'Up', 'Left', 'Down', 'Down', 'Right', 'Up', 'Up', 'Left', 'Down', 'Down', 'Right', 'Up', 'Up', 'Left', 'Down', 'Down', 'Right', 'Up', 'Up', 'Left', 'Down', 'Down', 'Right', 'Up', 'Up', 'Left', 'Down', 'Down', 'Right', 'Right', 'Up', 'Up', 'Left', 'Down', 'Down', 'Left', 'Up', 'Up', 'Right', 'Down', 'Down', 'Left', 'Up', 'Up', 'Right', 'Down', 'Down', 'Left', 'Up', 'Up', 'Right', 'Down', 'Down', 'Left', 'Up', 'Up', 'Right', 'Down', 'Down', 'Left', 'Up', 'Right', 'Up', 'Left', 'Down', 'Down', 'Right', 'Up', 'Up', 'Left', 'Down', 'Down', 'Right', 'Up', 'Up', 'Left', 'Down', 'Down', 'Right', 'Up', 'Up', 'Left', 'Down', 'Down', 'Right', 'Up', 'Up', 'Left', 'Down', 'Down', 'Right', 'Right', 'Up', 'Up', 'Left', 'Down', 'Down', 'Left', 'Up', 'Up', 'Right', 'Down', 'Down', 'Left', 'Up', 'Up', 'Right', 'Down', 'Down', 'Left', 'Up', 'Up', 'Right', 'Down', 'Down', 'Left', 'Up', 'Up', 'Right', 'Down', 'Down', 'Left', 'Up', 'Right', 'Up', 'Left', 'Down', 'Down', 'Right', 'Up', 'Up', 'Left', 'Down', 'Down', 'Right', 'Up', 'Up', 'Left', 'Down', 'Down', 'Right', 'Up', 'Up', 'Left', 'Down', 'Down', 'Right', 'Up', 'Up', 'Left', 'Down', 'Down', 'Right', 'Right', 'Up', 'Up', 'Left', 'Down', 'Down', 'Left', 'Up', 'Up', 'Right', 'Down', 'Down', 'Left', 'Up', 'Up', 'Right', 'Down', 'Down', 'Left', 'Up', 'Up', 'Right', 'Down', 'Down', 'Left', 'Up', 'Up', 'Right', 'Down', 'Down', 'Right', 'Up', 'Up', 'Left', 'Down', 'Down', 'Left', 'Up', 'Up', 'Right', 'Down', 'Down', 'Left', 'Up', 'Up', 'Right', 'Down', 'Down', 'Left', 'Up', 'Up', 'Right', 'Down', 'Down', 'Left', 'Up', 'Up', 'Right', 'Down', 'Down', 'Left', 'Up', 'Right', 'Up', 'Left', 'Down', 'Down', 'Right', 'Up', 'Up', 'Left', 'Down', 'Down', 'Right', 'Up', 'Up', 'Left', 'Down', 'Down', 'Right', 'Up', 'Up', 'Left', 'Down', 'Down', 'Right', 'Up', 'Up', 'Left', 'Down', 'Down', 'Right', 'Right', 'Up', 'Up', 'Left', 'Down', 'Down', 'Left', 'Up', 'Up', 'Right', 'Down', 'Down', 'Left', 'Up', 'Up', 'Right', 'Down', 'Down', 'Left', 'Up', 'Up', 'Right', 'Down', 'Down', 'Left', 'Up', 'Up', 'Right', 'Down', 'Down', 'Left', 'Up', 'Right', 'Up', 'Left', 'Down', 'Down', 'Right', 'Up', 'Up', 'Left', 'Down', 'Down', 'Right', 'Up', 'Up', 'Left', 'Down', 'Down', 'Right', 'Up', 'Up', 'Left', 'Down', 'Down', 'Right', 'Up', 'Up', 'Left', 'Down', 'Down', 'Right', 'Right', 'Up', 'Up', 'Left', 'Down', 'Down', 'Left', 'Up', 'Up', 'Right', 'Down', 'Down', 'Left', 'Up', 'Up', 'Right', 'Down', 'Down', 'Left', 'Up', 'Up', 'Right', 'Down', 'Down', 'Left', 'Up', 'Up', 'Right', 'Down', 'Down', 'Left', 'Up', 'Right', 'Up', 'Left', 'Down', 'Down', 'Right', 'Up', 'Up', 'Left', 'Down', 'Down', 'Right', 'Up', 'Up', 'Left', 'Down', 'Down', 'Right', 'Up', 'Up', 'Left', 'Down', 'Down', 'Right', 'Up', 'Up', 'Left', 'Down', 'Down', 'Right', 'Right', 'Up', 'Up', 'Left', 'Down', 'Down', 'Left', 'Up', 'Up', 'Right', 'Down', 'Down', 'Left', 'Up', 'Up', 'Right', 'Down', 'Down', 'Left', 'Up', 'Up', 'Right', 'Down', 'Down', 'Left', 'Up', 'Up', 'Right', 'Down', 'Down', 'Left', 'Up', 'Right', 'Up', 'Left', 'Down', 'Down', 'Right', 'Up', 'Up', 'Left', 'Down', 'Down', 'Right', 'Up', 'Up', 'Left', 'Down', 'Down', 'Right', 'Up', 'Up', 'Left', 'Down', 'Down', 'Right', 'Up', 'Up', 'Left', 'Down', 'Down', 'Right', 'Right', 'Up', 'Up', 'Left', 'Down', 'Down', 'Left', 'Up', 'Up', 'Right', 'Down', 'Down', 'Left', 'Up', 'Up', 'Right', 'Down', 'Down', 'Left', 'Up', 'Up', 'Right', 'Down', 'Down', 'Left', 'Up', 'Up', 'Right', 'Down', 'Down', 'Left', 'Up', 'Right', 'Up', 'Left', 'Down', 'Down', 'Right', 'Up', 'Up', 'Left', 'Down', 'Down', 'Right', 'Up', 'Up', 'Left', 'Down', 'Down', 'Right', 'Up', 'Up', 'Left', 'Down', 'Down', 'Right', 'Up', 'Up', 'Left', 'Down', 'Down', 'Right', 'Right', 'Up', 'Up', 'Left', 'Down', 'Down', 'Left', 'Up', 'Up', 'Right', 'Down', 'Down', 'Left', 'Up', 'Up', 'Right', 'Down', 'Down', 'Left', 'Up', 'Up', 'Right', 'Down', 'Down', 'Left', 'Up', 'Up', 'Right', 'Down', 'Down', 'Left', 'Up', 'Right', 'Up', 'Left', 'Down', 'Down', 'Right', 'Up', 'Up', 'Left', 'Down', 'Down', 'Right', 'Up', 'Up', 'Left', 'Down', 'Down', 'Right', 'Up', 'Up', 'Left', 'Down', 'Down', 'Right', 'Up', 'Up', 'Left', 'Down', 'Down', 'Right', 'Right', 'Up', 'Up', 'Left', 'Down', 'Down', 'Left', 'Up', 'Up', 'Right', 'Down', 'Down', 'Left', 'Up', 'Up', 'Right', 'Down', 'Down', 'Left', 'Up', 'Up', 'Right', 'Down', 'Down', 'Left', 'Up', 'Up', 'Right', 'Down', 'Down', 'Right', 'Up', 'Up', 'Left', 'Down', 'Down', 'Left', 'Up', 'Up', 'Right', 'Down', 'Down', 'Left', 'Up', 'Up', 'Right', 'Down', 'Down', 'Left', 'Up', 'Up', 'Right', 'Down', 'Down', 'Left', 'Up', 'Up', 'Right', 'Down', 'Down', 'Left', 'Up', 'Right', 'Up', 'Left', 'Down', 'Down', 'Right', 'Up', 'Up', 'Left', 'Down', 'Down', 'Right', 'Up', 'Up', 'Left', 'Down', 'Down', 'Right', 'Up', 'Up', 'Left', 'Down', 'Down', 'Right', 'Up', 'Up', 'Left', 'Down', 'Down', 'Right', 'Right', 'Up', 'Up', 'Left', 'Down', 'Down', 'Left', 'Up', 'Up', 'Right', 'Down', 'Down', 'Left', 'Up', 'Up', 'Right', 'Down', 'Down', 'Left', 'Up', 'Up', 'Right', 'Down', 'Down', 'Left', 'Up', 'Up', 'Right', 'Down', 'Down', 'Left', 'Up', 'Right', 'Up', 'Left', 'Down', 'Down', 'Right', 'Up', 'Up', 'Left', 'Down', 'Down', 'Right', 'Up', 'Up', 'Left', 'Down', 'Down', 'Right', 'Up', 'Up', 'Left', 'Down', 'Down', 'Right', 'Up', 'Up', 'Left', 'Down', 'Down', 'Right', 'Right', 'Up', 'Up', 'Left', 'Down', 'Down', 'Left', 'Up', 'Up', 'Right', 'Down', 'Down', 'Left', 'Up', 'Up', 'Right', 'Down', 'Down', 'Left', 'Up', 'Up', 'Right', 'Down', 'Down', 'Left', 'Up', 'Up', 'Right', 'Down', 'Down', 'Left', 'Up', 'Right', 'Up', 'Left', 'Down', 'Down', 'Right', 'Up', 'Up', 'Left', 'Down', 'Down', 'Right', 'Up', 'Up', 'Left', 'Down', 'Down', 'Right', 'Up', 'Up', 'Left', 'Down', 'Down', 'Right', 'Up', 'Up', 'Left', 'Down', 'Down', 'Right', 'Right', 'Up', 'Up', 'Left', 'Down', 'Down', 'Left', 'Up', 'Up', 'Right', 'Down', 'Down', 'Left', 'Up', 'Up', 'Right', 'Down', 'Down', 'Left', 'Up', 'Up', 'Right', 'Down', 'Down', 'Left', 'Up', 'Up', 'Right', 'Down', 'Down', 'Left', 'Up', 'Right', 'Up', 'Left', 'Down', 'Down', 'Right', 'Up', 'Up', 'Left', 'Down', 'Down', 'Right', 'Up', 'Up', 'Left', 'Down', 'Down', 'Right', 'Up', 'Up', 'Left', 'Down', 'Down', 'Right', 'Up', 'Up', 'Left', 'Down', 'Down', 'Right', 'Right', 'Up', 'Up', 'Left', 'Down', 'Down', 'Left', 'Up', 'Up', 'Right', 'Down', 'Down', 'Left', 'Up', 'Up', 'Right', 'Down', 'Down', 'Left', 'Up', 'Up', 'Right', 'Down', 'Down', 'Left', 'Up', 'Up', 'Right', 'Down', 'Down', 'Left', 'Up', 'Right', 'Up', 'Left', 'Down', 'Down', 'Right', 'Up', 'Up', 'Left', 'Down', 'Down', 'Right', 'Up', 'Up', 'Left', 'Down', 'Down', 'Right', 'Up', 'Up', 'Left', 'Down', 'Down', 'Right', 'Up', 'Up', 'Left', 'Down', 'Down', 'Right', 'Right', 'Up', 'Up', 'Left', 'Down', 'Down', 'Left', 'Up', 'Up', 'Right', 'Down', 'Down', 'Left', 'Up', 'Up', 'Right', 'Down', 'Down', 'Left', 'Up', 'Up', 'Right', 'Down', 'Down', 'Left', 'Up', 'Up', 'Right', 'Down', 'Down', 'Left', 'Up', 'Right', 'Up', 'Left', 'Down', 'Down', 'Right', 'Up', 'Up', 'Left', 'Down', 'Down', 'Right', 'Up', 'Up', 'Left', 'Down', 'Down', 'Right', 'Up', 'Up', 'Left', 'Down', 'Down', 'Right', 'Up', 'Up', 'Left', 'Down', 'Down', 'Right', 'Right', 'Up', 'Left', 'Up', 'Left', 'Down', 'Down', 'Right', 'Up', 'Up', 'Left', 'Down', 'Down', 'Right', 'Up', 'Up', 'Left', 'Down', 'Down', 'Right', 'Up', 'Up', 'Left', 'Down', 'Down', 'Right', 'Up', 'Up', 'Left', 'Down', 'Down', 'Right', 'Right', 'Up', 'Up', 'Left', 'Down', 'Down', 'Left', 'Up', 'Up', 'Right', 'Down', 'Down', 'Left', 'Up', 'Up', 'Right', 'Down', 'Down', 'Left', 'Up', 'Up', 'Right', 'Down', 'Down', 'Left', 'Up', 'Up', 'Right', 'Down', 'Down', 'Left', 'Up', 'Right', 'Up', 'Left', 'Down', 'Down', 'Right', 'Up', 'Up', 'Left', 'Down', 'Down', 'Right', 'Up', 'Up', 'Left', 'Down', 'Down', 'Right', 'Up', 'Up', 'Left', 'Down', 'Down', 'Right', 'Up', 'Up', 'Left', 'Down', 'Down', 'Right', 'Right', 'Up', 'Left', 'Up', 'Left', 'Down', 'Down', 'Right', 'Up', 'Up', 'Left', 'Down', 'Down', 'Right', 'Up', 'Up', 'Left', 'Down', 'Down', 'Right', 'Up', 'Up', 'Left', 'Down', 'Down', 'Right', 'Up', 'Up', 'Left', 'Down', 'Down', 'Right', 'Right', 'Up', 'Left', 'Up', 'Left', 'Down', 'Down', 'Right', 'Up', 'Up', 'Left', 'Down', 'Down', 'Right', 'Up', 'Up', 'Left', 'Down', 'Down', 'Right', 'Up', 'Up', 'Left', 'Down', 'Down', 'Right', 'Up', 'Up', 'Left', 'Down', 'Down', 'Right', 'Right', 'Up', 'Up', 'Left', 'Down', 'Down', 'Left', 'Up', 'Up', 'Right', 'Down', 'Down', 'Left', 'Up', 'Up', 'Right', 'Down', 'Down', 'Left', 'Up', 'Up', 'Right', 'Down', 'Down', 'Left', 'Up', 'Up', 'Right', 'Down', 'Down', 'Left', 'Up', 'Right', 'Up', 'Left', 'Down', 'Down', 'Right', 'Up', 'Up', 'Left', 'Down', 'Down', 'Right', 'Up', 'Up', 'Left', 'Down', 'Down', 'Right', 'Up', 'Up', 'Left', 'Down', 'Down', 'Right', 'Up', 'Up', 'Left', 'Down', 'Down', 'Right', 'Right', 'Up', 'Left', 'Up', 'Left', 'Down', 'Down', 'Right', 'Up', 'Up', 'Left', 'Down', 'Down', 'Right', 'Up', 'Up', 'Left', 'Down', 'Down', 'Right', 'Up', 'Up', 'Left', 'Down', 'Down', 'Right', 'Up', 'Up', 'Left', 'Down', 'Down', 'Right', 'Right', 'Up', 'Up', 'Left', 'Down', 'Down', 'Left', 'Up', 'Up', 'Right', 'Down', 'Down', 'Left', 'Up', 'Up', 'Right', 'Down', 'Down', 'Left', 'Up', 'Up', 'Right', 'Down', 'Down', 'Left', 'Up', 'Up', 'Right', 'Down', 'Down', 'Left', 'Up', 'Right', 'Up', 'Left', 'Down', 'Down', 'Right', 'Up', 'Up', 'Left', 'Down', 'Down', 'Right', 'Up', 'Up', 'Left', 'Down', 'Down', 'Right', 'Up', 'Up', 'Left', 'Down', 'Down', 'Right', 'Up', 'Up', 'Left', 'Down', 'Down', 'Right', 'Right', 'Up', 'Up', 'Left', 'Down', 'Down', 'Left', 'Up', 'Up', 'Right', 'Down', 'Down', 'Left', 'Up', 'Up', 'Right', 'Down', 'Down', 'Left', 'Up', 'Up', 'Right', 'Down', 'Down', 'Left', 'Up', 'Up', 'Right', 'Down', 'Down', 'Right', 'Up', 'Up', 'Left', 'Down', 'Down', 'Left', 'Up', 'Up', 'Right', 'Down', 'Down', 'Left', 'Up', 'Up', 'Right', 'Down', 'Down', 'Left', 'Up', 'Up', 'Right', 'Down', 'Down', 'Left', 'Up', 'Up', 'Right', 'Down', 'Down', 'Left', 'Up', 'Right', 'Up', 'Left', 'Down', 'Down', 'Right', 'Up', 'Up', 'Left', 'Down', 'Down', 'Right', 'Up', 'Up', 'Left', 'Down', 'Down', 'Right', 'Up', 'Up', 'Left', 'Down', 'Down', 'Right', 'Up', 'Up', 'Left', 'Down', 'Down', 'Right', 'Right', 'Up', 'Up', 'Left', 'Down', 'Down', 'Left', 'Up', 'Up', 'Right', 'Down', 'Down', 'Left', 'Up', 'Up', 'Right', 'Down', 'Down', 'Left', 'Up', 'Up', 'Right', 'Down', 'Down', 'Left', 'Up', 'Up', 'Right', 'Down', 'Down', 'Left', 'Up', 'Right', 'Up', 'Left', 'Down', 'Down', 'Right', 'Up', 'Up', 'Left', 'Down', 'Down', 'Right', 'Up', 'Up', 'Left', 'Down', 'Down', 'Right', 'Up', 'Up', 'Left', 'Down', 'Down', 'Right', 'Up', 'Up', 'Left', 'Down', 'Down', 'Right', 'Right', 'Up', 'Up', 'Left', 'Down', 'Down', 'Left', 'Up', 'Up', 'Right', 'Down', 'Down', 'Left', 'Up', 'Up', 'Right', 'Down', 'Down', 'Left', 'Up', 'Up', 'Right', 'Down', 'Down', 'Left', 'Up', 'Up', 'Right', 'Down', 'Down', 'Left', 'Up', 'Right', 'Up', 'Left', 'Down', 'Down', 'Right', 'Up', 'Up', 'Left', 'Down', 'Down', 'Right', 'Up', 'Up', 'Left', 'Down', 'Down', 'Right', 'Up', 'Up', 'Left', 'Down', 'Down', 'Right', 'Up', 'Up', 'Left', 'Down', 'Down', 'Right', 'Right', 'Up', 'Up', 'Left', 'Down', 'Down', 'Left', 'Up', 'Up', 'Right', 'Down', 'Down', 'Left', 'Up', 'Up', 'Right', 'Down', 'Down', 'Left', 'Up', 'Up', 'Right', 'Down', 'Down', 'Left', 'Up', 'Up', 'Right', 'Down', 'Down', 'Left', 'Up', 'Right', 'Up', 'Left', 'Down', 'Down', 'Right', 'Up', 'Up', 'Left', 'Down', 'Down', 'Right', 'Up', 'Up', 'Left', 'Down', 'Down', 'Right', 'Up', 'Up', 'Left', 'Down', 'Down', 'Right', 'Up', 'Up', 'Left', 'Down', 'Down', 'Right', 'Right', 'Up', 'Up', 'Left', 'Down', 'Down', 'Left', 'Up', 'Up', 'Right', 'Down', 'Down', 'Left', 'Up', 'Up', 'Right', 'Down', 'Down', 'Left', 'Up', 'Up', 'Right', 'Down', 'Down', 'Left', 'Up', 'Up', 'Right', 'Down', 'Down', 'Left', 'Up', 'Right', 'Up', 'Left', 'Down', 'Down', 'Right', 'Up', 'Up', 'Left', 'Down', 'Down', 'Right', 'Up', 'Up', 'Left', 'Down', 'Down', 'Right', 'Up', 'Up', 'Left', 'Down', 'Down', 'Right', 'Up', 'Up', 'Left', 'Down', 'Down', 'Right', 'Right', 'Up', 'Left', 'Up', 'Left', 'Down', 'Down', 'Right', 'Up', 'Up', 'Left', 'Down', 'Down', 'Right', 'Up', 'Up', 'Left', 'Down', 'Down', 'Right', 'Up', 'Up', 'Left', 'Down', 'Down', 'Right', 'Up', 'Up', 'Left', 'Down', 'Down', 'Right', 'Right', 'Up', 'Up', 'Left', 'Down', 'Down', 'Left', 'Up', 'Up', 'Right', 'Down', 'Down', 'Left', 'Up', 'Up', 'Right', 'Down', 'Down', 'Left', 'Up', 'Up', 'Right', 'Down', 'Down', 'Left', 'Up', 'Up', 'Right', 'Down', 'Down', 'Left', 'Up', 'Right', 'Up', 'Left', 'Down', 'Down', 'Right', 'Up', 'Up', 'Left', 'Down', 'Down', 'Right', 'Up', 'Up', 'Left', 'Down', 'Down', 'Right', 'Up', 'Up', 'Left', 'Down', 'Down', 'Right', 'Up', 'Up', 'Left', 'Down', 'Down', 'Right', 'Right', 'Up', 'Left', 'Up', 'Left', 'Down', 'Down', 'Right', 'Up', 'Up', 'Left', 'Down', 'Down', 'Right', 'Up', 'Up', 'Left', 'Down', 'Down', 'Right', 'Up', 'Up', 'Left', 'Down', 'Down', 'Right', 'Up', 'Up', 'Left', 'Down', 'Down', 'Right', 'Right', 'Up', 'Up', 'Left', 'Down', 'Down', 'Left', 'Up', 'Up', 'Right', 'Down', 'Down', 'Left', 'Up', 'Up', 'Right', 'Down', 'Down', 'Left', 'Up', 'Up', 'Right', 'Down', 'Down', 'Left', 'Up', 'Up', 'Right', 'Down', 'Down', 'Left', 'Up', 'Right', 'Up', 'Left', 'Down', 'Down', 'Right', 'Up', 'Up', 'Left', 'Down', 'Down', 'Right', 'Up', 'Up', 'Left', 'Down', 'Down', 'Right', 'Up', 'Up', 'Left', 'Down', 'Down', 'Right', 'Up', 'Up', 'Left', 'Down', 'Down', 'Right', 'Right', 'Up', 'Up', 'Left', 'Down', 'Down', 'Left', 'Up', 'Up', 'Right', 'Down', 'Down', 'Left', 'Up', 'Up', 'Right', 'Down', 'Down', 'Left', 'Up', 'Up', 'Right', 'Down', 'Down', 'Left', 'Up', 'Up', 'Right', 'Down', 'Down', 'Left', 'Up', 'Right', 'Up', 'Left', 'Down', 'Down', 'Right', 'Up', 'Up', 'Left', 'Down', 'Down', 'Right', 'Up', 'Up', 'Left', 'Down', 'Down', 'Right', 'Up', 'Up', 'Left', 'Down', 'Down', 'Right', 'Up', 'Up', 'Left', 'Down', 'Down', 'Right', 'Right', 'Up', 'Up', 'Left', 'Down', 'Down', 'Left', 'Up', 'Up', 'Right', 'Down', 'Down', 'Left', 'Up', 'Up', 'Right', 'Down', 'Down', 'Left', 'Up', 'Up', 'Right', 'Down', 'Down', 'Left', 'Up', 'Up', 'Right', 'Down', 'Down', 'Left', 'Up', 'Right', 'Up', 'Left', 'Down', 'Down', 'Right', 'Up', 'Up', 'Left', 'Down', 'Down', 'Right', 'Up', 'Up', 'Left', 'Down', 'Down', 'Right', 'Up', 'Up', 'Left', 'Down', 'Down', 'Right', 'Up', 'Up', 'Left', 'Down', 'Down', 'Right', 'Right', 'Up', 'Up', 'Left', 'Down', 'Down', 'Left', 'Up', 'Up', 'Right', 'Down', 'Down', 'Left', 'Up', 'Up', 'Right', 'Down', 'Down', 'Left', 'Up', 'Up', 'Right', 'Down', 'Down', 'Left', 'Up', 'Up', 'Right', 'Down', 'Down', 'Right', 'Up', 'Up', 'Left', 'Down', 'Down', 'Left', 'Up', 'Up', 'Right', 'Down', 'Down', 'Left', 'Up', 'Up', 'Right', 'Down', 'Down', 'Left', 'Up', 'Up', 'Right', 'Down', 'Down', 'Left', 'Up', 'Up', 'Right', 'Down', 'Down', 'Left', 'Up', 'Right', 'Up', 'Left', 'Down', 'Down', 'Right', 'Up', 'Up', 'Left', 'Down', 'Down', 'Right', 'Up', 'Up', 'Left', 'Down', 'Down', 'Right', 'Up', 'Up', 'Left', 'Down', 'Down', 'Right', 'Up', 'Up', 'Left', 'Down', 'Down', 'Right', 'Right', 'Up', 'Up', 'Left', 'Down', 'Down', 'Left', 'Up', 'Up', 'Right', 'Down', 'Down', 'Left', 'Up', 'Up', 'Right', 'Down', 'Down', 'Left', 'Up', 'Up', 'Right', 'Down', 'Down', 'Left', 'Up', 'Up', 'Right', 'Down', 'Down', 'Left', 'Up', 'Right', 'Up', 'Left', 'Down', 'Down', 'Right', 'Up', 'Up', 'Left', 'Down', 'Down', 'Right', 'Up', 'Up', 'Left', 'Down', 'Down', 'Right', 'Up', 'Up', 'Left', 'Down', 'Down', 'Right', 'Up', 'Up', 'Left', 'Down', 'Down', 'Right', 'Right', 'Up', 'Up', 'Left', 'Down', 'Down', 'Left', 'Up', 'Up', 'Right', 'Down', 'Down', 'Left', 'Up', 'Up', 'Right', 'Down', 'Down', 'Left', 'Up', 'Up', 'Right', 'Down', 'Down', 'Left', 'Up', 'Up', 'Right', 'Down', 'Down', 'Left', 'Up', 'Right', 'Up', 'Left', 'Down', 'Down', 'Right', 'Up', 'Up', 'Left', 'Down', 'Down', 'Right', 'Up', 'Up', 'Left', 'Down', 'Down', 'Right', 'Up', 'Up', 'Left', 'Down', 'Down', 'Right', 'Up', 'Up', 'Left', 'Down', 'Down', 'Right', 'Right', 'Up', 'Up', 'Left', 'Down', 'Down', 'Left', 'Up', 'Up', 'Right', 'Down', 'Down', 'Left', 'Up', 'Up', 'Right', 'Down', 'Down', 'Left', 'Up', 'Up', 'Right', 'Down', 'Down', 'Left', 'Up', 'Up', 'Right', 'Down', 'Down', 'Left', 'Up', 'Right', 'Up', 'Left', 'Down', 'Down', 'Right', 'Up', 'Up', 'Left', 'Down', 'Down', 'Right', 'Up', 'Up', 'Left', 'Down', 'Down', 'Right', 'Up', 'Up', 'Left', 'Down', 'Down', 'Right', 'Up', 'Up', 'Left', 'Down', 'Down', 'Right', 'Right', 'Up', 'Up', 'Left', 'Down', 'Down', 'Left', 'Up', 'Up', 'Right', 'Down', 'Down', 'Left', 'Up', 'Up', 'Right', 'Down', 'Down', 'Left', 'Up', 'Up', 'Right', 'Down', 'Down', 'Left', 'Up', 'Up', 'Right', 'Down', 'Down', 'Left', 'Up', 'Right', 'Up', 'Left', 'Down', 'Down', 'Right', 'Up', 'Up', 'Left', 'Down', 'Down', 'Right', 'Up', 'Up', 'Left', 'Down', 'Down', 'Right', 'Up', 'Up', 'Left', 'Down', 'Down', 'Right', 'Up', 'Up', 'Left', 'Down', 'Down', 'Right', 'Right', 'Up', 'Up', 'Left', 'Down', 'Down', 'Left', 'Up', 'Up', 'Right', 'Down', 'Down', 'Left', 'Up', 'Up', 'Right', 'Down', 'Down', 'Left', 'Up', 'Up', 'Right', 'Down', 'Down', 'Left', 'Up', 'Up', 'Right', 'Down', 'Down', 'Left', 'Up', 'Right', 'Up', 'Left', 'Down', 'Down', 'Right', 'Up', 'Up', 'Left', 'Down', 'Down', 'Right', 'Up', 'Up', 'Left', 'Down', 'Down', 'Right', 'Up', 'Up', 'Left', 'Down', 'Down', 'Right', 'Up', 'Up', 'Left', 'Down', 'Down', 'Right', 'Right', 'Up', 'Up', 'Left', 'Down', 'Down', 'Left', 'Up', 'Up', 'Right', 'Down', 'Down', 'Left', 'Up', 'Up', 'Right', 'Down', 'Down', 'Left', 'Up', 'Up', 'Right', 'Down', 'Down', 'Left', 'Up', 'Up', 'Right', 'Down', 'Down', 'Right', 'Up', 'Up', 'Left', 'Down', 'Down', 'Left', 'Up', 'Up', 'Right', 'Down', 'Down', 'Left', 'Up', 'Up', 'Right', 'Down', 'Down', 'Left', 'Up', 'Up', 'Right', 'Down', 'Down', 'Left', 'Up', 'Up', 'Right', 'Down', 'Down', 'Left', 'Up', 'Right', 'Up', 'Left', 'Down', 'Down', 'Right', 'Up', 'Up', 'Left', 'Down', 'Down', 'Right', 'Up', 'Up', 'Left', 'Down', 'Down', 'Right', 'Up', 'Up', 'Left', 'Down', 'Down', 'Right', 'Up', 'Up', 'Left', 'Down', 'Down', 'Right', 'Right', 'Up', 'Up', 'Left', 'Down', 'Down', 'Left', 'Up', 'Up', 'Right', 'Down', 'Down', 'Left', 'Up', 'Up', 'Right', 'Down', 'Down', 'Left', 'Up', 'Up', 'Right', 'Down', 'Down', 'Left', 'Up', 'Up', 'Right', 'Down', 'Down', 'Left', 'Up', 'Right', 'Up', 'Left', 'Down', 'Down', 'Right', 'Up', 'Up', 'Left', 'Down', 'Down', 'Right', 'Up', 'Up', 'Left', 'Down', 'Down', 'Right', 'Up', 'Up', 'Left', 'Down', 'Down', 'Right', 'Up', 'Up', 'Left', 'Down', 'Down', 'Right', 'Right', 'Up', 'Up', 'Left', 'Down', 'Down', 'Left', 'Up', 'Up', 'Right', 'Down', 'Down', 'Left', 'Up', 'Up', 'Right', 'Down', 'Down', 'Left', 'Up', 'Up', 'Right', 'Down', 'Down', 'Left', 'Up', 'Up', 'Right', 'Down', 'Down', 'Left', 'Up', 'Right', 'Up', 'Left', 'Down', 'Down', 'Right', 'Up', 'Up', 'Left', 'Down', 'Down', 'Right', 'Up', 'Up', 'Left', 'Down', 'Down', 'Right', 'Up', 'Up', 'Left', 'Down', 'Down', 'Right', 'Up', 'Up', 'Left', 'Down', 'Down', 'Right', 'Right', 'Up', 'Up', 'Left', 'Down', 'Down', 'Left', 'Up', 'Up', 'Right', 'Down', 'Down', 'Left', 'Up', 'Up', 'Right', 'Down', 'Down', 'Left', 'Up', 'Up', 'Right', 'Down', 'Down', 'Left', 'Up', 'Up', 'Right', 'Down', 'Down', 'Left', 'Up', 'Right', 'Up', 'Left', 'Down', 'Down', 'Right', 'Up', 'Up', 'Left', 'Down', 'Down', 'Right', 'Up', 'Up', 'Left', 'Down', 'Down', 'Right', 'Up', 'Up', 'Left', 'Down', 'Down', 'Right', 'Up', 'Up', 'Left', 'Down', 'Down', 'Right', 'Right', 'Up', 'Left', 'Up', 'Left', 'Down', 'Down', 'Right', 'Up', 'Up', 'Left', 'Down', 'Down', 'Right', 'Up', 'Up', 'Left', 'Down', 'Down', 'Right', 'Up', 'Up', 'Left', 'Down', 'Down', 'Right', 'Up', 'Up', 'Left', 'Down', 'Down', 'Right', 'Right', 'Up', 'Up', 'Left', 'Down', 'Down', 'Left', 'Up', 'Up', 'Right', 'Down', 'Down', 'Left', 'Up', 'Up', 'Right', 'Down', 'Down', 'Left', 'Up', 'Up', 'Right', 'Down', 'Down', 'Left', 'Up', 'Up', 'Right', 'Down', 'Down', 'Left', 'Up', 'Right', 'Up', 'Left', 'Down', 'Down', 'Right', 'Up', 'Up', 'Left', 'Down', 'Down', 'Right', 'Up', 'Up', 'Left', 'Down', 'Down', 'Right', 'Up', 'Up', 'Left', 'Down', 'Down', 'Right', 'Up', 'Up', 'Left', 'Down', 'Down', 'Right', 'Right', 'Up', 'Up', 'Left', 'Down', 'Down', 'Left', 'Up', 'Up', 'Right', 'Down', 'Down', 'Left', 'Up', 'Up', 'Right', 'Down', 'Down', 'Left', 'Up', 'Up', 'Right', 'Down', 'Down', 'Left', 'Up', 'Up', 'Right', 'Down', 'Down', 'Left', 'Up', 'Right', 'Up', 'Left', 'Down', 'Down', 'Right', 'Up', 'Up', 'Left', 'Down', 'Down', 'Right', 'Up', 'Up', 'Left', 'Down', 'Down', 'Right', 'Up', 'Up', 'Left', 'Down', 'Down', 'Right', 'Up', 'Up', 'Left', 'Down', 'Down', 'Right', 'Right', 'Up', 'Left', 'Up', 'Left', 'Down', 'Down', 'Right', 'Up', 'Up', 'Left', 'Down', 'Down', 'Right', 'Up', 'Up', 'Left', 'Down', 'Down', 'Right', 'Up', 'Up', 'Left', 'Down', 'Down', 'Right', 'Up', 'Up', 'Left', 'Down', 'Down', 'Right', 'Right', 'Up', 'Up', 'Left', 'Down', 'Down', 'Left', 'Up', 'Up', 'Right', 'Down', 'Down', 'Left', 'Up', 'Up', 'Right', 'Down', 'Down', 'Left', 'Up', 'Up', 'Right', 'Down', 'Down', 'Left', 'Up', 'Up', 'Right', 'Down', 'Down', 'Left', 'Up', 'Right', 'Up', 'Left', 'Down', 'Down', 'Right', 'Up', 'Up', 'Left', 'Down', 'Down', 'Right', 'Up', 'Up', 'Left', 'Down', 'Down', 'Right', 'Up', 'Up', 'Left', 'Down', 'Down', 'Right', 'Up', 'Up', 'Left', 'Down', 'Down', 'Right', 'Right', 'Up', 'Up', 'Left', 'Down', 'Down', 'Left', 'Up', 'Up', 'Right', 'Down', 'Down', 'Left', 'Up', 'Up', 'Right', 'Down', 'Down', 'Left', 'Up', 'Up', 'Right', 'Down', 'Down', 'Left', 'Up', 'Up', 'Right', 'Down', 'Down', 'Left', 'Up', 'Right', 'Up', 'Left', 'Down', 'Down', 'Right', 'Up', 'Up', 'Left', 'Down', 'Down', 'Right', 'Up', 'Up', 'Left', 'Down', 'Down', 'Right', 'Up', 'Up', 'Left', 'Down', 'Down', 'Right', 'Up', 'Up', 'Left', 'Down', 'Down', 'Right', 'Right', 'Up', 'Up', 'Left', 'Down', 'Down', 'Left', 'Up', 'Up', 'Right', 'Down', 'Down', 'Left', 'Up', 'Up', 'Right', 'Down', 'Down', 'Left', 'Up', 'Up', 'Right', 'Down', 'Down', 'Left', 'Up', 'Up', 'Right', 'Down', 'Down', 'Left', 'Up', 'Right', 'Up', 'Left', 'Down', 'Down', 'Right', 'Up', 'Up', 'Left', 'Down', 'Down', 'Right', 'Up', 'Up', 'Left', 'Down', 'Down', 'Right', 'Up', 'Up', 'Left', 'Down', 'Down', 'Right', 'Up', 'Up', 'Left', 'Down', 'Down', 'Right', 'Right', 'Up', 'Up', 'Left', 'Down', 'Down', 'Left', 'Up', 'Up', 'Right', 'Down', 'Down', 'Left', 'Up', 'Up', 'Right', 'Down', 'Down', 'Left', 'Up', 'Up', 'Right', 'Down', 'Down', 'Left', 'Up', 'Up', 'Right', 'Down', 'Down', 'Left', 'Up', 'Right', 'Up', 'Left', 'Down', 'Down', 'Right', 'Up', 'Up', 'Left', 'Down', 'Down', 'Right', 'Up', 'Up', 'Left', 'Down', 'Down', 'Right', 'Up', 'Up', 'Left', 'Down', 'Down', 'Right', 'Up', 'Up', 'Left', 'Down', 'Down', 'Right', 'Right', 'Up', 'Up', 'Left', 'Down', 'Down', 'Left', 'Up', 'Up', 'Right', 'Down', 'Down', 'Left', 'Up', 'Up', 'Right', 'Down', 'Down', 'Left', 'Up', 'Up', 'Right', 'Down', 'Down', 'Left', 'Up', 'Up', 'Right', 'Down', 'Down', 'Right', 'Up', 'Up', 'Left', 'Down', 'Down', 'Left', 'Up', 'Up', 'Right', 'Down', 'Down', 'Left', 'Up', 'Up', 'Right', 'Down', 'Down', 'Left', 'Up', 'Up', 'Right', 'Down', 'Down', 'Left', 'Up', 'Up', 'Right', 'Down', 'Down', 'Left', 'Up', 'Right', 'Up', 'Left', 'Down', 'Down', 'Right', 'Up', 'Up', 'Left', 'Down', 'Down', 'Right', 'Up', 'Up', 'Left', 'Down', 'Down', 'Right', 'Up', 'Up', 'Left', 'Down', 'Down', 'Right', 'Up', 'Up', 'Left', 'Down', 'Down', 'Right', 'Right', 'Up', 'Up', 'Left', 'Down', 'Down', 'Left', 'Up', 'Up', 'Right', 'Down', 'Down', 'Left', 'Up', 'Up', 'Right', 'Down', 'Down', 'Left', 'Up', 'Up', 'Right', 'Down', 'Down', 'Left', 'Up', 'Up', 'Right', 'Down', 'Down', 'Left', 'Up', 'Right', 'Up', 'Left', 'Down', 'Down', 'Right', 'Up', 'Up', 'Left', 'Down', 'Down', 'Right', 'Up', 'Up', 'Left', 'Down', 'Down', 'Right', 'Up', 'Up', 'Left', 'Down', 'Down', 'Right', 'Up', 'Up', 'Left', 'Down', 'Down', 'Right', 'Right', 'Up', 'Up', 'Left', 'Down', 'Down', 'Left', 'Up', 'Up', 'Right', 'Down', 'Down', 'Left', 'Up', 'Up', 'Right', 'Down', 'Down', 'Left', 'Up', 'Up', 'Right', 'Down', 'Down', 'Left', 'Up', 'Up', 'Right', 'Down', 'Down', 'Left', 'Up', 'Right', 'Up', 'Left', 'Down', 'Down', 'Right', 'Up', 'Up', 'Left', 'Down', 'Down', 'Right', 'Up', 'Up', 'Left', 'Down', 'Down', 'Right', 'Up', 'Up', 'Left', 'Down', 'Down', 'Right', 'Up', 'Up', 'Left', 'Down', 'Down', 'Right', 'Right', 'Up', 'Left', 'Up', 'Left', 'Down', 'Down', 'Right', 'Up', 'Up', 'Left', 'Down', 'Down', 'Right', 'Up', 'Up', 'Left', 'Down', 'Down', 'Right', 'Up', 'Up', 'Left', 'Down', 'Down', 'Right', 'Up', 'Up', 'Left', 'Down', 'Down', 'Right', 'Right', 'Up', 'Up', 'Left', 'Down', 'Down', 'Left', 'Up', 'Up', 'Right', 'Down', 'Down', 'Left', 'Up', 'Up', 'Right', 'Down', 'Down', 'Left', 'Up', 'Up', 'Right', 'Down', 'Down', 'Left', 'Up', 'Up', 'Right', 'Down', 'Down', 'Left', 'Up', 'Right', 'Up', 'Left', 'Down', 'Down', 'Right', 'Up', 'Up', 'Left', 'Down', 'Down', 'Right', 'Up', 'Up', 'Left', 'Down', 'Down', 'Right', 'Up', 'Up', 'Left', 'Down', 'Down', 'Right', 'Up', 'Up', 'Left', 'Down', 'Down', 'Right', 'Right', 'Up', 'Up', 'Left', 'Down', 'Down', 'Left', 'Up', 'Up', 'Right', 'Down', 'Down', 'Left', 'Up', 'Up', 'Right', 'Down', 'Down', 'Left', 'Up', 'Up', 'Right', 'Down', 'Down', 'Left', 'Up', 'Up', 'Right', 'Down', 'Down', 'Left', 'Up', 'Right', 'Up', 'Left', 'Down', 'Down', 'Right', 'Up', 'Up', 'Left', 'Down', 'Down', 'Right', 'Up', 'Up', 'Left', 'Down', 'Down', 'Right', 'Up', 'Up', 'Left', 'Down', 'Down', 'Right', 'Up', 'Up', 'Left', 'Down', 'Down', 'Right', 'Right', 'Up', 'Up', 'Left', 'Down', 'Down', 'Left', 'Up', 'Up', 'Right', 'Down', 'Down', 'Left', 'Up', 'Up', 'Right', 'Down', 'Down', 'Left', 'Up', 'Up', 'Right', 'Down', 'Down', 'Left', 'Up', 'Up', 'Right', 'Down', 'Down', 'Left', 'Up', 'Right', 'Up', 'Left', 'Down', 'Down', 'Right', 'Up', 'Up', 'Left', 'Down', 'Down', 'Right', 'Up', 'Up', 'Left', 'Down', 'Down', 'Right', 'Up', 'Up', 'Left', 'Down', 'Down', 'Right', 'Up', 'Up', 'Left', 'Down', 'Down', 'Right', 'Right', 'Up', 'Up', 'Left', 'Down', 'Down', 'Left', 'Up', 'Up', 'Right', 'Down', 'Down', 'Left', 'Up', 'Up', 'Right', 'Down', 'Down', 'Left', 'Up', 'Up', 'Right', 'Down', 'Down', 'Left', 'Up', 'Up', 'Right', 'Down', 'Down', 'Left', 'Up', 'Right', 'Up', 'Left', 'Down', 'Down', 'Right', 'Up', 'Up', 'Left', 'Down', 'Down', 'Right', 'Up', 'Up', 'Left', 'Down', 'Down', 'Right', 'Up', 'Up', 'Left', 'Down', 'Down', 'Right', 'Up', 'Up', 'Left', 'Down', 'Down', 'Right', 'Right', 'Up', 'Up', 'Left', 'Down', 'Down', 'Left', 'Up', 'Up', 'Right', 'Down', 'Down', 'Left', 'Up', 'Up', 'Right', 'Down', 'Down', 'Left', 'Up', 'Up', 'Right', 'Down', 'Down', 'Left', 'Up', 'Up', 'Right', 'Down', 'Down', 'Left', 'Up', 'Right', 'Up', 'Left', 'Down', 'Down', 'Right', 'Up', 'Up', 'Left', 'Down', 'Down', 'Right', 'Up', 'Up', 'Left', 'Down', 'Down', 'Right', 'Up', 'Up', 'Left', 'Down', 'Down', 'Right', 'Up', 'Up', 'Left', 'Down', 'Down', 'Right', 'Right', 'Up', 'Up', 'Left', 'Down', 'Down', 'Left', 'Up', 'Up', 'Right', 'Down', 'Down', 'Left', 'Up', 'Up', 'Right', 'Down', 'Down', 'Left', 'Up', 'Up', 'Right', 'Down', 'Down', 'Left', 'Up', 'Up', 'Right', 'Down', 'Down', 'Right', 'Up', 'Up', 'Left', 'Down', 'Down', 'Left', 'Up', 'Up', 'Right', 'Down', 'Down', 'Left', 'Up', 'Up', 'Right', 'Down', 'Down', 'Left', 'Up', 'Up', 'Right', 'Down', 'Down', 'Left', 'Up', 'Up', 'Right', 'Down', 'Down', 'Left', 'Up', 'Right', 'Up', 'Left', 'Down', 'Down', 'Right', 'Up', 'Up', 'Left', 'Down', 'Down', 'Right', 'Up', 'Up', 'Left', 'Down', 'Down', 'Right', 'Up', 'Up', 'Left', 'Down', 'Down', 'Right', 'Up', 'Up', 'Left', 'Down', 'Down', 'Right', 'Right', 'Up', 'Up', 'Left', 'Down', 'Down', 'Left', 'Up', 'Up', 'Right', 'Down', 'Down', 'Left', 'Up', 'Up', 'Right', 'Down', 'Down', 'Left', 'Up', 'Up', 'Right', 'Down', 'Down', 'Left', 'Up', 'Up', 'Right', 'Down', 'Down', 'Left', 'Up', 'Right', 'Up', 'Left', 'Down', 'Down', 'Right', 'Up', 'Up', 'Left', 'Down', 'Down', 'Right', 'Up', 'Up', 'Left', 'Down', 'Down', 'Right', 'Up', 'Up', 'Left', 'Down', 'Down', 'Right', 'Up', 'Up', 'Left', 'Down', 'Down', 'Right', 'Right', 'Up', 'Up', 'Left', 'Down', 'Down', 'Left', 'Up', 'Up', 'Right', 'Down', 'Down', 'Left', 'Up', 'Up', 'Right', 'Down', 'Down', 'Left', 'Up', 'Up', 'Right', 'Down', 'Down', 'Left', 'Up', 'Up', 'Right', 'Down', 'Down', 'Left', 'Up', 'Right', 'Up', 'Left', 'Down', 'Down', 'Right', 'Up', 'Up', 'Left', 'Down', 'Down', 'Right', 'Up', 'Up', 'Left', 'Down', 'Down', 'Right', 'Up', 'Up', 'Left', 'Down', 'Down', 'Right', 'Up', 'Up', 'Left', 'Down', 'Down', 'Right', 'Right', 'Up', 'Up', 'Left', 'Down', 'Down', 'Left', 'Up', 'Up', 'Right', 'Down', 'Down', 'Left', 'Up', 'Up', 'Right', 'Down', 'Down', 'Left', 'Up', 'Up', 'Right', 'Down', 'Down', 'Left', 'Up', 'Up', 'Right', 'Down', 'Down', 'Left', 'Up', 'Right', 'Up', 'Left', 'Down', 'Down', 'Right', 'Up', 'Up', 'Left', 'Down', 'Down', 'Right', 'Up', 'Up', 'Left', 'Down', 'Down', 'Right', 'Up', 'Up', 'Left', 'Down', 'Down', 'Right', 'Up', 'Up', 'Left', 'Down', 'Down', 'Right', 'Right', 'Up', 'Up', 'Left', 'Down', 'Down', 'Left', 'Up', 'Up', 'Right', 'Down', 'Down', 'Left', 'Up', 'Up', 'Right', 'Down', 'Down', 'Left', 'Up', 'Up', 'Right', 'Down', 'Down', 'Left', 'Up', 'Up', 'Right', 'Down', 'Down', 'Left', 'Up', 'Right', 'Up', 'Left', 'Down', 'Down', 'Right', 'Up', 'Up', 'Left', 'Down', 'Down', 'Right', 'Up', 'Up', 'Left', 'Down', 'Down', 'Right', 'Up', 'Up', 'Left', 'Down', 'Down', 'Right', 'Up', 'Up', 'Left', 'Down', 'Down', 'Right', 'Right', 'Up', 'Up', 'Left', 'Down', 'Down', 'Left', 'Up', 'Up', 'Right', 'Down', 'Down', 'Left', 'Up', 'Up', 'Right', 'Down', 'Down', 'Left', 'Up', 'Up', 'Right', 'Down', 'Down', 'Left', 'Up', 'Up', 'Right', 'Down', 'Down', 'Left', 'Up', 'Right', 'Up', 'Left', 'Down', 'Down', 'Right', 'Up', 'Up', 'Left', 'Down', 'Down', 'Right', 'Up', 'Up', 'Left', 'Down', 'Down', 'Right', 'Up', 'Up', 'Left', 'Down', 'Down', 'Right', 'Up', 'Up', 'Left', 'Down', 'Down', 'Right', 'Right', 'Up', 'Left', 'Up', 'Left', 'Down', 'Down', 'Right', 'Up', 'Up', 'Left', 'Down', 'Down', 'Right', 'Up', 'Up', 'Left', 'Down', 'Down', 'Right', 'Up', 'Up', 'Left', 'Down', 'Down', 'Right', 'Up', 'Up', 'Left', 'Down', 'Down', 'Right', 'Right', 'Up', 'Up', 'Left', 'Down', 'Down', 'Left', 'Up', 'Up', 'Right', 'Down', 'Down', 'Left', 'Up', 'Up', 'Right', 'Down', 'Down', 'Left', 'Up', 'Up', 'Right', 'Down', 'Down', 'Left', 'Up', 'Up', 'Right', 'Down', 'Down', 'Left', 'Up', 'Right', 'Up', 'Left', 'Down', 'Down', 'Right', 'Up', 'Up', 'Left', 'Down', 'Down', 'Right', 'Up', 'Up', 'Left', 'Down', 'Down', 'Right', 'Up', 'Up', 'Left', 'Down', 'Down', 'Right', 'Up', 'Up', 'Left', 'Down', 'Down', 'Right', 'Right', 'Up', 'Left', 'Up', 'Left', 'Down', 'Down', 'Right', 'Up', 'Up', 'Left', 'Down', 'Down', 'Right', 'Up', 'Up', 'Left', 'Down', 'Down', 'Right', 'Up', 'Up', 'Left', 'Down', 'Down', 'Right', 'Up', 'Up', 'Left', 'Down', 'Down', 'Right', 'Right', 'Up', 'Up', 'Left', 'Down', 'Down', 'Left', 'Up', 'Up', 'Right', 'Down', 'Down', 'Left', 'Up', 'Up', 'Right', 'Down', 'Down', 'Left', 'Up', 'Up', 'Right', 'Down', 'Down', 'Left', 'Up', 'Up', 'Right', 'Down', 'Down', 'Left', 'Up', 'Right', 'Up', 'Left', 'Down', 'Down', 'Right', 'Up', 'Up', 'Left', 'Down', 'Down', 'Right', 'Up', 'Up', 'Left', 'Down', 'Down', 'Right', 'Up', 'Up', 'Left', 'Down', 'Down', 'Right', 'Up', 'Up', 'Left', 'Down', 'Down', 'Right', 'Right', 'Up', 'Up', 'Left', 'Down', 'Down', 'Left', 'Up', 'Up', 'Right', 'Down', 'Down', 'Left', 'Up', 'Up', 'Right', 'Down', 'Down', 'Left', 'Up', 'Up', 'Right', 'Down', 'Down', 'Left', 'Up', 'Up', 'Right', 'Down', 'Down', 'Left', 'Up', 'Right', 'Up', 'Left', 'Down', 'Down', 'Right', 'Up', 'Up', 'Left', 'Down', 'Down', 'Right', 'Up', 'Up', 'Left', 'Down', 'Down', 'Right', 'Up', 'Up', 'Left', 'Down', 'Down', 'Right', 'Up', 'Up', 'Left', 'Down', 'Down', 'Right', 'Right', 'Up', 'Up', 'Left', 'Down', 'Down', 'Left', 'Up', 'Up', 'Right', 'Down', 'Down', 'Left', 'Up', 'Up', 'Right', 'Down', 'Down', 'Left', 'Up', 'Up', 'Right', 'Down', 'Down', 'Left', 'Up', 'Up', 'Right', 'Down', 'Down', 'Right', 'Up', 'Up', 'Left', 'Down', 'Down', 'Left', 'Up', 'Up', 'Right', 'Down', 'Down', 'Left', 'Up', 'Up', 'Right', 'Down', 'Down', 'Left', 'Up', 'Up', 'Right', 'Down', 'Down', 'Left', 'Up', 'Up', 'Right', 'Down', 'Down', 'Left', 'Up', 'Right', 'Up', 'Left', 'Down', 'Down', 'Right', 'Up', 'Up', 'Left', 'Down', 'Down', 'Right', 'Up', 'Up', 'Left', 'Down', 'Down', 'Right', 'Up', 'Up', 'Left', 'Down', 'Down', 'Right', 'Up', 'Up', 'Left', 'Down', 'Down', 'Right', 'Right', 'Up', 'Up', 'Left', 'Down', 'Down', 'Left', 'Up', 'Up', 'Right', 'Down', 'Down', 'Left', 'Up', 'Up', 'Right', 'Down', 'Down', 'Left', 'Up', 'Up', 'Right', 'Down', 'Down', 'Left', 'Up', 'Up', 'Right', 'Down', 'Down', 'Left', 'Up', 'Right', 'Up', 'Left', 'Down', 'Down', 'Right', 'Up', 'Up', 'Left', 'Down', 'Down', 'Right', 'Up', 'Up', 'Left', 'Down', 'Down', 'Right', 'Up', 'Up', 'Left', 'Down', 'Down', 'Right', 'Up', 'Up', 'Left', 'Down', 'Down', 'Right', 'Right', 'Up', 'Up', 'Left', 'Down', 'Down', 'Left', 'Up', 'Up', 'Right', 'Down', 'Down', 'Left', 'Up', 'Up', 'Right', 'Down', 'Down', 'Left', 'Up', 'Up', 'Right', 'Down', 'Down', 'Left', 'Up', 'Up', 'Right', 'Down', 'Down', 'Left', 'Up', 'Right', 'Up', 'Left', 'Down', 'Down', 'Right', 'Up', 'Up', 'Left', 'Down', 'Down', 'Right', 'Up', 'Up', 'Left', 'Down', 'Down', 'Right', 'Up', 'Up', 'Left', 'Down', 'Down', 'Right', 'Up', 'Up', 'Left', 'Down', 'Down', 'Right', 'Right', 'Up', 'Up', 'Left', 'Down', 'Down', 'Left', 'Up', 'Up', 'Right', 'Down', 'Down', 'Left', 'Up', 'Up', 'Right', 'Down', 'Down', 'Left', 'Up', 'Up', 'Right', 'Down', 'Down', 'Left', 'Up', 'Up', 'Right', 'Down', 'Down', 'Left', 'Up', 'Right', 'Up', 'Left', 'Down', 'Down', 'Right', 'Up', 'Up', 'Left', 'Down', 'Down', 'Right', 'Up', 'Up', 'Left', 'Down', 'Down', 'Right', 'Up', 'Up', 'Left', 'Down', 'Down', 'Right', 'Up', 'Up', 'Left', 'Down', 'Right', 'Up', 'Left', 'Down', 'Down', 'Right', 'Up', 'Up', 'Left', 'Down', 'Down', 'Right', 'Up', 'Up', 'Left', 'Down', 'Down', 'Right', 'Up', 'Up', 'Left', 'Down', 'Down', 'Right', 'Up', 'Up', 'Left', 'Down', 'Down', 'Right', 'Right', 'Up', 'Up', 'Left', 'Down', 'Down', 'Left', 'Up', 'Up', 'Right', 'Down', 'Down', 'Left', 'Up', 'Up', 'Right', 'Down', 'Down', 'Left', 'Up', 'Up', 'Right', 'Down', 'Down', 'Left', 'Up', 'Up', 'Right', 'Down', 'Down', 'Left', 'Up', 'Right', 'Up', 'Left', 'Down', 'Down', 'Right', 'Up', 'Up', 'Left', 'Down', 'Down', 'Right', 'Up', 'Up', 'Left', 'Down', 'Down', 'Right', 'Up', 'Up', 'Left', 'Down', 'Down', 'Right', 'Up', 'Up', 'Left', 'Down', 'Down', 'Right', 'Right', 'Up', 'Left', 'Up', 'Left', 'Down', 'Down', 'Right', 'Up', 'Up', 'Left', 'Down', 'Down', 'Right', 'Up', 'Up', 'Left', 'Down', 'Down', 'Right', 'Up', 'Up', 'Left', 'Down', 'Down', 'Right', 'Up', 'Up', 'Left', 'Down', 'Down', 'Right', 'Right', 'Up', 'Left', 'Up', 'Left', 'Down', 'Down', 'Right', 'Up', 'Up', 'Left', 'Down', 'Down', 'Right', 'Up', 'Up', 'Left', 'Down', 'Down', 'Right', 'Up', 'Up', 'Left', 'Down', 'Down', 'Right', 'Up', 'Up', 'Left', 'Down', 'Down', 'Right', 'Right', 'Up', 'Up', 'Left', 'Down', 'Down', 'Left', 'Up', 'Up', 'Right', 'Down', 'Down', 'Left', 'Up', 'Up', 'Right', 'Down', 'Down', 'Left', 'Up', 'Up', 'Right', 'Down', 'Down', 'Left', 'Up', 'Up', 'Right', 'Down', 'Down', 'Left', 'Up', 'Right', 'Up', 'Left', 'Down', 'Down', 'Right', 'Up', 'Up', 'Left', 'Down', 'Down', 'Right', 'Up', 'Up', 'Left', 'Down', 'Down', 'Right', 'Up', 'Up', 'Left', 'Down', 'Down', 'Right', 'Up', 'Up', 'Left', 'Down', 'Down', 'Right', 'Right', 'Up', 'Up', 'Left', 'Down', 'Down', 'Left', 'Up', 'Up', 'Right', 'Down', 'Down', 'Left', 'Up', 'Up', 'Right', 'Down', 'Down', 'Left', 'Up', 'Up', 'Right', 'Down', 'Down', 'Left', 'Up', 'Up', 'Right', 'Down', 'Down', 'Left', 'Up', 'Right', 'Up', 'Left', 'Down', 'Down', 'Right', 'Up', 'Up', 'Left', 'Down', 'Down', 'Right', 'Up', 'Up', 'Left', 'Down', 'Down', 'Right', 'Up', 'Up', 'Left', 'Down', 'Down', 'Right', 'Up', 'Up', 'Left', 'Down', 'Down', 'Right', 'Right', 'Up', 'Up', 'Left', 'Down', 'Down', 'Left', 'Up', 'Up', 'Right', 'Down', 'Down', 'Left', 'Up', 'Up', 'Right', 'Down', 'Down', 'Left', 'Up', 'Up', 'Right', 'Down', 'Down', 'Left', 'Up', 'Up', 'Right', 'Down', 'Down', 'Left', 'Up', 'Right', 'Up', 'Left', 'Down', 'Down', 'Right', 'Up', 'Up', 'Left', 'Down', 'Down', 'Right', 'Up', 'Up', 'Left', 'Down', 'Down', 'Right', 'Up', 'Up', 'Left', 'Down', 'Down', 'Right', 'Up', 'Up', 'Left', 'Down', 'Down', 'Right', 'Right', 'Up', 'Up', 'Left', 'Down', 'Down', 'Left', 'Up', 'Up', 'Right', 'Down', 'Down', 'Left', 'Up', 'Up', 'Right', 'Down', 'Down', 'Left', 'Up', 'Up', 'Right', 'Down', 'Down', 'Left', 'Up', 'Up', 'Right', 'Down', 'Down', 'Left', 'Up', 'Right', 'Up', 'Left', 'Down', 'Down', 'Right', 'Up', 'Up', 'Left', 'Down', 'Down', 'Right', 'Up', 'Up', 'Left', 'Down', 'Down', 'Right', 'Up', 'Up', 'Left', 'Down', 'Down', 'Right', 'Up', 'Up', 'Left', 'Down', 'Down', 'Right', 'Right', 'Up', 'Up', 'Left', 'Down', 'Down', 'Left', 'Up', 'Up', 'Right', 'Down', 'Down', 'Left', 'Up', 'Up', 'Right', 'Down', 'Down', 'Left', 'Up', 'Up', 'Right', 'Down', 'Down', 'Left', 'Up', 'Up', 'Right', 'Down', 'Down', 'Right', 'Up', 'Up', 'Left', 'Down', 'Down', 'Left', 'Up', 'Up', 'Right', 'Down', 'Down', 'Left', 'Up', 'Up', 'Right', 'Down', 'Down', 'Left', 'Up', 'Up', 'Right', 'Down', 'Down', 'Left', 'Up', 'Up', 'Right', 'Down', 'Down', 'Left', 'Up', 'Right', 'Up', 'Left', 'Down', 'Down', 'Right', 'Up', 'Up', 'Left', 'Down', 'Down', 'Right', 'Up', 'Up', 'Left', 'Down', 'Down', 'Right', 'Up', 'Up', 'Left', 'Down', 'Down', 'Right', 'Up', 'Up', 'Left', 'Down', 'Down', 'Right', 'Right', 'Up', 'Up', 'Left', 'Down', 'Down', 'Left', 'Up', 'Up', 'Right', 'Down', 'Down', 'Left', 'Up', 'Up', 'Right', 'Down', 'Down', 'Left', 'Up', 'Up', 'Right', 'Down', 'Down', 'Left', 'Up', 'Up', 'Right', 'Down', 'Down', 'Left', 'Up', 'Right', 'Up', 'Left', 'Down', 'Down', 'Right', 'Up', 'Up', 'Left', 'Down', 'Down', 'Right', 'Up', 'Up', 'Left', 'Down', 'Down', 'Right', 'Up', 'Up', 'Left', 'Down', 'Down', 'Right', 'Up', 'Up', 'Left', 'Down', 'Down', 'Right', 'Right', 'Up', 'Up', 'Left', 'Down', 'Down', 'Left', 'Up', 'Up', 'Right', 'Down', 'Down', 'Left', 'Up', 'Up', 'Right', 'Down', 'Down', 'Left', 'Up', 'Up', 'Right', 'Down', 'Down', 'Left', 'Up', 'Up', 'Right', 'Down', 'Down', 'Left', 'Up', 'Right', 'Up', 'Left', 'Down', 'Down', 'Right', 'Up', 'Up', 'Left', 'Down', 'Down', 'Right', 'Up', 'Up', 'Left', 'Down', 'Down', 'Right', 'Up', 'Up', 'Left', 'Down', 'Down', 'Right', 'Up', 'Up', 'Left', 'Down', 'Down', 'Right', 'Right', 'Up', 'Up', 'Left', 'Down', 'Down', 'Left', 'Up', 'Up', 'Right', 'Down', 'Down', 'Left', 'Up', 'Up', 'Right', 'Down', 'Down', 'Left', 'Up', 'Up', 'Right', 'Down', 'Down', 'Left', 'Up', 'Up', 'Right', 'Down', 'Down', 'Left', 'Up', 'Right', 'Up', 'Left', 'Down', 'Down', 'Right', 'Up', 'Up', 'Left', 'Down', 'Down', 'Right', 'Up', 'Up', 'Left', 'Down', 'Down', 'Right', 'Up', 'Up', 'Left', 'Down', 'Down', 'Right', 'Up', 'Up', 'Left', 'Down', 'Down', 'Right', 'Right', 'Up', 'Up', 'Left', 'Down', 'Down', 'Left', 'Up', 'Up', 'Right', 'Down', 'Down', 'Left', 'Up', 'Up', 'Right', 'Down', 'Down', 'Left', 'Up', 'Up', 'Right', 'Down', 'Down', 'Left', 'Up', 'Up', 'Right', 'Down', 'Down', 'Left', 'Up', 'Right', 'Up', 'Left', 'Down', 'Down', 'Right', 'Up', 'Up', 'Left', 'Down', 'Down', 'Right', 'Up', 'Up', 'Left', 'Down', 'Down', 'Right', 'Up', 'Up', 'Left', 'Down', 'Down', 'Right', 'Up', 'Up', 'Left', 'Down', 'Down', 'Right', 'Right', 'Up', 'Up', 'Left', 'Down', 'Down', 'Left', 'Up', 'Up', 'Right', 'Down', 'Down', 'Left', 'Up', 'Up', 'Right', 'Down', 'Down', 'Left', 'Up', 'Up', 'Right', 'Down', 'Down', 'Left', 'Up', 'Up', 'Right', 'Down', 'Down', 'Left', 'Up', 'Right', 'Up', 'Left', 'Down', 'Down', 'Right', 'Up', 'Up', 'Left', 'Down', 'Down', 'Right', 'Up', 'Up', 'Left', 'Down', 'Down', 'Right', 'Up', 'Up', 'Left', 'Down', 'Down', 'Right', 'Up', 'Up', 'Left', 'Down', 'Down', 'Right', 'Right', 'Up', 'Up', 'Left', 'Down', 'Down', 'Left', 'Up', 'Up', 'Right', 'Down', 'Down', 'Left', 'Up', 'Up', 'Right', 'Down', 'Down', 'Left', 'Up', 'Up', 'Right', 'Down', 'Down', 'Left', 'Up', 'Up', 'Right', 'Down', 'Down', 'Right', 'Up', 'Up', 'Left', 'Down', 'Down', 'Left', 'Up', 'Up', 'Right', 'Down', 'Down', 'Left', 'Up', 'Up', 'Right', 'Down', 'Down', 'Left', 'Up', 'Up', 'Right', 'Down', 'Down', 'Left', 'Up', 'Up', 'Right', 'Down', 'Down', 'Left', 'Up', 'Right', 'Up', 'Left', 'Down', 'Down', 'Right', 'Up', 'Up', 'Left', 'Down', 'Down', 'Right', 'Up', 'Up', 'Left', 'Down', 'Down', 'Right', 'Up', 'Up', 'Left', 'Down', 'Down', 'Right', 'Up', 'Up', 'Left', 'Down', 'Down', 'Right', 'Right', 'Up', 'Up', 'Left', 'Down', 'Down', 'Left', 'Up', 'Up', 'Right', 'Down', 'Down', 'Left', 'Up', 'Up', 'Right', 'Down', 'Down', 'Left', 'Up', 'Up', 'Right', 'Down', 'Down', 'Left', 'Up', 'Up', 'Right', 'Down', 'Down', 'Left', 'Up', 'Right', 'Up', 'Left', 'Down', 'Down', 'Right', 'Up', 'Up', 'Left', 'Down', 'Down', 'Right', 'Up', 'Up', 'Left', 'Down', 'Down', 'Right', 'Up', 'Up', 'Left', 'Down', 'Down', 'Right', 'Up', 'Up', 'Left', 'Down', 'Down', 'Right', 'Right', 'Up', 'Up', 'Left', 'Down', 'Down', 'Left', 'Up', 'Up', 'Right', 'Down', 'Down', 'Left', 'Up', 'Up', 'Right', 'Down', 'Down', 'Left', 'Up', 'Up', 'Right', 'Down', 'Down', 'Left', 'Up', 'Up', 'Right', 'Down', 'Down', 'Left', 'Up', 'Right', 'Up', 'Left', 'Down', 'Down', 'Right', 'Up', 'Up', 'Left', 'Down', 'Down', 'Right', 'Up', 'Up', 'Left', 'Down', 'Down', 'Right', 'Up', 'Up', 'Left', 'Down', 'Down', 'Right', 'Up', 'Up', 'Left', 'Down', 'Down', 'Right', 'Right', 'Up', 'Up', 'Left', 'Down', 'Down', 'Left', 'Up', 'Up', 'Right', 'Down', 'Down', 'Left', 'Up', 'Up', 'Right', 'Down', 'Down', 'Left', 'Up', 'Up', 'Right', 'Down', 'Down', 'Left', 'Up', 'Up', 'Right', 'Down', 'Down', 'Left', 'Up', 'Right', 'Up', 'Left', 'Down', 'Down', 'Right', 'Up', 'Up', 'Left', 'Down', 'Down', 'Right', 'Up', 'Up', 'Left', 'Down', 'Down', 'Right', 'Up', 'Up', 'Left', 'Down', 'Down', 'Right', 'Up', 'Up', 'Left', 'Down', 'Down', 'Right', 'Right', 'Up', 'Up', 'Left', 'Down', 'Down', 'Left', 'Up', 'Up', 'Right', 'Down', 'Down', 'Left', 'Up', 'Up', 'Right', 'Down', 'Down', 'Left', 'Up', 'Up', 'Right', 'Down', 'Down', 'Left', 'Up', 'Up', 'Right', 'Down', 'Down', 'Left', 'Up', 'Right', 'Up', 'Left', 'Down', 'Down', 'Right', 'Up', 'Up', 'Left', 'Down', 'Down', 'Right', 'Up', 'Up', 'Left', 'Down', 'Down', 'Right', 'Up', 'Up', 'Left', 'Down', 'Down', 'Right', 'Up', 'Up', 'Left', 'Down', 'Down', 'Right', 'Right', 'Up', 'Up', 'Left', 'Down', 'Down', 'Left', 'Up', 'Up', 'Right', 'Down', 'Down', 'Left', 'Up', 'Up', 'Right', 'Down', 'Down', 'Left', 'Up', 'Up', 'Right', 'Down', 'Down', 'Left', 'Up', 'Up', 'Right', 'Down', 'Down', 'Left', 'Up', 'Right', 'Up', 'Left', 'Down', 'Down', 'Right', 'Up', 'Up', 'Left', 'Down', 'Down', 'Right', 'Up', 'Up', 'Left', 'Down', 'Down', 'Right', 'Up', 'Up', 'Left', 'Down', 'Down', 'Right', 'Up', 'Up', 'Left', 'Down', 'Right', 'Up', 'Left', 'Down', 'Down', 'Right', 'Up', 'Up', 'Left', 'Down', 'Down', 'Right', 'Up', 'Up', 'Left', 'Down', 'Down', 'Right', 'Up', 'Up', 'Left', 'Down', 'Down', 'Right', 'Up', 'Up', 'Left', 'Down', 'Down', 'Right', 'Right', 'Up', 'Up', 'Left', 'Down', 'Down', 'Left', 'Up', 'Up', 'Right', 'Down', 'Down', 'Left', 'Up', 'Up', 'Right', 'Down', 'Down', 'Left', 'Up', 'Up', 'Right', 'Down', 'Down', 'Left', 'Up', 'Up', 'Right', 'Down', 'Down', 'Left', 'Up', 'Right', 'Up', 'Left', 'Down', 'Down', 'Right', 'Up', 'Up', 'Left', 'Down', 'Down', 'Right', 'Up', 'Up', 'Left', 'Down', 'Down', 'Right', 'Up', 'Up', 'Left', 'Down', 'Down', 'Right', 'Up', 'Up', 'Left', 'Down', 'Down', 'Right', 'Right', 'Up', 'Up', 'Left', 'Down', 'Down', 'Left', 'Up', 'Up', 'Right', 'Down', 'Down', 'Left', 'Up', 'Up', 'Right', 'Down', 'Down', 'Left', 'Up', 'Up', 'Right', 'Down', 'Down', 'Left', 'Up', 'Up', 'Right', 'Down', 'Down', 'Left', 'Up', 'Right', 'Up', 'Left', 'Down', 'Down', 'Right', 'Up', 'Up', 'Left', 'Down', 'Down', 'Right', 'Up', 'Up', 'Left', 'Down', 'Down', 'Right', 'Up', 'Up', 'Left', 'Down', 'Down', 'Right', 'Up', 'Up', 'Left', 'Down', 'Down', 'Right', 'Right', 'Up', 'Up', 'Left', 'Down', 'Down', 'Left', 'Up', 'Up', 'Right', 'Down', 'Down', 'Left', 'Up', 'Up', 'Right', 'Down', 'Down', 'Left', 'Up', 'Up', 'Right', 'Down', 'Down', 'Left', 'Up', 'Up', 'Right', 'Down', 'Down', 'Left', 'Up', 'Right', 'Up', 'Left', 'Down', 'Down', 'Right', 'Up', 'Up', 'Left', 'Down', 'Down', 'Right', 'Up', 'Up', 'Left', 'Down', 'Down', 'Right', 'Up', 'Up', 'Left', 'Down', 'Down', 'Right', 'Up', 'Up', 'Left', 'Down', 'Down', 'Right', 'Right', 'Up', 'Up', 'Left', 'Down', 'Down', 'Left', 'Up', 'Up', 'Right', 'Down', 'Down', 'Left', 'Up', 'Up', 'Right', 'Down', 'Down', 'Left', 'Up', 'Up', 'Right', 'Down', 'Down', 'Left', 'Up', 'Up', 'Right', 'Down', 'Down', 'Left', 'Up', 'Right', 'Up', 'Left', 'Down', 'Down', 'Right', 'Up', 'Up', 'Left', 'Down', 'Down', 'Right', 'Up', 'Up', 'Left', 'Down', 'Down', 'Right', 'Up', 'Up', 'Left', 'Down', 'Down', 'Right', 'Up', 'Up', 'Left', 'Down', 'Down', 'Right', 'Right', 'Up', 'Up', 'Left', 'Down', 'Down', 'Left', 'Up', 'Up', 'Right', 'Down', 'Down', 'Left', 'Up', 'Up', 'Right', 'Down', 'Down', 'Left', 'Up', 'Up', 'Right', 'Down', 'Down', 'Left', 'Up', 'Up', 'Right', 'Down', 'Down', 'Left', 'Up', 'Right', 'Up', 'Left', 'Down', 'Down', 'Right', 'Up', 'Up', 'Left', 'Down', 'Down', 'Right', 'Up', 'Up', 'Left', 'Down', 'Down', 'Right', 'Up', 'Up', 'Left', 'Down', 'Down', 'Right', 'Up', 'Up', 'Left', 'Down', 'Down', 'Right', 'Right', 'Up', 'Up', 'Left', 'Down', 'Down', 'Left', 'Up', 'Up', 'Right', 'Down', 'Down', 'Left', 'Up', 'Up', 'Right', 'Down', 'Down', 'Left', 'Up', 'Up', 'Right', 'Down', 'Down', 'Left', 'Up', 'Up', 'Right', 'Down', 'Down', 'Left', 'Up', 'Right', 'Up', 'Left', 'Down', 'Down', 'Right', 'Up', 'Up', 'Left', 'Down', 'Down', 'Right', 'Up', 'Up', 'Left', 'Down', 'Down', 'Right', 'Up', 'Up', 'Left', 'Down', 'Down', 'Right', 'Up', 'Up', 'Left', 'Down', 'Down', 'Right', 'Right', 'Up', 'Left', 'Up', 'Left', 'Down', 'Down', 'Right', 'Up', 'Up', 'Left', 'Down', 'Down', 'Right', 'Up', 'Up', 'Left', 'Down', 'Down', 'Right', 'Up', 'Up', 'Left', 'Down', 'Down', 'Right', 'Up', 'Up', 'Left', 'Down', 'Down', 'Right', 'Right', 'Up', 'Left', 'Up', 'Left', 'Down', 'Down', 'Right', 'Up', 'Up', 'Left', 'Down', 'Down', 'Right', 'Up', 'Up', 'Left', 'Down', 'Down', 'Right', 'Up', 'Up', 'Left', 'Down', 'Down', 'Right', 'Up', 'Up', 'Left', 'Down', 'Right', 'Up', 'Left', 'Down', 'Down', 'Right', 'Up', 'Up', 'Left', 'Down', 'Down', 'Right', 'Up', 'Up', 'Left', 'Down', 'Down', 'Right', 'Up', 'Up', 'Left', 'Down', 'Down', 'Right', 'Up', 'Up', 'Left', 'Down', 'Down', 'Right', 'Right', 'Up', 'Up', 'Left', 'Down', 'Down', 'Left', 'Up', 'Up', 'Right', 'Down', 'Down', 'Left', 'Up', 'Up', 'Right', 'Down', 'Down', 'Left', 'Up', 'Up', 'Right', 'Down', 'Down', 'Left', 'Up', 'Up', 'Right', 'Down', 'Down', 'Left', 'Up', 'Right', 'Up', 'Left', 'Down', 'Down', 'Right', 'Up', 'Up', 'Left', 'Down', 'Down', 'Right', 'Up', 'Up', 'Left', 'Down', 'Down', 'Right', 'Up', 'Up', 'Left', 'Down', 'Down', 'Right', 'Up', 'Up', 'Left', 'Down', 'Down', 'Right', 'Right', 'Up', 'Left', 'Up', 'Left', 'Down', 'Down', 'Right', 'Up', 'Up', 'Left', 'Down', 'Down', 'Right', 'Up', 'Up', 'Left', 'Down', 'Down', 'Right', 'Up', 'Up', 'Left', 'Down', 'Down', 'Right', 'Up', 'Up', 'Left', 'Down', 'Down', 'Right', 'Right', 'Up', 'Up', 'Left', 'Down', 'Down', 'Left', 'Up', 'Up', 'Right', 'Down', 'Down', 'Left', 'Up', 'Up', 'Right', 'Down', 'Down', 'Left', 'Up', 'Up', 'Right', 'Down', 'Down', 'Left', 'Up', 'Up', 'Right', 'Down', 'Down', 'Left', 'Up', 'Right', 'Up', 'Left', 'Down', 'Down', 'Right', 'Up', 'Up', 'Left', 'Down', 'Down', 'Right', 'Up', 'Up', 'Left', 'Down', 'Down', 'Right', 'Up', 'Up', 'Left', 'Down', 'Down', 'Right', 'Up', 'Up', 'Left', 'Down', 'Down', 'Right', 'Right', 'Up', 'Up', 'Left', 'Down', 'Down', 'Left', 'Up', 'Up', 'Right', 'Down', 'Down', 'Left', 'Up', 'Up', 'Right', 'Down', 'Down', 'Left', 'Up', 'Up', 'Right', 'Down', 'Down', 'Left', 'Up', 'Up', 'Right', 'Down', 'Down', 'Left', 'Up', 'Right', 'Up', 'Left', 'Down', 'Down', 'Right', 'Up', 'Up', 'Left', 'Down', 'Down', 'Right', 'Up', 'Up', 'Left', 'Down', 'Down', 'Right', 'Up', 'Up', 'Left', 'Down', 'Down', 'Right', 'Up', 'Up', 'Left', 'Down', 'Down', 'Right', 'Right', 'Up', 'Up', 'Left', 'Down', 'Down', 'Left', 'Up', 'Up', 'Right', 'Down', 'Down', 'Left', 'Up', 'Up', 'Right', 'Down', 'Down', 'Left', 'Up', 'Up', 'Right', 'Down', 'Down', 'Left', 'Up', 'Up', 'Right', 'Down', 'Down', 'Left', 'Up', 'Right', 'Up', 'Left', 'Down', 'Down', 'Right', 'Up', 'Up', 'Left', 'Down', 'Down', 'Right', 'Up', 'Up', 'Left', 'Down', 'Down', 'Right', 'Up', 'Up', 'Left', 'Down', 'Down', 'Right', 'Up', 'Up', 'Left', 'Down', 'Down', 'Right', 'Right', 'Up', 'Up', 'Left', 'Down', 'Down', 'Left', 'Up', 'Up', 'Right', 'Down', 'Down', 'Left', 'Up', 'Up', 'Right', 'Down', 'Down', 'Left', 'Up', 'Up', 'Right', 'Down', 'Down', 'Left', 'Up', 'Up', 'Right', 'Down', 'Down', 'Left', 'Up', 'Right', 'Up', 'Left', 'Down', 'Down', 'Right', 'Up', 'Up', 'Left', 'Down', 'Down', 'Right', 'Up', 'Up', 'Left', 'Down', 'Down', 'Right', 'Up', 'Up', 'Left', 'Down', 'Down', 'Right', 'Up', 'Up', 'Left', 'Down', 'Down', 'Right', 'Right', 'Up', 'Up', 'Left', 'Down', 'Down', 'Left', 'Up', 'Up', 'Right', 'Down', 'Down', 'Left', 'Up', 'Up', 'Right', 'Down', 'Down', 'Left', 'Up', 'Up', 'Right', 'Down', 'Down', 'Left', 'Up', 'Up', 'Right', 'Down', 'Down', 'Left', 'Up', 'Right', 'Up', 'Left', 'Down', 'Down', 'Right', 'Up', 'Up', 'Left', 'Down', 'Down', 'Right', 'Up', 'Up', 'Left', 'Down', 'Down', 'Right', 'Up', 'Up', 'Left', 'Down', 'Down', 'Right', 'Up', 'Up', 'Left', 'Down', 'Down', 'Right', 'Right', 'Up', 'Up', 'Left', 'Down', 'Down', 'Left', 'Up', 'Up', 'Right', 'Down', 'Down', 'Left', 'Up', 'Up', 'Right', 'Down', 'Down', 'Left', 'Up', 'Up', 'Right', 'Down', 'Down', 'Left', 'Up', 'Up', 'Right', 'Down', 'Down', 'Left', 'Up', 'Right', 'Up', 'Left', 'Down', 'Down', 'Right', 'Up', 'Up', 'Left', 'Down', 'Down', 'Right', 'Up', 'Up', 'Left', 'Down', 'Down', 'Right', 'Up', 'Up', 'Left', 'Down', 'Down', 'Right', 'Up', 'Up', 'Left', 'Down', 'Down', 'Right', 'Right', 'Up', 'Left', 'Up', 'Left', 'Down', 'Down', 'Right', 'Up', 'Up', 'Left', 'Down', 'Down', 'Right', 'Up', 'Up', 'Left', 'Down', 'Down', 'Right', 'Up', 'Up', 'Left', 'Down', 'Down', 'Right', 'Up', 'Up', 'Left', 'Down', 'Down', 'Right', 'Right', 'Up', 'Up', 'Left', 'Down', 'Down', 'Left', 'Up', 'Up', 'Right', 'Down', 'Down', 'Left', 'Up', 'Up', 'Right', 'Down', 'Down', 'Left', 'Up', 'Up', 'Right', 'Down', 'Down', 'Left', 'Up', 'Up', 'Right', 'Down', 'Down', 'Left', 'Up', 'Right', 'Up', 'Left', 'Down', 'Down', 'Right', 'Up', 'Up', 'Left', 'Down', 'Down', 'Right', 'Up', 'Up', 'Left', 'Down', 'Down', 'Right', 'Up', 'Up', 'Left', 'Down', 'Down', 'Right', 'Up', 'Up', 'Left', 'Down', 'Down', 'Right', 'Right', 'Up', 'Up', 'Left', 'Down', 'Down', 'Left', 'Up', 'Up', 'Right', 'Down', 'Down', 'Left', 'Up', 'Up', 'Right', 'Down', 'Down', 'Left', 'Up', 'Up', 'Right', 'Down', 'Down', 'Left', 'Up', 'Up', 'Right', 'Down', 'Down', 'Right', 'Up', 'Up', 'Left', 'Down', 'Down', 'Left', 'Up', 'Up', 'Right', 'Down', 'Down', 'Left', 'Up', 'Up', 'Right', 'Down', 'Down', 'Left', 'Up', 'Up', 'Right', 'Down', 'Down', 'Left', 'Up', 'Up', 'Right', 'Down', 'Down', 'Left', 'Up', 'Right', 'Up', 'Left', 'Down', 'Down', 'Right', 'Up', 'Up', 'Left', 'Down', 'Down', 'Right', 'Up', 'Up', 'Left', 'Down', 'Down', 'Right', 'Up', 'Up', 'Left', 'Down', 'Down', 'Right', 'Up', 'Up', 'Left', 'Down', 'Down', 'Right', 'Right', 'Up', 'Up', 'Left', 'Down', 'Down', 'Left', 'Up', 'Up', 'Right', 'Down', 'Down', 'Left', 'Up', 'Up', 'Right', 'Down', 'Down', 'Left', 'Up', 'Up', 'Right', 'Down', 'Down', 'Left', 'Up', 'Up', 'Right', 'Down', 'Down', 'Left', 'Up', 'Right', 'Up', 'Left', 'Down', 'Down', 'Right', 'Up', 'Up', 'Left', 'Down', 'Down', 'Right', 'Up', 'Up', 'Left', 'Down', 'Down', 'Right', 'Up', 'Up', 'Left', 'Down', 'Down', 'Right', 'Up', 'Up', 'Left', 'Down', 'Down', 'Right', 'Right', 'Up', 'Up', 'Left', 'Down', 'Down', 'Left', 'Up', 'Up', 'Right', 'Down', 'Down', 'Left', 'Up', 'Up', 'Right', 'Down', 'Down', 'Left', 'Up', 'Up', 'Right', 'Down', 'Down', 'Left', 'Up', 'Up', 'Right', 'Down', 'Down', 'Left', 'Up', 'Right', 'Up', 'Left', 'Down', 'Down', 'Right', 'Up', 'Up', 'Left', 'Down', 'Down', 'Right', 'Up', 'Up', 'Left', 'Down', 'Down', 'Right', 'Up', 'Up', 'Left', 'Down', 'Down', 'Right', 'Up', 'Up', 'Left', 'Down', 'Down', 'Right', 'Right', 'Up', 'Left', 'Up', 'Left', 'Down', 'Down', 'Right', 'Up', 'Up', 'Left', 'Down', 'Down', 'Right', 'Up', 'Up', 'Left', 'Down', 'Down', 'Right', 'Up', 'Up', 'Left', 'Down', 'Down', 'Right', 'Up', 'Up', 'Left', 'Down', 'Down', 'Right', 'Right', 'Up', 'Left', 'Up', 'Left', 'Down', 'Down', 'Right', 'Up', 'Left', 'Up', 'Right', 'Down', 'Down', 'Right', 'Up', 'Left', 'Up', 'Left', 'Down', 'Right', 'Right', 'Down']\n",
            "cost_of_path: 9998\n",
            "nodes_expanded: 11802\n",
            "fringe_size: 12713\n",
            "max_fringe_size: 12723\n",
            "search_depth: 9998\n",
            "max_search_depth: 10000\n",
            "running_time: 1.6237826\n"
          ]
        }
      ]
    },
    {
      "cell_type": "markdown",
      "source": [
        "**Após aumentar o limite de profundidade para 10000, consegui rodar a sequência (1, 2, 3, 6, 5, 4, 0, 8, 7) e obtive essa saída, note que há muitos e muitos passos até chegar no objetivo final.**"
      ],
      "metadata": {
        "id": "R5rCsqyhzCmC"
      }
    },
    {
      "cell_type": "markdown",
      "source": [
        "**Por último, implementando o IDFS, temos esse código:**"
      ],
      "metadata": {
        "id": "UlOaumFSzHLa"
      }
    },
    {
      "cell_type": "code",
      "source": [
        "import time\n",
        "from collections import deque\n",
        "\n",
        "MOVES = {\n",
        "    -3: 'Up',\n",
        "     3: 'Down',\n",
        "    -1: 'Left',\n",
        "     1: 'Right'\n",
        "}\n",
        "\n",
        "def get_posicoes_vizinhas(index):\n",
        "    moves = []\n",
        "    row, col = divmod(index, 3)\n",
        "    if row > 0: moves.append(-3)\n",
        "    if row < 2: moves.append(3)\n",
        "    if col > 0: moves.append(-1)\n",
        "    if col < 2: moves.append(1)\n",
        "    return moves\n",
        "\n",
        "def mover(puzzle, move):\n",
        "    zero_idx = puzzle.index(0)\n",
        "    swap_idx = zero_idx + move\n",
        "    puzzle = list(puzzle)\n",
        "    puzzle[zero_idx], puzzle[swap_idx] = puzzle[swap_idx], puzzle[zero_idx]\n",
        "    return tuple(puzzle)\n",
        "\n",
        "def idfs(puzzle_inicial, limite_max=50):\n",
        "    for limite in range(limite_max + 1):\n",
        "        resultado = dfs(puzzle_inicial, limite)\n",
        "        if resultado:\n",
        "            resultado[\"metodo\"] = f\"IDDFS até profundidade {limite}\"\n",
        "            return resultado\n",
        "    return None\n",
        "\n",
        "def eh_soluvel(puzzle):\n",
        "    inversoes = 0\n",
        "    valores = [n for n in puzzle if n != 0]\n",
        "    for i in range(len(valores)):\n",
        "        for j in range(i + 1, len(valores)):\n",
        "            if valores[i] > valores[j]:\n",
        "                inversoes += 1\n",
        "    return inversoes % 2 == 0\n",
        "\n",
        "\n",
        "puzzle = (1, 2, 3, 6, 5, 4, 0, 8, 7)\n",
        "\n",
        "if eh_soluvel(puzzle):\n",
        "    resultado = idfs(puzzle, limite_max=30)\n",
        "    if resultado:\n",
        "        for chave, valor in resultado.items():\n",
        "            print(f\"{chave}: {valor}\")\n",
        "    else:\n",
        "        print(\"Solução não encontrada dentro do limite de profundidade.\")\n",
        "else:\n",
        "    print(\"Este puzzle não é solucionável.\")\n"
      ],
      "metadata": {
        "colab": {
          "base_uri": "https://localhost:8080/",
          "height": 0
        },
        "id": "U3_6n6EhzIWT",
        "outputId": "d3686c75-89db-419d-d369-6598f3a196f8"
      },
      "execution_count": 2,
      "outputs": [
        {
          "output_type": "stream",
          "name": "stdout",
          "text": [
            "path_to_goal: ['Up', 'Right', 'Right', 'Down', 'Left', 'Up', 'Left', 'Down', 'Right', 'Up', 'Right', 'Down', 'Left', 'Left', 'Up', 'Right', 'Down', 'Left', 'Up', 'Right', 'Down', 'Right', 'Up', 'Left', 'Down', 'Right']\n",
            "cost_of_path: 26\n",
            "nodes_expanded: 33941\n",
            "fringe_size: 20\n",
            "max_fringe_size: 36\n",
            "search_depth: 26\n",
            "max_search_depth: 26\n",
            "running_time: 0.08522723\n",
            "metodo: IDDFS até profundidade 26\n"
          ]
        }
      ]
    },
    {
      "cell_type": "markdown",
      "source": [
        "**Agora explicando a célula IDFS:**\n"
      ],
      "metadata": {
        "id": "JNL5jeAszKHk"
      }
    },
    {
      "cell_type": "code",
      "source": [
        "def iddfs(puzzle_inicial, limite_max=50):"
      ],
      "metadata": {
        "id": "Oiya3VfyzMtp"
      },
      "execution_count": null,
      "outputs": []
    },
    {
      "cell_type": "markdown",
      "source": [
        "**Essa linha define a função IDFS.**\n",
        "**Ela recebe dois parâmetros:**\n",
        "\n",
        "**puzzle_inicial: o estado inicial do quebra-cabeça (tupla com os números de 0 a 8).**\n",
        "**limite_max: o limite máximo de profundidade a ser testado (por padrão, 50).**"
      ],
      "metadata": {
        "id": "3enodSLMzOFm"
      }
    },
    {
      "cell_type": "code",
      "source": [
        "for limite in range(limite_max + 1):"
      ],
      "metadata": {
        "id": "r4ydl6_kzPt4"
      },
      "execution_count": null,
      "outputs": []
    },
    {
      "cell_type": "markdown",
      "source": [
        "**Aqui, o algoritmo começa uma repetição que vai de limite = 0 até limite = limite_max. A ideia é ir aumentando a profundidade da busca DFS passo a passo.**"
      ],
      "metadata": {
        "id": "fb2XWEkzzRF-"
      }
    },
    {
      "cell_type": "code",
      "source": [
        "resultado = dfs(puzzle_inicial, limite)"
      ],
      "metadata": {
        "id": "IucfOPTuzSG8"
      },
      "execution_count": null,
      "outputs": []
    },
    {
      "cell_type": "markdown",
      "source": [
        "**A cada passo, o algoritmo executa uma busca em profundidade (dfs) com o limite atual. Ele usa a função dfs que já está definida no código, que aceita esse parâmetro de profundidade.**"
      ],
      "metadata": {
        "id": "9PmE6SsezTD5"
      }
    },
    {
      "cell_type": "code",
      "source": [
        "if resultado:\n",
        "    resultado[\"metodo\"] = f\"IDFS até profundidade {limite}\"\n",
        "    return resultado"
      ],
      "metadata": {
        "id": "E4ddHF8qzUe1"
      },
      "execution_count": null,
      "outputs": []
    },
    {
      "cell_type": "markdown",
      "source": [
        "**Se a dfs encontrar a solução com o limite atual, o resultado é retornado imediatamente. A chave \"metodo\" é adicionada ao dicionário de estatísticas para indicar que foi feito com IDFS até a profundidade encontrada.**"
      ],
      "metadata": {
        "id": "7M_r2gC8zWSE"
      }
    },
    {
      "cell_type": "code",
      "source": [
        "return None"
      ],
      "metadata": {
        "id": "HmqDFbQ2zXPB"
      },
      "execution_count": null,
      "outputs": []
    },
    {
      "cell_type": "markdown",
      "source": [
        "**Se o loop termina sem encontrar uma solução (ou seja, nenhum dfs com profundidade de 0 até limite_max conseguiu encontrar o objetivo), a função retorna None, indicando que a busca falhou dentro do limite fornecido.**"
      ],
      "metadata": {
        "id": "TiZ9L6vWzXuD"
      }
    },
    {
      "cell_type": "markdown",
      "source": [
        "**OBS: Diferente de como expliquei o método DFS, agora no IDFS, usei a estrutura (Código - Explicação), ou seja, tera uma célula de código e depois uma célula de comentário.**"
      ],
      "metadata": {
        "id": "n7dDhtM1zY4O"
      }
    },
    {
      "cell_type": "markdown",
      "source": [
        "**Conclusão: de acordo com meus estudos e de acordo com os testes, nota-se que o método IDFS é melhor se quisermos um equilíbrio entre performance e consumo de memória, especialmente em problemas como o 8-puzzle.**\n",
        "\n",
        "**Resalva: Professor, peço desculpas por não ter, na saída dos meus códigos, o indicador de uso de memória. Quando fiz todo o trabalho, utilizei o Jupyter Notebook Lite, sem saber que tinha o Google Colab ou até mesmo uma versão melhor do Jupyter, pois não era muito familiarizado com esses tipos de ferramentas e ambientes. De qualquer forma, tentei.**"
      ],
      "metadata": {
        "id": "OVbUfB066krs"
      }
    }
  ]
}